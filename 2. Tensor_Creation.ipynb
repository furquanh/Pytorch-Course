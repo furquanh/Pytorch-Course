{
 "cells": [
  {
   "cell_type": "code",
   "execution_count": 14,
   "id": "421a54f6-4a04-43d2-b8e4-fedb3451356a",
   "metadata": {
    "tags": []
   },
   "outputs": [],
   "source": [
    "import torch\n",
    "import numpy as np"
   ]
  },
  {
   "cell_type": "markdown",
   "id": "50bf0c1d-7afe-4387-960f-c0c2c7922bb1",
   "metadata": {},
   "source": [
    "# Tensor Creation Operation\n",
    "\n",
    "### Table of Contents\n",
    "\n",
    "1. [torch.tensor](#torch.tensor)\n",
    "2. [torch.as_tensor](#torch.as_tensor)\n",
    "3. [torch.from_numpy](#torch.from_numpy)\n",
    "4. [torch.asarray](#torch.asarray)\n",
    "5. [torch.as_strided](#torch.as_strided)\n",
    "6. [torch.frombuffer](#torch.frombuffer)\n",
    "7. [torch.zeros](#torch.zeros)\n",
    "8. [torch.zeros_like](#torch.zeros_like)\n",
    "9. [torch.ones](#torch.ones)\n",
    "10. [torch.ones_like](#torch.ones_like)\n",
    "11. [torch.arange](#torch.arange)\n",
    "12. [torch.linspace](#torch.linspace)\n",
    "13. [torch.logspace](#torch.logspace)\n",
    "14. [torch.eye](#torch.eye)\n",
    "15. [torch.empty](#torch.empty)\n",
    "16. [torch.empty_strided](#torch.empty_strided)\n",
    "17. [torch.full](#torch.full)\n",
    "18. [torch.quantize_per_tensor](#torch.quantize_per_tensor)\n",
    "19. [torch.quantize_per_channel](#torch.quantize_per_channel)\n",
    "20. [torch.dequantize](#torch.dequantize)\n",
    "21. [torch.polar](#torch.polar)"
   ]
  },
  {
   "cell_type": "markdown",
   "id": "b9abe97e-1df3-4245-9a1e-2a6f210027be",
   "metadata": {},
   "source": [
    "<a id=\"torch.tensor\"></a>\n",
    "### 1. torch.tensor\n",
    "\n",
    "`torch.tensor(data, *, dtype=None, device=None, require_grad=False, pin_memory=False) -> Tensor`\n",
    "\n",
    "Constructs a tensor with no autograd history (also knows as \"leaf tensor\") by copying `data`. "
   ]
  },
  {
   "cell_type": "code",
   "execution_count": 11,
   "id": "74044958-6eea-417e-9e38-6e24a83b36ca",
   "metadata": {
    "tags": []
   },
   "outputs": [
    {
     "data": {
      "text/plain": [
       "tensor([[0.1000, 1.2000],\n",
       "        [2.2000, 3.1000],\n",
       "        [4.9000, 5.2000]])"
      ]
     },
     "execution_count": 11,
     "metadata": {},
     "output_type": "execute_result"
    }
   ],
   "source": [
    "torch.tensor([[0.1, 1.2], [2.2, 3.1], [4.9, 5.2]])"
   ]
  },
  {
   "cell_type": "code",
   "execution_count": 12,
   "id": "ccd0797f-a532-4104-aaad-3bc76f56fb54",
   "metadata": {
    "tags": []
   },
   "outputs": [
    {
     "data": {
      "text/plain": [
       "tensor([[0.1111, 0.2222, 0.3333]], device='cuda:0', dtype=torch.float64)"
      ]
     },
     "execution_count": 12,
     "metadata": {},
     "output_type": "execute_result"
    }
   ],
   "source": [
    "torch.tensor([[0.1111, 0.2222, 0.33333]], dtype=torch.float64, device=torch.device('cuda:0'))"
   ]
  },
  {
   "cell_type": "code",
   "execution_count": 13,
   "id": "3e26cf41-29fa-457f-a66e-b9be393e4afa",
   "metadata": {
    "tags": []
   },
   "outputs": [
    {
     "data": {
      "text/plain": [
       "tensor(3.1313)"
      ]
     },
     "execution_count": 13,
     "metadata": {},
     "output_type": "execute_result"
    }
   ],
   "source": [
    "torch.tensor(3.1313)"
   ]
  },
  {
   "cell_type": "markdown",
   "id": "1fe97c75-f452-412f-b261-99756d20fb15",
   "metadata": {},
   "source": [
    "<mark>*Warning:*</mark>\n",
    "\n",
    "`torch.tensor(data)`, here `data` is considered to be a python list or a numpy array. When working with tensors prefer using `torch.Tensore.clone()`, `torch.Tensor.detach()`, and `torch.Tensor.require_grad_()` for **readability**.\n",
    "\n",
    "Note that letting *t* be a tensor, `torch.tensor(t)` is equivalent to `t.clone().detach()`, and `torch.tensor(t, requires_grad=True)` is equivalent to `t.clone().detach().require_grad_(True)`."
   ]
  },
  {
   "cell_type": "markdown",
   "id": "43db5744-431c-4ee2-89e3-532ab74959ae",
   "metadata": {},
   "source": [
    "<a id=\"torch.as_tensor\"></a>\n",
    "### 2. torch.as_tensor\n",
    "\n",
    "`torch.as_tensor(data, dtype=None, device=None) -> Tensor`\n",
    "\n",
    "Converts `data` into a tensor, sharing data and preserving autograd history if possible.\n",
    "\n",
    "If `data` is already a tensor with the requested dtype and device then `data` itself is returned, but if `data` is a tensor with a different dtype or device then it's copies as if using `data.to(dtype=dtype, device=device)`\n",
    "\n",
    "If `data` is a Numpy array with same dtype and device then a tensor is constructed using `torch.from_numpy()`."
   ]
  },
  {
   "cell_type": "code",
   "execution_count": 15,
   "id": "b37ba9c9-9b01-49fe-97dc-6931567907bc",
   "metadata": {
    "tags": []
   },
   "outputs": [
    {
     "data": {
      "text/plain": [
       "tensor([1, 2, 3])"
      ]
     },
     "execution_count": 15,
     "metadata": {},
     "output_type": "execute_result"
    }
   ],
   "source": [
    "a = np.array([1, 2, 3])\n",
    "t = torch.as_tensor(a)\n",
    "t"
   ]
  },
  {
   "cell_type": "code",
   "execution_count": 16,
   "id": "a4161a69-593b-4bad-bfe7-3e0383355838",
   "metadata": {
    "tags": []
   },
   "outputs": [
    {
     "data": {
      "text/plain": [
       "array([-1,  2,  3])"
      ]
     },
     "execution_count": 16,
     "metadata": {},
     "output_type": "execute_result"
    }
   ],
   "source": [
    "t[0] = -1\n",
    "a"
   ]
  },
  {
   "cell_type": "markdown",
   "id": "9c5b7606-8503-4605-837f-a0b5a63e9817",
   "metadata": {},
   "source": [
    "As can be seen, both the newly created tensor `t` and numpy array `a` both share the same address in memory. However, if we move the tensor to some other device then they become independent."
   ]
  },
  {
   "cell_type": "code",
   "execution_count": 17,
   "id": "afe28bac-4d93-46cb-b3cd-91c221001901",
   "metadata": {
    "tags": []
   },
   "outputs": [
    {
     "data": {
      "text/plain": [
       "tensor([1, 2, 3], device='cuda:0')"
      ]
     },
     "execution_count": 17,
     "metadata": {},
     "output_type": "execute_result"
    }
   ],
   "source": [
    "a = np.array([1, 2, 3])\n",
    "t = torch.as_tensor(a, device=torch.device('cuda'))\n",
    "t"
   ]
  },
  {
   "cell_type": "code",
   "execution_count": 18,
   "id": "848de538-d7a2-4f47-8d63-9fd664c9c62e",
   "metadata": {
    "tags": []
   },
   "outputs": [
    {
     "data": {
      "text/plain": [
       "array([1, 2, 3])"
      ]
     },
     "execution_count": 18,
     "metadata": {},
     "output_type": "execute_result"
    }
   ],
   "source": [
    "t[0] = -1\n",
    "a"
   ]
  },
  {
   "cell_type": "markdown",
   "id": "59988102-ba84-4a21-82a9-4b7af4ddee21",
   "metadata": {},
   "source": [
    "<a id=\"torch.from_numpy\"></a>\n",
    "### 3. torch.from_numpy\n",
    "\n",
    "Create a Tensor from numpy-ndarray. The returned tensor and ndarray share the same memory, modification to the tensor will be relfected in the ndarray and vice vera. The returned tensor is **not resizable**."
   ]
  },
  {
   "cell_type": "code",
   "execution_count": 19,
   "id": "83ec4095-724e-4e89-b6e4-0da78ca47f0a",
   "metadata": {
    "tags": []
   },
   "outputs": [
    {
     "data": {
      "text/plain": [
       "tensor([1, 2, 3])"
      ]
     },
     "execution_count": 19,
     "metadata": {},
     "output_type": "execute_result"
    }
   ],
   "source": [
    "a = np.array([1, 2, 3])\n",
    "t = torch.from_numpy(a)\n",
    "t"
   ]
  },
  {
   "cell_type": "code",
   "execution_count": 20,
   "id": "0526ed6b-e00a-4ed9-abd3-d1a80f93136e",
   "metadata": {
    "tags": []
   },
   "outputs": [
    {
     "data": {
      "text/plain": [
       "array([-1,  2,  3])"
      ]
     },
     "execution_count": 20,
     "metadata": {},
     "output_type": "execute_result"
    }
   ],
   "source": [
    "t[0] = -1\n",
    "a"
   ]
  },
  {
   "cell_type": "markdown",
   "id": "916f9140-882a-4043-a124-522fae65c4fd",
   "metadata": {},
   "source": [
    "<a id=\"torch.asarray\"></a>\n",
    "### 4. torch.asarray"
   ]
  },
  {
   "cell_type": "markdown",
   "id": "e43c8ac9-7101-435d-b8da-f1bb614cef31",
   "metadata": {},
   "source": [
    "`torch.asarray(obj, *, dtype=None, device-None, copy=None, require_grad=False) -> Tensor`\n",
    "\n",
    "Converts `obj` to a tensor. `obj` can be one of: \n",
    "\n",
    "* a tensor\n",
    "* a NumPy array or a NumPy scalar\n",
    "* a DLPack capsule\n",
    "* an object that implements Python’s buffer protocol\n",
    "* a scalar\n",
    "* a sequence of scalars\n",
    "\n",
    "When `obj` is a tensor, NumPy array, or DLPack capsule the returned tensor will, by default, not require a gradient, have the same datatype as `obj`, be on the same device, and share memory with it. These properties can be controlled with the `dtype`, `device`, `copy`, and `requires_grad` keyword arguments.\n",
    "\n",
    "If the returned tensor is of a different datatype, on a different device, or a copy is requested then it will not share its memory with `obj`. If `require_grad` is `True` then the returned tensor will require a gradient, and if `obj` is also a tensor with an autograd history then the returned tensor will have the same history.\n",
    "\n",
    "When obj is not a tensor, NumPy array, or DLPack capsule but implements Python’s buffer protocol then the buffer is interpreted as an array of bytes grouped according to the size of the datatype passed to the dtype keyword argument. "
   ]
  },
  {
   "cell_type": "code",
   "execution_count": 21,
   "id": "7c087994-4d89-4a47-8f04-0d660bf9276c",
   "metadata": {
    "tags": []
   },
   "outputs": [
    {
     "data": {
      "text/plain": [
       "True"
      ]
     },
     "execution_count": 21,
     "metadata": {},
     "output_type": "execute_result"
    }
   ],
   "source": [
    "a = torch.tensor([1,2,3])\n",
    "b = torch.asarray(a)\n",
    "a.data_ptr() == b.data_ptr()"
   ]
  },
  {
   "cell_type": "code",
   "execution_count": 22,
   "id": "455d2464-ac09-446d-9ce2-5343046833fc",
   "metadata": {
    "tags": []
   },
   "outputs": [
    {
     "data": {
      "text/plain": [
       "False"
      ]
     },
     "execution_count": 22,
     "metadata": {},
     "output_type": "execute_result"
    }
   ],
   "source": [
    "# Force memory copy\n",
    "c = torch.asarray(a, copy=True)\n",
    "a.data_ptr() == c.data_ptr()"
   ]
  },
  {
   "cell_type": "code",
   "execution_count": 23,
   "id": "cb37240d-c0d0-4c80-b803-45c808aa30de",
   "metadata": {
    "tags": []
   },
   "outputs": [
    {
     "data": {
      "text/plain": [
       "tensor([3., 4., 5.], grad_fn=<AddBackward0>)"
      ]
     },
     "execution_count": 23,
     "metadata": {},
     "output_type": "execute_result"
    }
   ],
   "source": [
    "a = torch.tensor([1., 2., 3.], requires_grad=True)\n",
    "b = a + 2\n",
    "b"
   ]
  },
  {
   "attachments": {
    "4b75b537-aebe-433d-9b3e-b16e8f60bc7c.png": {
     "image/png": "[encoded data removed]"
    }
   },
   "cell_type": "markdown",
   "id": "dc653bc5-338c-421e-ab48-bfc49be94fd2",
   "metadata": {},
   "source": [
    "<a id=\"torch.as_strided\"></a>\n",
    "### 5. torch.as_strided\n",
    "\n",
    "`torch.as_strided(input, size, stride, storage_offset=None) -> Tensor`\n",
    "\n",
    "Create a view of an exsisting torch.Tensor `input` with speicified `size`, `stride` and `storage_offset`.\n",
    "\n",
    "![strided.png](attachment:4b75b537-aebe-433d-9b3e-b16e8f60bc7c.png)"
   ]
  },
  {
   "cell_type": "code",
   "execution_count": 24,
   "id": "9904678b-6cc5-446b-9484-1416718416e3",
   "metadata": {
    "tags": []
   },
   "outputs": [
    {
     "data": {
      "text/plain": [
       "tensor([[-0.1759,  0.4109, -0.4690],\n",
       "        [ 0.6198,  0.5134,  0.5342],\n",
       "        [ 2.3887,  0.7414,  0.2760]])"
      ]
     },
     "execution_count": 24,
     "metadata": {},
     "output_type": "execute_result"
    }
   ],
   "source": [
    "x = torch.randn(3,3)\n",
    "x"
   ]
  },
  {
   "cell_type": "code",
   "execution_count": 25,
   "id": "9bc01928-509e-4373-9878-3dbc6081655d",
   "metadata": {
    "tags": []
   },
   "outputs": [
    {
     "data": {
      "text/plain": [
       "tensor([[-0.1759, -0.4690],\n",
       "        [ 0.4109,  0.6198]])"
      ]
     },
     "execution_count": 25,
     "metadata": {},
     "output_type": "execute_result"
    }
   ],
   "source": [
    "t = torch.as_strided(x, (2,2), (1,2))\n",
    "t"
   ]
  },
  {
   "cell_type": "code",
   "execution_count": 26,
   "id": "417c311d-dc07-41ff-b587-5ec04ac50255",
   "metadata": {
    "tags": []
   },
   "outputs": [
    {
     "data": {
      "text/plain": [
       "tensor([[ 0.4109,  0.6198],\n",
       "        [-0.4690,  0.5134]])"
      ]
     },
     "execution_count": 26,
     "metadata": {},
     "output_type": "execute_result"
    }
   ],
   "source": [
    "t = torch.as_strided(x, (2,2), (1,2), 1)\n",
    "t"
   ]
  },
  {
   "cell_type": "markdown",
   "id": "d5acfe34-91c5-4784-8900-dce133dc945a",
   "metadata": {},
   "source": [
    "<a id=\"torch.frombuffer\"></a>\n",
    "### 6. torch.frombuffer\n",
    "\n",
    "`torch.frombuffer(buffer, *, dtype, count=1, offset=0, requires_grad=False) -> Tensor`\n",
    "\n",
    "Create a 1-dimensional `Tensor` from an object that implements the Python buffer protocol.\n",
    "\n",
    "Skips the first `offset` bytes in the buffer, and interprets the rest of the raw bytes as a 1-dimensional tensor of type `dtype` with `count` elements.\n",
    "\n",
    "One of these two conditions must be met:\n",
    "1. `count` is a positive non-zero number, and the total number of bytes in the buffer is less than `offset` plus `count` times the size (in bytes) of dtype.\n",
    "$$\n",
    "\\text{total number of bytes} \\le \\text{(offset + count) * size(dtype)} \\ \\textbf{where} \\ count > 0 \\ \\text{and size(dtype) is 8,16,32,64} \n",
    "$$\n",
    "2. `count` is negative, and the length (number of bytes) of the buffer subtracted by `offset` is a multiple of the size (in bytes) of `dtype`.\n",
    "$$\n",
    "(\\text{total number of bytes} - \\text{offset}) \\ \\% \\ \\text{size(dtype)} = 0 \\ \\textbf{where} \\ count < 0 \\ \\text{and size(dtype) is 8,16,32,64}\n",
    "$$\n",
    "\n",
    "The returned tensor and buffer share the same memory. Modification to the tensor will be reflected in the buffer and vice versa. The returned tensor is not resizable."
   ]
  },
  {
   "cell_type": "code",
   "execution_count": 27,
   "id": "c1e4cb76-d044-4827-aeab-b0366b0c62e5",
   "metadata": {
    "tags": []
   },
   "outputs": [
    {
     "data": {
      "text/plain": [
       "tensor([1, 2, 3], dtype=torch.int32)"
      ]
     },
     "execution_count": 27,
     "metadata": {},
     "output_type": "execute_result"
    }
   ],
   "source": [
    "import array\n",
    "a = array.array('i', [1,2,3])\n",
    "t = torch.frombuffer(a, dtype=torch.int32)\n",
    "t"
   ]
  },
  {
   "cell_type": "code",
   "execution_count": 32,
   "id": "fadf9429-852e-427e-b053-82b2d99a9299",
   "metadata": {
    "tags": []
   },
   "outputs": [
    {
     "data": {
      "text/plain": [
       "tensor([255], dtype=torch.int32)"
      ]
     },
     "execution_count": 32,
     "metadata": {},
     "output_type": "execute_result"
    }
   ],
   "source": [
    "# Interpets the signed char bytes as 32-bit integers.\n",
    "# Each 4 signed char elements will be interprted as 1 signed 32-bit integer\n",
    "\n",
    "a = array.array('b', [-1, 0, 0, 0])\n",
    "torch.frombuffer(a, dtype=torch.int32)"
   ]
  },
  {
   "cell_type": "markdown",
   "id": "f6e9c957-dd1d-4e44-8be5-ea9258f20c6f",
   "metadata": {},
   "source": [
    "<a id=\"torch.zeros\"></a>\n",
    "### 7. torch.zeros\n",
    "\n",
    "`torch.zeros(*size, *, out=None, dtype=None, layout=torch.strided, device=None, requires_grad=False) -> Tensor`\n",
    "\n",
    "Returns a tensor filled with scalar value 0, with the shape deficed by the variable argument `size`\n"
   ]
  },
  {
   "cell_type": "code",
   "execution_count": 33,
   "id": "4f59980a-4924-4932-bdf2-6f1ac7a97fe8",
   "metadata": {
    "tags": []
   },
   "outputs": [
    {
     "data": {
      "text/plain": [
       "tensor([[0., 0., 0.],\n",
       "        [0., 0., 0.]])"
      ]
     },
     "execution_count": 33,
     "metadata": {},
     "output_type": "execute_result"
    }
   ],
   "source": [
    "torch.zeros(2,3)"
   ]
  },
  {
   "cell_type": "code",
   "execution_count": 35,
   "id": "e61943a6-a5a1-4d8c-a461-f98746ba0de4",
   "metadata": {
    "tags": []
   },
   "outputs": [
    {
     "data": {
      "text/plain": [
       "tensor([0., 0., 0., 0., 0.])"
      ]
     },
     "execution_count": 35,
     "metadata": {},
     "output_type": "execute_result"
    }
   ],
   "source": [
    "torch.zeros(5)"
   ]
  },
  {
   "cell_type": "markdown",
   "id": "9fb2f150-2e5c-4deb-99c2-30f15e4dfd6c",
   "metadata": {},
   "source": [
    "<a id=\"torch.zeros_like\"></a>\n",
    "### 8. torch.zeros_like\n",
    "\n",
    "`torch.zero_like(input, *, dtype=None, layout=None, device=None, requires_grad=False, memory_format=torch.preserve_format) -> Tensor`\n",
    "\n",
    "Returns a tensor filled with scalar value 0, with the same size as `input`. `torch.zeros_like(input)` is equivalent to `torch.zeros(input.size(), dtpye=input.dtype, layout=input.layour, device=input.device)`. "
   ]
  },
  {
   "cell_type": "code",
   "execution_count": 36,
   "id": "72149108-9bed-41df-b2ff-eca40b9694b5",
   "metadata": {
    "tags": []
   },
   "outputs": [
    {
     "data": {
      "text/plain": [
       "tensor([[0., 0., 0.],\n",
       "        [0., 0., 0.]])"
      ]
     },
     "execution_count": 36,
     "metadata": {},
     "output_type": "execute_result"
    }
   ],
   "source": [
    "input = torch.empty(2,3)\n",
    "torch.zeros_like(input)"
   ]
  },
  {
   "cell_type": "markdown",
   "id": "6dac035b-b4bf-4ac3-bfdb-c9c514c73014",
   "metadata": {},
   "source": [
    "<a id=\"torch.ones\"></a>\n",
    "### 9. torch.ones\n",
    "\n",
    "`torch.ones(*size, *, out=None, dtype=None, layout=torch.strided, device=None, requires_grad=False) -> Tensor`\n",
    "\n",
    "Returns a tensor filled with scalar value 1, with the shape deficed by the variable argument `size`."
   ]
  },
  {
   "cell_type": "code",
   "execution_count": 37,
   "id": "2adba243-a273-40b0-9c42-7e31df0178e7",
   "metadata": {
    "tags": []
   },
   "outputs": [
    {
     "data": {
      "text/plain": [
       "tensor([[1., 1., 1.],\n",
       "        [1., 1., 1.]])"
      ]
     },
     "execution_count": 37,
     "metadata": {},
     "output_type": "execute_result"
    }
   ],
   "source": [
    "torch.ones(2,3)"
   ]
  },
  {
   "cell_type": "code",
   "execution_count": 38,
   "id": "f467719e-ea69-4525-b3dd-3106a47237ab",
   "metadata": {
    "tags": []
   },
   "outputs": [
    {
     "data": {
      "text/plain": [
       "tensor([1., 1., 1., 1., 1.])"
      ]
     },
     "execution_count": 38,
     "metadata": {},
     "output_type": "execute_result"
    }
   ],
   "source": [
    "torch.ones(5)"
   ]
  },
  {
   "cell_type": "markdown",
   "id": "d151d372-08e7-4ec0-9780-b01a733c7622",
   "metadata": {},
   "source": [
    "<a id=\"torch.ones_like\"></a>\n",
    "### 10. torch.ones_like \n",
    "\n",
    "same as zero_like, but with ones."
   ]
  },
  {
   "cell_type": "code",
   "execution_count": 39,
   "id": "bc4a7d4b-1701-4463-95a2-8353d66dded4",
   "metadata": {
    "tags": []
   },
   "outputs": [
    {
     "data": {
      "text/plain": [
       "tensor([[1., 1., 1.],\n",
       "        [1., 1., 1.]])"
      ]
     },
     "execution_count": 39,
     "metadata": {},
     "output_type": "execute_result"
    }
   ],
   "source": [
    "input = torch.empty(2,3)\n",
    "torch.ones_like(input)"
   ]
  },
  {
   "cell_type": "markdown",
   "id": "1fa0d638-5b37-4032-b621-689cf07e1fd8",
   "metadata": {},
   "source": [
    "<a id=\"torch.arange\"></a>\n",
    "### 11. torch.arange\n",
    "\n",
    "`torch.arange(start=0, end, step=1, *, out=None, dtype=None, layout=torch.strided, device=None, require_grad=False) -> Tensor`\n",
    "\n",
    "Returns a 1-D tensor of size $$\\lceil\\frac{end-start}{step}\\rceil$$ with values from interval `[start, end)` taken with common difference `step` beginning from start.\n",
    "\n",
    "Note than non-integer `step` is subject to floating point rounding error when comparing against `end`; to avoid inconsistency, its advisable to subtract a small epsilon from `end` in such cases. $$out_{i+1} = out_i + step$$"
   ]
  },
  {
   "cell_type": "code",
   "execution_count": 40,
   "id": "e5c05f75-e9d8-41cb-bae7-59c6a7611c18",
   "metadata": {
    "tags": []
   },
   "outputs": [
    {
     "data": {
      "text/plain": [
       "tensor([0, 1, 2, 3, 4])"
      ]
     },
     "execution_count": 40,
     "metadata": {},
     "output_type": "execute_result"
    }
   ],
   "source": [
    "torch.arange(5)"
   ]
  },
  {
   "cell_type": "code",
   "execution_count": 41,
   "id": "b3fdcd22-fe38-403c-8bd4-ea4b4ccf03b0",
   "metadata": {
    "tags": []
   },
   "outputs": [
    {
     "data": {
      "text/plain": [
       "tensor([1, 2, 3])"
      ]
     },
     "execution_count": 41,
     "metadata": {},
     "output_type": "execute_result"
    }
   ],
   "source": [
    "torch.arange(1,4)"
   ]
  },
  {
   "cell_type": "code",
   "execution_count": 42,
   "id": "ded32029-a95b-4a7a-834a-c6a066f8db3d",
   "metadata": {
    "tags": []
   },
   "outputs": [
    {
     "data": {
      "text/plain": [
       "tensor([1.0000, 1.5000, 2.0000])"
      ]
     },
     "execution_count": 42,
     "metadata": {},
     "output_type": "execute_result"
    }
   ],
   "source": [
    "torch.arange(1, 2.5, 0.5)"
   ]
  },
  {
   "cell_type": "markdown",
   "id": "99be52d9-9074-4e16-bddc-9ac716e0aa99",
   "metadata": {},
   "source": [
    "<a id=\"torch.linspace\"></a>\n",
    "### 12. torch.linspace\n",
    "\n",
    "`torch.linspace(start, end, steps, *, out=None, dtype=None, layout=torch.strided, device=None. requires_grad=False) -> Tensor`\n",
    "\n",
    "Creates a one-dimensional tensor of size `steps` whose values are evenly spaces from `start` to `end`, inclusive"
   ]
  },
  {
   "cell_type": "code",
   "execution_count": 44,
   "id": "b0982876-858d-4e43-a88b-fd3dffa79df1",
   "metadata": {
    "tags": []
   },
   "outputs": [
    {
     "data": {
      "text/plain": [
       "tensor([ 3.0000,  4.7500,  6.5000,  8.2500, 10.0000])"
      ]
     },
     "execution_count": 44,
     "metadata": {},
     "output_type": "execute_result"
    }
   ],
   "source": [
    "torch.linspace(3, 10, steps=5)"
   ]
  },
  {
   "cell_type": "code",
   "execution_count": 45,
   "id": "42bc3cd5-a661-4e4c-90d3-f58ba1ce4ca9",
   "metadata": {
    "tags": []
   },
   "outputs": [
    {
     "data": {
      "text/plain": [
       "tensor([-10.,  -5.,   0.,   5.,  10.])"
      ]
     },
     "execution_count": 45,
     "metadata": {},
     "output_type": "execute_result"
    }
   ],
   "source": [
    "torch.linspace(-10, 10, steps=5)"
   ]
  },
  {
   "cell_type": "code",
   "execution_count": 47,
   "id": "43601fea-1b22-48c1-b5bf-83e488425420",
   "metadata": {
    "tags": []
   },
   "outputs": [
    {
     "data": {
      "text/plain": [
       "tensor([-10.,  -5.,   0.,   5.,  10.])"
      ]
     },
     "execution_count": 47,
     "metadata": {},
     "output_type": "execute_result"
    }
   ],
   "source": [
    "torch.linspace(start=-10, end=10, steps=5)"
   ]
  },
  {
   "cell_type": "code",
   "execution_count": 46,
   "id": "bd9f5247-6e4b-46af-a753-a0bb9c2369a3",
   "metadata": {
    "tags": []
   },
   "outputs": [
    {
     "data": {
      "text/plain": [
       "tensor([-10.])"
      ]
     },
     "execution_count": 46,
     "metadata": {},
     "output_type": "execute_result"
    }
   ],
   "source": [
    "torch.linspace(start=-10, end=10, steps=1)"
   ]
  },
  {
   "cell_type": "markdown",
   "id": "2b9eb0fa-8d08-4121-bc24-19e2e82c42a2",
   "metadata": {},
   "source": [
    "<a id=\"torch.logspace\"></a>\n",
    "### 13. torch.logspace\n",
    "\n",
    "`torch.logspace(start, end, steps, base=10.0, *, out=None, dtype=None, layout=torch.strided, device=None, requires_grad=False) -> Tensor`\n",
    "\n",
    "Create a one-dimensional tensor of size `steps` whose values are evenly spaced from $base^{start}$ to $base^{end}$, inclusive, on a logarithmic scale with base `base`.\n",
    "\n",
    "$$\n",
    "(base^{start}, base^{start+\\frac{end-start}{steps-1}}, ... , base^{start+(steps-2)\\frac{end-start}{steps-1}}, base^{end})\n",
    "$$"
   ]
  },
  {
   "cell_type": "code",
   "execution_count": 48,
   "id": "07b67801-88e8-42ed-ac1b-64c2faf88ea1",
   "metadata": {
    "tags": []
   },
   "outputs": [
    {
     "data": {
      "text/plain": [
       "tensor([1.0000e-10, 1.0000e-05, 1.0000e+00, 1.0000e+05, 1.0000e+10])"
      ]
     },
     "execution_count": 48,
     "metadata": {},
     "output_type": "execute_result"
    }
   ],
   "source": [
    "torch.logspace(start=-10, end=10, steps=5)"
   ]
  },
  {
   "cell_type": "code",
   "execution_count": 49,
   "id": "d02982d4-5d13-4cde-afeb-22520250bedc",
   "metadata": {
    "tags": []
   },
   "outputs": [
    {
     "data": {
      "text/plain": [
       "tensor([ 1.2589,  2.1135,  3.5481,  5.9566, 10.0000])"
      ]
     },
     "execution_count": 49,
     "metadata": {},
     "output_type": "execute_result"
    }
   ],
   "source": [
    "torch.logspace(start=0.1, end=1.0, steps=5)"
   ]
  },
  {
   "cell_type": "markdown",
   "id": "81283123-b95c-4b2e-a320-47c9b0f5659e",
   "metadata": {},
   "source": [
    "<a id=\"torch.eye\"></a>\n",
    "### 14. torch.eye\n",
    "\n",
    "`torch.eye(n, m=None, *, out=None, dtype=None, layout=torch.strided, device=None, requires_grad=False)`\n",
    "\n",
    "Returns a 2-D tensor with ones on the diagonal and zeros elsewhere.\n",
    "\n",
    "`n` is the number of rows and `m` is the number of columns with default being `n`"
   ]
  },
  {
   "cell_type": "code",
   "execution_count": 50,
   "id": "a0af17a3-0896-4948-8e14-a9bba221529f",
   "metadata": {
    "tags": []
   },
   "outputs": [
    {
     "data": {
      "text/plain": [
       "tensor([[1., 0., 0.],\n",
       "        [0., 1., 0.],\n",
       "        [0., 0., 1.]])"
      ]
     },
     "execution_count": 50,
     "metadata": {},
     "output_type": "execute_result"
    }
   ],
   "source": [
    "torch.eye(3)"
   ]
  },
  {
   "cell_type": "markdown",
   "id": "0bdba534-37b3-402c-8c0e-ab88b29020a5",
   "metadata": {},
   "source": [
    "<a id=\"torch.empty\"></a>\n",
    "### 15. torch.empty\n",
    "\n",
    "`torch.empty(*size, *, out=None. dtype=None, layout=torch.strided, device=None, requires_grad=False, pin_memory=False, memory_format=torch.contiguous_format) -> Tensor`\n",
    "\n",
    "Returns a tensor filled with unintialized data. The shape of the tensor is defined by variable argument `size`.\n",
    "\n",
    "`size (int..)` is a sequence of integers defining the shape of the output tensor. Can be a variable number of arguments or a collection like a list or tuple."
   ]
  },
  {
   "cell_type": "code",
   "execution_count": 51,
   "id": "7c30e1e4-92e5-44ad-a343-b86cef052e0d",
   "metadata": {
    "tags": []
   },
   "outputs": [
    {
     "data": {
      "text/plain": [
       "tensor([[100869428,         0,         0],\n",
       "        [        0,         1,         0]])"
      ]
     },
     "execution_count": 51,
     "metadata": {},
     "output_type": "execute_result"
    }
   ],
   "source": [
    "torch.empty((2,3),  dtype=torch.int64)"
   ]
  },
  {
   "cell_type": "code",
   "execution_count": 52,
   "id": "e0c9efd4-918a-46dc-bcee-9eb81b8adebb",
   "metadata": {
    "tags": []
   },
   "outputs": [
    {
     "data": {
      "text/plain": [
       "tensor([[191016388,         0,         1],\n",
       "        [        0,        80,        96]])"
      ]
     },
     "execution_count": 52,
     "metadata": {},
     "output_type": "execute_result"
    }
   ],
   "source": [
    "torch.empty([2,3],  dtype=torch.int64)"
   ]
  },
  {
   "cell_type": "code",
   "execution_count": 53,
   "id": "da699ac3-9649-4b4d-bcf3-18c1dc0fc10f",
   "metadata": {
    "tags": []
   },
   "outputs": [
    {
     "data": {
      "text/plain": [
       "tensor([140713023863984,       190305680,              32,              64,\n",
       "              190265521])"
      ]
     },
     "execution_count": 53,
     "metadata": {},
     "output_type": "execute_result"
    }
   ],
   "source": [
    "torch.empty(5,  dtype=torch.int64)"
   ]
  },
  {
   "cell_type": "markdown",
   "id": "b36e3d92-59dc-49c5-b9ff-63d75242777a",
   "metadata": {},
   "source": [
    "<a id=\"torch.empty_like\"></a>\n",
    "### 15. torch.empty_like\n",
    "\n",
    "Returns an unintialized tensor with the same size as `input`. `torch.empty_like(input)` is equivalent to `torch.empty(input.size(), dtype=input.dtype, layout=input.layout, device=input.device)`."
   ]
  },
  {
   "cell_type": "code",
   "execution_count": 54,
   "id": "e018da32-4fe8-48df-a89b-6d6e3482f7f1",
   "metadata": {
    "tags": []
   },
   "outputs": [
    {
     "data": {
      "text/plain": [
       "tensor([[-1298798110,  1069314316,           0],\n",
       "        [          0,           0,           0]], device='cuda:0',\n",
       "       dtype=torch.int32)"
      ]
     },
     "execution_count": 54,
     "metadata": {},
     "output_type": "execute_result"
    }
   ],
   "source": [
    "a = torch.empty((2,3), dtype=torch.int32, device = 'cuda')\n",
    "torch.empty_like(a)"
   ]
  },
  {
   "cell_type": "markdown",
   "id": "3322ccb0-1582-40fd-8609-004acb444d67",
   "metadata": {},
   "source": [
    "<a id=\"torch.empty_strided\"></a>\n",
    "### 16. torch.empty_strided\n",
    "\n",
    "`torch.empty_strided(size, stride, *, dtype=None, layout=None, device=None, requires_grad=False, pin_memory=False) → Tensor`\n",
    "\n",
    "Create a tensor with specified `size` and `stide` and filled with undefiend data."
   ]
  },
  {
   "cell_type": "code",
   "execution_count": 56,
   "id": "f50e389a-8c5a-412d-b5bb-ca8aea67a19d",
   "metadata": {
    "tags": []
   },
   "outputs": [
    {
     "data": {
      "text/plain": [
       "tensor([[4.3094e+08, 4.3094e+08, 7.1760e+22],\n",
       "        [4.5909e-41, 4.5909e-41, 7.2250e+28]])"
      ]
     },
     "execution_count": 56,
     "metadata": {},
     "output_type": "execute_result"
    }
   ],
   "source": [
    "a = torch.empty_strided((2,3), (1,2))\n",
    "a"
   ]
  },
  {
   "cell_type": "code",
   "execution_count": 57,
   "id": "986b5b80-675f-45ff-ad2e-3948a417fcaa",
   "metadata": {
    "tags": []
   },
   "outputs": [
    {
     "data": {
      "text/plain": [
       "(1, 2)"
      ]
     },
     "execution_count": 57,
     "metadata": {},
     "output_type": "execute_result"
    }
   ],
   "source": [
    "a.stride()"
   ]
  },
  {
   "cell_type": "code",
   "execution_count": 58,
   "id": "1ad6d9d6-5507-4d8f-bd1d-894fee268e94",
   "metadata": {
    "tags": []
   },
   "outputs": [
    {
     "data": {
      "text/plain": [
       "torch.Size([2, 3])"
      ]
     },
     "execution_count": 58,
     "metadata": {},
     "output_type": "execute_result"
    }
   ],
   "source": [
    "a.size()"
   ]
  },
  {
   "cell_type": "markdown",
   "id": "87471ad4-d688-43fd-8760-d1137dc95cbf",
   "metadata": {},
   "source": [
    "<a id=\"torch.full\"></a>\n",
    "### 17. torch.full\n",
    "\n",
    "`torch.full(size, fill_value, *, out=None, dtype=None, layout=torch.strided, device=None, requires_grad=False) -> Tensor`\n",
    "\n",
    "Creates a tensor of size `size` filles with `fill_value`. The tensor's dtype is inferrend from `fill_value` "
   ]
  },
  {
   "cell_type": "code",
   "execution_count": 59,
   "id": "45e11e9f-510b-4264-bf83-ce72056ce1d5",
   "metadata": {
    "tags": []
   },
   "outputs": [
    {
     "data": {
      "text/plain": [
       "tensor([[3.1416, 3.1416, 3.1416],\n",
       "        [3.1416, 3.1416, 3.1416]])"
      ]
     },
     "execution_count": 59,
     "metadata": {},
     "output_type": "execute_result"
    }
   ],
   "source": [
    "torch.full((2,3), 3.141592)"
   ]
  },
  {
   "cell_type": "markdown",
   "id": "fcf7f059-c59b-44ab-8b6c-0018dda10aad",
   "metadata": {},
   "source": [
    "<a id=\"torch.full_like\"></a>\n",
    "### 18. torch.full_like\n",
    "\n",
    "`torch.full_like(input, fill_value, \\*, dtype=None, layout=torch.strided, device=None, requires_grad=False, memory_format=torch.preserve_format) → Tensor`\n",
    "\n",
    "Returns a tensor with same size as `input` filled with `fill_value`. `torch.full_like(input, fill_value)` is equivalent to `torch.full(input.size(), fill_value, dtype+input.dtype, layout=input.layout, device=input.device)`.\n"
   ]
  },
  {
   "cell_type": "code",
   "execution_count": 60,
   "id": "11dc6657-9ac0-445e-8a02-65c4cccc6af2",
   "metadata": {
    "tags": []
   },
   "outputs": [
    {
     "data": {
      "text/plain": [
       "tensor([[2., 2., 2.],\n",
       "        [2., 2., 2.]], device='cuda:0')"
      ]
     },
     "execution_count": 60,
     "metadata": {},
     "output_type": "execute_result"
    }
   ],
   "source": [
    "a = torch.ones((2,3), device='cuda')\n",
    "torch.full_like(a, 2)"
   ]
  },
  {
   "cell_type": "markdown",
   "id": "e1e30945-5973-4d23-92ac-6a0d4e83631c",
   "metadata": {},
   "source": [
    "<a id=\"torch.quantize_per_tensor\"></a>\n",
    "### 18. torch.quantize_per_tensor\n",
    "\n",
    "`torch.quantize_per_tensor(input, scale, zero_point, dtype) -> Tensor`\n",
    "\n",
    "Converts a float tensor to a quantized tensor with given scale and zero point.\n",
    "* input (Tensor) – float tensor or list of tensors to quantize\n",
    "* scale (float or Tensor) – scale to apply in quantization formula\n",
    "* zero_point (int or Tensor) – offset in integer value that maps to float zero\n",
    "* dtype (torch.dtype) – the desired data type of returned tensor. Has to be one of the quantized dtypes: torch.quint8, torch.qint8, torch.qint32"
   ]
  },
  {
   "cell_type": "code",
   "execution_count": 62,
   "id": "b95efaa1-908a-4ce5-a40e-bb8058b12487",
   "metadata": {
    "tags": []
   },
   "outputs": [
    {
     "data": {
      "text/plain": [
       "tensor([-1.0000,  0.1000,  1.1000,  2.0000], size=(4,), dtype=torch.quint8,\n",
       "       quantization_scheme=torch.per_tensor_affine, scale=0.1, zero_point=10)"
      ]
     },
     "execution_count": 62,
     "metadata": {},
     "output_type": "execute_result"
    }
   ],
   "source": [
    "torch.quantize_per_tensor(torch.tensor([-1.031, 0.0532, 1.123, 2.0]), 0.1, 10, torch.quint8)"
   ]
  },
  {
   "cell_type": "code",
   "execution_count": 63,
   "id": "f04e176b-c51d-407d-a66d-d827a6b33980",
   "metadata": {
    "tags": []
   },
   "outputs": [
    {
     "data": {
      "text/plain": [
       "tensor([ 0, 10, 20, 30], dtype=torch.uint8)"
      ]
     },
     "execution_count": 63,
     "metadata": {},
     "output_type": "execute_result"
    }
   ],
   "source": [
    "torch.quantize_per_tensor(torch.tensor([-10, 0.0, 1.0, 2.0]), 0.1, 10, torch.quint8).int_repr()"
   ]
  },
  {
   "cell_type": "code",
   "execution_count": 64,
   "id": "07fc4a43-5208-4a4b-9023-71d8aa271656",
   "metadata": {
    "tags": []
   },
   "outputs": [
    {
     "data": {
      "text/plain": [
       "(tensor([-1.,  0.], size=(2,), dtype=torch.quint8,\n",
       "        quantization_scheme=torch.per_tensor_affine, scale=0.10000000149011612,\n",
       "        zero_point=10),\n",
       " tensor([-2.,  2.], size=(2,), dtype=torch.quint8,\n",
       "        quantization_scheme=torch.per_tensor_affine, scale=0.20000000298023224,\n",
       "        zero_point=20))"
      ]
     },
     "execution_count": 64,
     "metadata": {},
     "output_type": "execute_result"
    }
   ],
   "source": [
    "torch.quantize_per_tensor([torch.tensor([-1.0, 0.0]), torch.tensor([-2.0, 2.0])], \n",
    "                         torch.tensor([0.1, 0.2]), torch.tensor([10,20]), torch.quint8)"
   ]
  },
  {
   "cell_type": "code",
   "execution_count": 65,
   "id": "c730458d-a43e-4cbd-b890-b14ed4c3ff1d",
   "metadata": {
    "tags": []
   },
   "outputs": [
    {
     "data": {
      "text/plain": [
       "tensor([-1.,  0.,  1.,  2.], size=(4,), dtype=torch.quint8,\n",
       "       quantization_scheme=torch.per_tensor_affine, scale=0.10000000149011612,\n",
       "       zero_point=10)"
      ]
     },
     "execution_count": 65,
     "metadata": {},
     "output_type": "execute_result"
    }
   ],
   "source": [
    "torch.quantize_per_tensor(torch.tensor([-1.0, 0.0, 1.0, 2.0]),\n",
    "                         torch.tensor(0.1), torch.tensor(10), torch.quint8)"
   ]
  },
  {
   "cell_type": "markdown",
   "id": "6fa4671c-0191-478a-87c4-ff02eb1464ff",
   "metadata": {},
   "source": [
    "<a id=\"torch.quantize_per_channel\"></a>\n",
    "### 19. torch.quantize_per_channel\n",
    "\n",
    "`torch.quantize_per_channel(input, scales, zero_points, axis, dtype) → Tensor`\n",
    "\n",
    "Converts a float tensor to per-channel quantized tensor with given scale and zero points."
   ]
  },
  {
   "cell_type": "code",
   "execution_count": 67,
   "id": "5e61a243-051f-4c1f-85ed-d0f0df0a19ea",
   "metadata": {
    "tags": []
   },
   "outputs": [
    {
     "data": {
      "text/plain": [
       "tensor([[  0,  10],\n",
       "        [100, 200]], dtype=torch.uint8)"
      ]
     },
     "execution_count": 67,
     "metadata": {},
     "output_type": "execute_result"
    }
   ],
   "source": [
    "x = torch.tensor([[-1.0, 0.0], [1.0, 2.0]])\n",
    "torch.quantize_per_channel(x, torch.tensor([0.1, 0.01]),\n",
    "                          torch.tensor([10, 0]), 0, torch.quint8).int_repr()"
   ]
  },
  {
   "cell_type": "markdown",
   "id": "d24ba8bb-b7e8-46cd-824a-eb7f9a2911ac",
   "metadata": {},
   "source": [
    "<a id=\"torch.dequantize\"></a>\n",
    "### 20. torch.dequantize\n",
    "\n",
    "`torch.dequantize(tensor) -> Tensor`\n",
    "\n",
    "Returns a fp32 Tensor by dequantizing a qunatized Tensor. It can also take a list of quantized tensors."
   ]
  },
  {
   "cell_type": "code",
   "execution_count": 68,
   "id": "53b30e71-8e15-4962-a1fa-54c31f3473b7",
   "metadata": {
    "tags": []
   },
   "outputs": [
    {
     "data": {
      "text/plain": [
       "tensor([[-1.,  0.],\n",
       "        [ 1.,  2.]])"
      ]
     },
     "execution_count": 68,
     "metadata": {},
     "output_type": "execute_result"
    }
   ],
   "source": [
    "torch.quantize_per_tensor(torch.tensor([-1.031, 0.0532, 1.123, 2.0]), 0.1, 10, torch.quint8)\n",
    "torch.dequantize(x)"
   ]
  },
  {
   "cell_type": "markdown",
   "id": "ba1b5200-0433-4061-a4f5-5243938690ad",
   "metadata": {},
   "source": [
    "<a id=\"torch.polar\"></a>\n",
    "### 21. torch.polar\n",
    "\n",
    "`torch.polar(abs, angle, *, out=None) -> Tensor`\n",
    "\n",
    "Constructs a complex tensor whose elements are Cartesian coordinates correpondings to the polar coordinated with absolute value `abs` and angle `angle`\n",
    "\n",
    "$$\n",
    "out = abs \\cdot \\cos{(angle)} + abs \\cdot \\sin{(angle)} \\cdot j\n",
    "$$\n",
    "\n",
    "* abs (Tensor) - The absolute value the complex tensor. Must be float or double.\n",
    "* angle (Tensor) - The angle of the complex tensor. Must be same dtype as `abs`"
   ]
  },
  {
   "cell_type": "code",
   "execution_count": 69,
   "id": "8b8f05d6-c8c2-49fa-901f-6a1bf86ae433",
   "metadata": {
    "tags": []
   },
   "outputs": [
    {
     "data": {
      "text/plain": [
       "(tensor([1., 2.], dtype=torch.float64),\n",
       " tensor([1.5708, 3.9270], dtype=torch.float64))"
      ]
     },
     "execution_count": 69,
     "metadata": {},
     "output_type": "execute_result"
    }
   ],
   "source": [
    "import numpy as np\n",
    "abs = torch.tensor([1,2], dtype=torch.float64)\n",
    "angle = torch.tensor([np.pi / 2, 5 * np.pi / 4], dtype=torch.float64)\n",
    "abs, angle"
   ]
  },
  {
   "cell_type": "code",
   "execution_count": 70,
   "id": "a3cbde77-6152-4491-addb-ef8eb6514f26",
   "metadata": {
    "tags": []
   },
   "outputs": [
    {
     "data": {
      "text/plain": [
       "tensor([ 6.1232e-17+1.0000j, -1.4142e+00-1.4142j], dtype=torch.complex128)"
      ]
     },
     "execution_count": 70,
     "metadata": {},
     "output_type": "execute_result"
    }
   ],
   "source": [
    "z = torch.polar(abs, angle)\n",
    "z"
   ]
  },
  {
   "cell_type": "markdown",
   "id": "835d20b2-b723-4512-82aa-d1d29cbd63ba",
   "metadata": {},
   "source": [
    "<a id=\"torch.heaviside\"></a>\n",
    "### 21. torch.heaviside\n",
    "\n",
    "`torch.heaviside(input, values, *, out=None) -> Tensor`\n",
    "\n",
    "Computes the Heaviside step function for each element in `input`. The Heaviside step function is defined as:\n",
    "\n",
    "$$\n",
    "heaviside(input,values) = \n",
    "\\begin{cases} \n",
    "  0, & \\text{if } input < 0, \\\\\n",
    "  values, & \\text{if } input == 0, \\\\\n",
    "  1, & \\text{if } input \\geq 0,\n",
    "\\end{cases}\n",
    "$$\n",
    "\n",
    "* input (Tensor) - the input tensor\n",
    "* values (Tensor) - The values to use where `input` is zero"
   ]
  },
  {
   "cell_type": "code",
   "execution_count": 71,
   "id": "ef460ea9-8a88-4949-89f1-1325cff3acfb",
   "metadata": {
    "tags": []
   },
   "outputs": [
    {
     "data": {
      "text/plain": [
       "tensor([0.0000, 0.5000, 1.0000])"
      ]
     },
     "execution_count": 71,
     "metadata": {},
     "output_type": "execute_result"
    }
   ],
   "source": [
    "input = torch.tensor([-1.5, 0, 2.0])\n",
    "values = torch.tensor([0.5])\n",
    "torch.heaviside(input, values)"
   ]
  },
  {
   "cell_type": "code",
   "execution_count": 72,
   "id": "d00e6fa8-4129-4ca9-8209-bbcca0ceea3f",
   "metadata": {
    "tags": []
   },
   "outputs": [
    {
     "data": {
      "text/plain": [
       "tensor([ 0., -2.,  1.])"
      ]
     },
     "execution_count": 72,
     "metadata": {},
     "output_type": "execute_result"
    }
   ],
   "source": [
    "values = torch.tensor([1.2, -2.0, 3.5])\n",
    "torch.heaviside(input, values)"
   ]
  },
  {
   "cell_type": "code",
   "execution_count": null,
   "id": "f63a2adc-ac96-4f03-ab71-4ea89bc0e147",
   "metadata": {},
   "outputs": [],
   "source": []
  }
 ],
 "metadata": {
  "kernelspec": {
   "display_name": "augment",
   "language": "python",
   "name": "augmentation-project"
  },
  "language_info": {
   "codemirror_mode": {
    "name": "ipython",
    "version": 3
   },
   "file_extension": ".py",
   "mimetype": "text/x-python",
   "name": "python",
   "nbconvert_exporter": "python",
   "pygments_lexer": "ipython3",
   "version": "3.9.18"
  }
 },
 "nbformat": 4,
 "nbformat_minor": 5
}
