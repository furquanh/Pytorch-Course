{
 "cells": [
  {
   "cell_type": "markdown",
   "id": "d982aeb4-db3f-4c00-8fd2-230d26cc40a7",
   "metadata": {
    "tags": []
   },
   "source": [
    "# Tensors\n",
    "\n",
    "* A torch.Tensor is a multi-dimensional matrix containing elements of a single data type.\n",
    "* Similar to Numpy Arrays, but designed to work on GPU's (compared to regular CPU's)\n",
    "* default data type of **float32**\n",
    "* More suitable for deep learning than a numpy array"
   ]
  },
  {
   "cell_type": "code",
   "execution_count": 3,
   "id": "29ee4549-f601-4106-93eb-4d0b0ebf885f",
   "metadata": {
    "tags": []
   },
   "outputs": [],
   "source": [
    "import torch\n",
    "import numpy as np"
   ]
  },
  {
   "cell_type": "markdown",
   "id": "a22a4ffb-b86b-4b78-afd4-ebb992961164",
   "metadata": {},
   "source": [
    "# List\n",
    "\n",
    "* We have python list, works with most use cases.\n",
    "* Then comes numpy arrays used in machine learning.\n",
    "* In deep learning, we use tensor so we can leverage GPUs."
   ]
  },
  {
   "cell_type": "code",
   "execution_count": 3,
   "id": "e2d2a567-3da6-45e7-a7c6-47606f6cd266",
   "metadata": {
    "tags": []
   },
   "outputs": [
    {
     "data": {
      "text/plain": [
       "[1, 2, 3, 4, 5]"
      ]
     },
     "execution_count": 3,
     "metadata": {},
     "output_type": "execute_result"
    }
   ],
   "source": [
    "## Let's create a list\n",
    "\n",
    "my_list = [1,2,3,4,5]\n",
    "my_list"
   ]
  },
  {
   "cell_type": "code",
   "execution_count": 4,
   "id": "825f81df-1adf-4116-ac6f-4dbf58a71695",
   "metadata": {
    "tags": []
   },
   "outputs": [
    {
     "data": {
      "text/plain": [
       "[[1, 2, 3, 4, 5], [6, 7, 8, 9, 10]]"
      ]
     },
     "execution_count": 4,
     "metadata": {},
     "output_type": "execute_result"
    }
   ],
   "source": [
    "## We can have a multi-dimensional array/matrix\n",
    "\n",
    "my_list = [[1,2,3,4,5],[6,7,8,9,10]]\n",
    "my_list\n"
   ]
  },
  {
   "cell_type": "markdown",
   "id": "6d59011d-1dc2-411c-98b0-cf5b8524784d",
   "metadata": {},
   "source": [
    "# Numpy Arrays"
   ]
  },
  {
   "cell_type": "code",
   "execution_count": 5,
   "id": "1cdf7567-ea6e-49a9-ace5-7e9742fed4b8",
   "metadata": {
    "tags": []
   },
   "outputs": [
    {
     "data": {
      "text/plain": [
       "array([[0.2505413 , 0.67660705, 0.53930122, 0.97405571],\n",
       "       [0.22630153, 0.88189678, 0.26768429, 0.65054868],\n",
       "       [0.24210083, 0.15100142, 0.98007869, 0.42424056]])"
      ]
     },
     "execution_count": 5,
     "metadata": {},
     "output_type": "execute_result"
    }
   ],
   "source": [
    "np1 = np.random.rand(3,4)\n",
    "np1"
   ]
  },
  {
   "cell_type": "code",
   "execution_count": 6,
   "id": "7175963e-5343-4a15-98e0-b3b929f859d8",
   "metadata": {
    "tags": []
   },
   "outputs": [
    {
     "data": {
      "text/plain": [
       "dtype('float64')"
      ]
     },
     "execution_count": 6,
     "metadata": {},
     "output_type": "execute_result"
    }
   ],
   "source": [
    "np1.dtype"
   ]
  },
  {
   "cell_type": "markdown",
   "id": "17ddca02-0327-42cf-bb72-8d76749a859f",
   "metadata": {},
   "source": [
    "# Tensors"
   ]
  },
  {
   "cell_type": "code",
   "execution_count": 7,
   "id": "f434b85c-3cc1-4c9c-bd2e-058d2a194225",
   "metadata": {
    "tags": []
   },
   "outputs": [
    {
     "data": {
      "text/plain": [
       "tensor([[0.8661, 0.0734, 0.0295, 0.8256],\n",
       "        [0.6321, 0.4537, 0.6764, 0.2282],\n",
       "        [0.8369, 0.7618, 0.4637, 0.9163]])"
      ]
     },
     "execution_count": 7,
     "metadata": {},
     "output_type": "execute_result"
    }
   ],
   "source": [
    "tensor_2d = torch.rand(3,4)\n",
    "tensor_2d"
   ]
  },
  {
   "cell_type": "code",
   "execution_count": 9,
   "id": "0971cbbe-2d3c-486c-9383-8fd9b2313058",
   "metadata": {
    "tags": []
   },
   "outputs": [
    {
     "data": {
      "text/plain": [
       "tensor([[[0., 0., 0., 0.],\n",
       "         [0., 0., 0., 0.],\n",
       "         [0., 0., 0., 0.]],\n",
       "\n",
       "        [[0., 0., 0., 0.],\n",
       "         [0., 0., 0., 0.],\n",
       "         [0., 0., 0., 0.]]])"
      ]
     },
     "execution_count": 9,
     "metadata": {},
     "output_type": "execute_result"
    }
   ],
   "source": [
    "tensor_3d = torch.zeros(2,3,4)\n",
    "tensor_3d"
   ]
  },
  {
   "cell_type": "markdown",
   "id": "77029935-e58b-4ff2-a1d1-0fc6f9593200",
   "metadata": {},
   "source": [
    "Above is a 3D Tensor with first dimension 2, the second and third dimension is matrix of $3 * 4$"
   ]
  },
  {
   "cell_type": "code",
   "execution_count": 10,
   "id": "ab02a075-5d70-440f-be14-fa14ada9e0eb",
   "metadata": {
    "tags": []
   },
   "outputs": [
    {
     "data": {
      "text/plain": [
       "tensor([[0.2505, 0.6766, 0.5393, 0.9741],\n",
       "        [0.2263, 0.8819, 0.2677, 0.6505],\n",
       "        [0.2421, 0.1510, 0.9801, 0.4242]], dtype=torch.float64)"
      ]
     },
     "execution_count": 10,
     "metadata": {},
     "output_type": "execute_result"
    }
   ],
   "source": [
    "## Create tensor out of numpy array\n",
    "\n",
    "my_tensor = torch.tensor(np1)\n",
    "my_tensor"
   ]
  },
  {
   "cell_type": "markdown",
   "id": "94a3f17a-a2d8-4537-baa6-d9735656159e",
   "metadata": {},
   "source": [
    "Since the numpy array dtype was float64, so is the tensor. Else by default tensors are float32."
   ]
  },
  {
   "cell_type": "markdown",
   "id": "139b464d-2ca1-4ed9-849f-80f1aee7bad9",
   "metadata": {},
   "source": [
    "# Tensor API\n",
    "\n",
    "Here we will go over some of the methods within torch.Tensor class and discuss them briefly.\n",
    "\n",
    "### Table of Contents\n",
    "\n",
    "1. [Data Types](#datatypes)\n",
    "2. [Initialization and Basic operations](#initialize)\n",
    "3. [Transposing a 2D tensor](#2dtranspose)\n",
    "4. [Transposing a 3D tensor](#3dtranspose)\n",
    "5. [Permutation of Tensor dimensions](#permute)\n",
    "6. [Transposing and Conjugating Tensors](#conjtranspose)\n",
    "7. [Reshape and View](#reshapeview)\n",
    "8. [Slices](#slices)"
   ]
  },
  {
   "cell_type": "markdown",
   "id": "287cc135-d66a-4e94-9993-c70f7bc0508e",
   "metadata": {},
   "source": [
    "<a id=\"datatypes\"></a>\n",
    "### Data Types\n",
    "\n",
    "Torch defines 10 tensor types with CPU and GPU variants which as are follows:\n",
    "\n",
    "|Data Type|dtype|CPU tensor|GPU tensor|\n",
    "|---------|-----|----------|----------|\n",
    "|32-bit floating point|`torch.float32` or `torch.float`|`torch.FloatTensor`|`torch.cuda.FloatTensor`|\n",
    "|64-bit floating point|`torch.float64` or `torch.double`|`torch.DoubleTensor`|`torch.cuda.DoubleTensor`|\n",
    "|16-bit floating point|`torch.float16` or `torch.half`|`torch.HalfTensor`|`torch.cuda.HalfTensor`|\n",
    "|The above sometimes referred to as binary16: uses 1 sign, 5 exponent, and 10 significand bits. Useful when precision is important at the expense of range.|\n",
    "|16-bit floating point|`torch.bfloat16` or `torch.half`|`torch.BFloat15Tensor`|`torch.cuda.BFloat15Tensor`|\n",
    "|The above sometimes referred to as Brain Floating Point: uses 1 sign, 8 exponent, and 7 significand bits. Useful when range is important, since it has the same number of exponent bits as float32|\n",
    "|32-bit complex|`torch.complex32` or `torch.chalf`||||\n",
    "|64-bit complex|`torch.complex64` or `torch.cfloat`||||\n",
    "|128-bit complex|`torch.complex128` or `torch.cdouble`||||\n",
    "|8-bit integer (unsigned)|`torch.unit8`|`torch.ByteTensor`|`torch.cuda.ByteTensor`|\n",
    "|8-bit integer (signed)|`torch.int8`|`torch.CharTensor`|`torch.cuda.CharTensor`|\n",
    "|16-bit integer (signed)|`torch.int16`or`torch.short`|`torch.ShortTensor`|`torch.cuda.ShortTensor`|\n",
    "|32-bit integer (signed)|`torch.int32` or `torch.int`|`torch.IntTensor`|`torch.cuda.IntTensor`|\n",
    "|64-bit integer (signed)|`torch.int64` or `torch.long`|`torch.LongTensor`|`torch.cuda.LongTensor`|\n",
    "|quantized 8-bit integer (unsigned)|`torch.quint8`|`torch.ByteTensor`|/|\n",
    "|quantized 8-bit integer (signed)|`torch.qint8`|`torch.CharTensor`|/|\n",
    "|quantized 32-bit integer (signed)|`torch.qint32`|`torch.IntTensor`|/|\n",
    "|quantized 4-bit integer (unsigned)|`torch.quint4x2`|`torch.ByteTensor`|/|\n",
    "|Boolean|`torch.bool`|`torch.BoolTensor`|`torch.cuda.BoolTensor`|\n",
    "\n",
    "``torch.Tensor`` is an allias for default tensor type (`torch.FloatTensor`)."
   ]
  },
  {
   "cell_type": "markdown",
   "id": "f1c3a697-8930-4326-bce5-4df820783645",
   "metadata": {},
   "source": [
    "<a id=\"initialize\"></a>\n",
    "## Initializaing and basic operations\n",
    "\n",
    "A tensor can be constructed from a Python `list` or sequence using the `torch.tensor()` constructor:"
   ]
  },
  {
   "cell_type": "code",
   "execution_count": 11,
   "id": "0b298cd9-f28b-4bf6-a75f-0ffaa4d84df5",
   "metadata": {
    "tags": []
   },
   "outputs": [
    {
     "data": {
      "text/plain": [
       "tensor([[ 1., -1.],\n",
       "        [ 1., -1.]])"
      ]
     },
     "execution_count": 11,
     "metadata": {},
     "output_type": "execute_result"
    }
   ],
   "source": [
    "torch.tensor([[1., -1.], [1., -1.]])"
   ]
  },
  {
   "cell_type": "code",
   "execution_count": 12,
   "id": "374b6d4e-2e4a-42e5-aff6-3f2f5017f1d7",
   "metadata": {
    "tags": []
   },
   "outputs": [
    {
     "data": {
      "text/plain": [
       "tensor([[1, 2, 3],\n",
       "        [4, 5, 6]])"
      ]
     },
     "execution_count": 12,
     "metadata": {},
     "output_type": "execute_result"
    }
   ],
   "source": [
    "torch.tensor(np.array([[1,2,3], [4,5,6]]))"
   ]
  },
  {
   "cell_type": "markdown",
   "id": "35033dbe-76d1-42c6-a941-38f5d6f2b8c4",
   "metadata": {},
   "source": [
    "`torch.tensor()` always copies `data` (data is the python list/numpy array what goes inside torch.tensor(data)). If you have a Tensor `data` and just want to change its `require_grad` flag, use `require_grad_()` or `detach()` to avoid a copy. If you have a numpy array and want to avoid a copy, use `torch.as_tensor()`. "
   ]
  },
  {
   "cell_type": "markdown",
   "id": "1c973a36-56e0-45e6-942a-034bb882b060",
   "metadata": {},
   "source": [
    "A tensor of specific data type can be constructed by passing `torch.dtype` and/or a `torch.device` to a constructor or tensor creation operation:"
   ]
  },
  {
   "cell_type": "code",
   "execution_count": 13,
   "id": "89ce5e89-e871-49a3-9822-3475e2e8b7ef",
   "metadata": {
    "tags": []
   },
   "outputs": [
    {
     "data": {
      "text/plain": [
       "tensor([[0, 0, 0, 0],\n",
       "        [0, 0, 0, 0]], dtype=torch.int32)"
      ]
     },
     "execution_count": 13,
     "metadata": {},
     "output_type": "execute_result"
    }
   ],
   "source": [
    "torch.zeros([2,4], dtype=torch.int32)"
   ]
  },
  {
   "cell_type": "code",
   "execution_count": 14,
   "id": "3c347d5b-ad94-4002-afa1-eaa1f6605556",
   "metadata": {
    "tags": []
   },
   "outputs": [
    {
     "data": {
      "text/plain": [
       "tensor([[1., 1., 1., 1.],\n",
       "        [1., 1., 1., 1.]], device='cuda:0', dtype=torch.float64)"
      ]
     },
     "execution_count": 14,
     "metadata": {},
     "output_type": "execute_result"
    }
   ],
   "source": [
    "cuda0 = torch.device('cuda:0')\n",
    "torch.ones([2,4], dtype=torch.float64, device=cuda0)"
   ]
  },
  {
   "cell_type": "markdown",
   "id": "6ee37474-5c55-4219-86c1-4e71b0665207",
   "metadata": {},
   "source": [
    "The contents of a tensor can be accessed and modified using Python's indexing and slicing notation:"
   ]
  },
  {
   "cell_type": "code",
   "execution_count": 16,
   "id": "a9a109d5-8c99-47b8-b6c3-7aed07057ce6",
   "metadata": {
    "tags": []
   },
   "outputs": [
    {
     "name": "stdout",
     "output_type": "stream",
     "text": [
      "tensor(6)\n"
     ]
    }
   ],
   "source": [
    "x = torch.tensor([[1,2,3], [4,5,6]])\n",
    "print(x[1][2])"
   ]
  },
  {
   "cell_type": "code",
   "execution_count": 17,
   "id": "62b66b31-c68a-4ef3-a1e2-b0897dd4a09e",
   "metadata": {
    "tags": []
   },
   "outputs": [
    {
     "name": "stdout",
     "output_type": "stream",
     "text": [
      "tensor([[1, 8, 3],\n",
      "        [4, 5, 6]])\n"
     ]
    }
   ],
   "source": [
    "x[0][1]=8\n",
    "print(x)"
   ]
  },
  {
   "cell_type": "markdown",
   "id": "fb9af567-6f1a-4bad-a01e-bfb35d377887",
   "metadata": {
    "tags": []
   },
   "source": [
    "**Use `torch.Tensor.item()` to get a Python number from a tensor containing a single value:**"
   ]
  },
  {
   "cell_type": "code",
   "execution_count": 23,
   "id": "0b9b3a97-7dae-42a3-b67d-66eebcc476f5",
   "metadata": {
    "tags": []
   },
   "outputs": [
    {
     "data": {
      "text/plain": [
       "tensor([[1]])"
      ]
     },
     "execution_count": 23,
     "metadata": {},
     "output_type": "execute_result"
    }
   ],
   "source": [
    "x = torch.tensor([[1]])\n",
    "x"
   ]
  },
  {
   "cell_type": "code",
   "execution_count": 20,
   "id": "1c9ebef9-dbe8-494c-935e-38666f0fe603",
   "metadata": {
    "tags": []
   },
   "outputs": [
    {
     "data": {
      "text/plain": [
       "1.0"
      ]
     },
     "execution_count": 20,
     "metadata": {},
     "output_type": "execute_result"
    }
   ],
   "source": [
    "x.item()"
   ]
  },
  {
   "cell_type": "markdown",
   "id": "878a1a21-0cc3-4647-94c0-cb2182b29a33",
   "metadata": {},
   "source": [
    "A tensor can be created with `requires_grad=True` so that `torch.autograd` records operations on them for automatic differentiation."
   ]
  },
  {
   "cell_type": "code",
   "execution_count": 31,
   "id": "6e14ad97-0575-41f2-8f21-8285f4a7ad9b",
   "metadata": {
    "tags": []
   },
   "outputs": [
    {
     "data": {
      "text/plain": [
       "tensor([[ 2., -2.],\n",
       "        [ 2.,  2.]])"
      ]
     },
     "execution_count": 31,
     "metadata": {},
     "output_type": "execute_result"
    }
   ],
   "source": [
    "x = torch.tensor([[1., -1.], [1., 1.]], requires_grad=True)\n",
    "out = x.pow(2).sum()\n",
    "out.backward()\n",
    "x.grad"
   ]
  },
  {
   "cell_type": "markdown",
   "id": "1765e524-8e53-4548-ac4d-d9fc89f87e7b",
   "metadata": {},
   "source": [
    "**Methods which mutate a tensor are marked with an underscore suffix. For example, `toech.FloatTensor.abs_()` computes the absolute value in-place and returns the modified tensor, while `torch.FloatTensor.abs()` computes the result in a new tensor**"
   ]
  },
  {
   "cell_type": "code",
   "execution_count": 33,
   "id": "c1299d0a-498a-4aae-a8b8-1ed284a083ef",
   "metadata": {
    "tags": []
   },
   "outputs": [
    {
     "data": {
      "text/plain": [
       "tensor([[1., 1.],\n",
       "        [1., 1.]], grad_fn=<AbsBackward0>)"
      ]
     },
     "execution_count": 33,
     "metadata": {},
     "output_type": "execute_result"
    }
   ],
   "source": [
    "x.abs()"
   ]
  },
  {
   "cell_type": "code",
   "execution_count": 34,
   "id": "81e55eb9-961f-427d-a3e2-928f97b32453",
   "metadata": {
    "tags": []
   },
   "outputs": [
    {
     "data": {
      "text/plain": [
       "tensor([[ 1., -1.],\n",
       "        [ 1.,  1.]], requires_grad=True)"
      ]
     },
     "execution_count": 34,
     "metadata": {},
     "output_type": "execute_result"
    }
   ],
   "source": [
    "x"
   ]
  },
  {
   "attachments": {
    "9a825ee1-5bc8-4875-8391-af19360d278e.png": {
     "image/png": "[encoded data removed]"
    }
   },
   "cell_type": "markdown",
   "id": "75e294cd-9379-469c-822e-eb598ac1a40e",
   "metadata": {},
   "source": [
    "<a id=\"2dtranspose\"></a>\n",
    "### Transposing a tensor with `Tensor.T` (only 2 dimensions)\n",
    "\n",
    "This method returns a *view* of the this tensor with its dimensions reversed.\n",
    "\n",
    "![tensor.T.png](attachment:9a825ee1-5bc8-4875-8391-af19360d278e.png)\n",
    "\n",
    "If `n` is the number of dimensions in `x`, `x.T` is equivalent to `x.permute(n-1, n-2, ..., 0)`"
   ]
  },
  {
   "cell_type": "code",
   "execution_count": 36,
   "id": "059fee09-680a-4cf2-8851-5afa949833e6",
   "metadata": {
    "tags": []
   },
   "outputs": [
    {
     "data": {
      "text/plain": [
       "tensor([[1, 4, 7],\n",
       "        [2, 5, 8],\n",
       "        [3, 6, 9]])"
      ]
     },
     "execution_count": 36,
     "metadata": {},
     "output_type": "execute_result"
    }
   ],
   "source": [
    "x = torch.tensor([[1,2,3], [4,5,6], [7,8,9]])\n",
    "x.T"
   ]
  },
  {
   "cell_type": "code",
   "execution_count": 38,
   "id": "75c4e7f8-8114-40e0-80e7-48a4ab124e5d",
   "metadata": {
    "tags": []
   },
   "outputs": [
    {
     "data": {
      "text/plain": [
       "torch.Size([3, 3])"
      ]
     },
     "execution_count": 38,
     "metadata": {},
     "output_type": "execute_result"
    }
   ],
   "source": [
    "x.shape"
   ]
  },
  {
   "cell_type": "markdown",
   "id": "afdda4d9-58df-4cf4-b647-7f4f52db32df",
   "metadata": {},
   "source": [
    "<a id=\"3dtranspose\"></a>\n",
    "### Transposing a Tensor more than 2 dimensions with `Tensor.mT`\n",
    "\n",
    "The use of Tensor.T() on tensors of dimension other than 2 to reverse their shape is deprecated and it will throw an error. \n",
    "\n",
    "To transpose batched of matrices we can use `Tensor.mT`:\n",
    "\n",
    "Tensor.mT returns a view of this tensor with last two dimensions transposed. x.mT is equivalent to x.transpose(-2, -1)"
   ]
  },
  {
   "cell_type": "markdown",
   "id": "7d27622b-396c-4a41-bacf-92d6ea5c5dd1",
   "metadata": {},
   "source": [
    "### Tensor.mT"
   ]
  },
  {
   "cell_type": "code",
   "execution_count": 39,
   "id": "464e8f02-f1c6-4a84-bb83-ec139d57b475",
   "metadata": {
    "tags": []
   },
   "outputs": [
    {
     "data": {
      "text/plain": [
       "torch.Size([2, 3, 3])"
      ]
     },
     "execution_count": 39,
     "metadata": {},
     "output_type": "execute_result"
    }
   ],
   "source": [
    "x = torch.tensor([[[1,2,3], [4,5,6], [7,8,9]],\n",
    "                 [[10,11,12], [13,14,15], [16,17,18]]])\n",
    "x.shape"
   ]
  },
  {
   "cell_type": "code",
   "execution_count": 40,
   "id": "8299b0bc-0940-4e0d-a16b-2b0d9267cf47",
   "metadata": {
    "tags": []
   },
   "outputs": [
    {
     "data": {
      "text/plain": [
       "tensor([[[ 1,  4,  7],\n",
       "         [ 2,  5,  8],\n",
       "         [ 3,  6,  9]],\n",
       "\n",
       "        [[10, 13, 16],\n",
       "         [11, 14, 17],\n",
       "         [12, 15, 18]]])"
      ]
     },
     "execution_count": 40,
     "metadata": {},
     "output_type": "execute_result"
    }
   ],
   "source": [
    "x.mT"
   ]
  },
  {
   "cell_type": "markdown",
   "id": "f9051f81-9d43-48c7-8227-b8fd16f9be90",
   "metadata": {},
   "source": [
    "<a id=\"permute\"></a>\n",
    "## Reversing dimensions of tensor with `torch.permute(input, dims)`\n",
    "\n",
    "`torch.permute(input, dims)` method returns a view of the original tensor `input` with its dimensions permuted."
   ]
  },
  {
   "cell_type": "code",
   "execution_count": 41,
   "id": "cad5840d-5eb4-44f9-a78b-ecdfd10ac513",
   "metadata": {
    "tags": []
   },
   "outputs": [
    {
     "data": {
      "text/plain": [
       "torch.Size([2, 3, 5])"
      ]
     },
     "execution_count": 41,
     "metadata": {},
     "output_type": "execute_result"
    }
   ],
   "source": [
    "x = torch.rand(2, 3, 5)\n",
    "x.size()"
   ]
  },
  {
   "cell_type": "code",
   "execution_count": 42,
   "id": "36f4390e-df70-4591-b7a1-41bf959168c4",
   "metadata": {
    "tags": []
   },
   "outputs": [
    {
     "data": {
      "text/plain": [
       "torch.Size([5, 2, 3])"
      ]
     },
     "execution_count": 42,
     "metadata": {},
     "output_type": "execute_result"
    }
   ],
   "source": [
    "torch.permute(x , (2, 0, 1)).size()"
   ]
  },
  {
   "cell_type": "code",
   "execution_count": 49,
   "id": "d40c8ebb-cde2-4a43-81bb-801b7c279edf",
   "metadata": {
    "tags": []
   },
   "outputs": [
    {
     "name": "stdout",
     "output_type": "stream",
     "text": [
      "tensor([[[ 1,  2,  3],\n",
      "         [ 4,  5,  6],\n",
      "         [ 7,  8,  9]],\n",
      "\n",
      "        [[10, 11, 12],\n",
      "         [13, 14, 15],\n",
      "         [16, 17, 18]]])\n",
      "torch.Size([2, 3, 3])\n",
      "\n",
      "After tensor.permute(input, (dim1, dim2, .. , dimn))\n",
      "\n",
      "tensor([[[ 1, 10],\n",
      "         [ 4, 13],\n",
      "         [ 7, 16]],\n",
      "\n",
      "        [[ 2, 11],\n",
      "         [ 5, 14],\n",
      "         [ 8, 17]],\n",
      "\n",
      "        [[ 3, 12],\n",
      "         [ 6, 15],\n",
      "         [ 9, 18]]])\n",
      "torch.Size([3, 3, 2])\n"
     ]
    }
   ],
   "source": [
    "x = torch.tensor([[[1,2,3], [4,5,6], [7,8,9]],\n",
    "                 [[10,11,12], [13,14,15], [16,17,18]]])\n",
    "print(x)\n",
    "print(x.shape)\n",
    "print(\"\\nAfter tensor.permute(input, (dim1, dim2, .. , dimn))\\n\")\n",
    "dim_reversed = x.permute(*torch.arange(x.ndim-1, -1, -1))\n",
    "print(dim_reversed)\n",
    "print(dim_reversed.shape)"
   ]
  },
  {
   "cell_type": "markdown",
   "id": "520dad10-263f-4fab-840f-30913f0f7fa1",
   "metadata": {},
   "source": [
    "<a id=\"conjtranspose\"></a>\n",
    "### Conjucation and transposing 2D Tensor with `Tensor.H`\n",
    "\n",
    "Returns a view of a matrix (2-D tensor) conjugated and transposed.\n",
    "\n",
    "`x.H` is equivalent to `x.transpose(0, 1).conj()` for complex matrices and `x.transpose(0, 1)` for real matrices."
   ]
  },
  {
   "cell_type": "code",
   "execution_count": 58,
   "id": "bf650a6f-556b-40c8-87a3-bda23cf0b512",
   "metadata": {
    "tags": []
   },
   "outputs": [
    {
     "name": "stdout",
     "output_type": "stream",
     "text": [
      "tensor([[1, 2, 3],\n",
      "        [4, 5, 6],\n",
      "        [7, 8, 9]])\n",
      "\n",
      "x.transpose(0,1)\n",
      "tensor([[1, 4, 7],\n",
      "        [2, 5, 8],\n",
      "        [3, 6, 9]])\n",
      "x.H\n"
     ]
    },
    {
     "data": {
      "text/plain": [
       "tensor([[1, 4, 7],\n",
       "        [2, 5, 8],\n",
       "        [3, 6, 9]])"
      ]
     },
     "execution_count": 58,
     "metadata": {},
     "output_type": "execute_result"
    }
   ],
   "source": [
    "x = torch.tensor([[1,2,3], [4,5,6], [7,8,9]])\n",
    "print(x)\n",
    "print(f\"\\nx.transpose(0,1)\\n{x.transpose(0,1)}\")\n",
    "print(\"x.H\")\n",
    "x.H"
   ]
  },
  {
   "cell_type": "markdown",
   "id": "f2b15d7e-4798-46e3-af90-4f09de8304d3",
   "metadata": {},
   "source": [
    "### Conjucation and transposing Tensor with more that 2 dimensions with `Tensor.mH` or `torch.adjoint(Tensor)`\n",
    "\n",
    "Returns a view of the tensor sonjugated and with the last two dimensions transposed.\n",
    "\n",
    "`x.adjoint()` is equivalent to `x.transpose(-2, -1).conj()` for complex tensors and to `x.transpose(-2, -1)` for real tensors."
   ]
  },
  {
   "cell_type": "code",
   "execution_count": 59,
   "id": "55601513-8caf-4a5a-a4f1-c8a375147dc0",
   "metadata": {
    "tags": []
   },
   "outputs": [
    {
     "data": {
      "text/plain": [
       "tensor([[0.+0.j, 1.+1.j],\n",
       "        [2.+2.j, 3.+3.j]])"
      ]
     },
     "execution_count": 59,
     "metadata": {},
     "output_type": "execute_result"
    }
   ],
   "source": [
    "x = torch.arange(4, dtype=torch.float)\n",
    "A = torch.complex(x, x).reshape(2,2)\n",
    "A"
   ]
  },
  {
   "cell_type": "code",
   "execution_count": 61,
   "id": "55d14585-f6d1-4c62-8470-95019f3375f3",
   "metadata": {
    "tags": []
   },
   "outputs": [
    {
     "data": {
      "text/plain": [
       "tensor([[0.-0.j, 2.-2.j],\n",
       "        [1.-1.j, 3.-3.j]])"
      ]
     },
     "execution_count": 61,
     "metadata": {},
     "output_type": "execute_result"
    }
   ],
   "source": [
    "A.adjoint()"
   ]
  },
  {
   "cell_type": "code",
   "execution_count": 63,
   "id": "cb8b1b71-fa27-46f4-9c6a-e025603aa61d",
   "metadata": {
    "tags": []
   },
   "outputs": [
    {
     "data": {
      "text/plain": [
       "tensor(True)"
      ]
     },
     "execution_count": 63,
     "metadata": {},
     "output_type": "execute_result"
    }
   ],
   "source": [
    "(A.adjoint() == A.mH).all()"
   ]
  },
  {
   "cell_type": "markdown",
   "id": "a869a83a-8a76-465e-ae45-1a779b16b220",
   "metadata": {},
   "source": [
    "<a id=\"reshapeview\"></a>\n",
    "## Reshape and View Tensors\n",
    "\n",
    "`torch.reshape(input, shape)` returns a tensor with the same data and number of elements as `input`, but wuth specified shape. When possible, the returned tensor will be a view of `input`. Otherwise, it will be a copy. Contiguous inputs with compatible strides can be reshaped wothout copying, but you should not depend on the copying vs. viewing behaviour."
   ]
  },
  {
   "cell_type": "code",
   "execution_count": 65,
   "id": "46e74f24-6a1d-4851-ba3a-8cc80d437e7a",
   "metadata": {
    "tags": []
   },
   "outputs": [
    {
     "data": {
      "text/plain": [
       "tensor([0., 1., 2., 3.])"
      ]
     },
     "execution_count": 65,
     "metadata": {},
     "output_type": "execute_result"
    }
   ],
   "source": [
    "a = torch.arange(4.)\n",
    "a"
   ]
  },
  {
   "cell_type": "code",
   "execution_count": 66,
   "id": "9fe554f5-4804-4c22-a1a8-5b2b4e927305",
   "metadata": {
    "tags": []
   },
   "outputs": [
    {
     "data": {
      "text/plain": [
       "tensor([[0., 1.],\n",
       "        [2., 3.]])"
      ]
     },
     "execution_count": 66,
     "metadata": {},
     "output_type": "execute_result"
    }
   ],
   "source": [
    "torch.reshape(a , (2,2))"
   ]
  },
  {
   "cell_type": "code",
   "execution_count": 69,
   "id": "8875af96-5fd7-479b-84f8-ea01a37efde3",
   "metadata": {
    "tags": []
   },
   "outputs": [
    {
     "data": {
      "text/plain": [
       "tensor([0, 1, 2, 3, 4, 5, 6, 7, 8, 9])"
      ]
     },
     "execution_count": 69,
     "metadata": {},
     "output_type": "execute_result"
    }
   ],
   "source": [
    "my_torch = torch.arange(10)\n",
    "my_torch"
   ]
  },
  {
   "cell_type": "code",
   "execution_count": 70,
   "id": "2aefd0b3-6bea-403d-9143-8019baf6a0a4",
   "metadata": {
    "tags": []
   },
   "outputs": [
    {
     "data": {
      "text/plain": [
       "tensor([[0, 1, 2, 3, 4],\n",
       "        [5, 6, 7, 8, 9]])"
      ]
     },
     "execution_count": 70,
     "metadata": {},
     "output_type": "execute_result"
    }
   ],
   "source": [
    "my_torch = my_torch.reshape(2,5)\n",
    "my_torch"
   ]
  },
  {
   "cell_type": "markdown",
   "id": "a92cb8fa-7f8f-4497-84f0-0f73de40551f",
   "metadata": {},
   "source": [
    "`Tensor.view(*shape)` returns a new tensor with the same data as the self tensor but of a different `shape`.\n",
    "The returned tensor shares the same data and must have the smae number of elements, but may have a different size. For a tensor to be viewed, the new view size must be compatible with it's original size and stride, i.e., each new view dimension must either by a subspace of an original dimension, or only span across original dimensions d, d+1,..,d+k that satisfy the following contiguity-like condition that for al $i = d,...,d+k-1$:\n",
    "$$\n",
    "    stride[i] = stride[i+1] * size[i+1]\n",
    "$$\n",
    "otherwise, it will not be possible to view `self` tensor as `shape` without copying it (e.g, via `contiguous()`).\n",
    "\n",
    "When it is unclear whter a `view()` can be performed, it is advisable to use `reshape()`, which returns a view if the shapes are compatible, and copies (equivalent to calling `contiguous()`) otherwise."
   ]
  },
  {
   "cell_type": "code",
   "execution_count": 77,
   "id": "15b99433-6233-442a-b7b4-9ab859599dd3",
   "metadata": {
    "tags": []
   },
   "outputs": [
    {
     "data": {
      "text/plain": [
       "(tensor([[0, 1],\n",
       "         [2, 3],\n",
       "         [4, 5],\n",
       "         [6, 7],\n",
       "         [8, 9]]),\n",
       " tensor([[0, 1, 2, 3, 4],\n",
       "         [5, 6, 7, 8, 9]]))"
      ]
     },
     "execution_count": 77,
     "metadata": {},
     "output_type": "execute_result"
    }
   ],
   "source": [
    "my_torch.view(5,2), my_torch.view(2,5)"
   ]
  },
  {
   "cell_type": "markdown",
   "id": "b8babc50-bf46-4874-886b-5f0b5a2f49c9",
   "metadata": {},
   "source": [
    "If we don't know the number of items before hand, `reshape()` is the better choice."
   ]
  },
  {
   "cell_type": "code",
   "execution_count": 81,
   "id": "53863b70-1b0d-4c42-aabd-db7707bd9d24",
   "metadata": {
    "tags": []
   },
   "outputs": [
    {
     "data": {
      "text/plain": [
       "tensor([0, 1, 2, 3, 4, 5, 6, 7, 8, 9])"
      ]
     },
     "execution_count": 81,
     "metadata": {},
     "output_type": "execute_result"
    }
   ],
   "source": [
    "my_torch2 = torch.arange(10)\n",
    "my_torch2"
   ]
  },
  {
   "cell_type": "code",
   "execution_count": 80,
   "id": "ac90b1d0-33e4-4850-848a-4164431f6eb6",
   "metadata": {
    "tags": []
   },
   "outputs": [
    {
     "data": {
      "text/plain": [
       "tensor([[0, 1, 2, 3, 4],\n",
       "        [5, 6, 7, 8, 9]])"
      ]
     },
     "execution_count": 80,
     "metadata": {},
     "output_type": "execute_result"
    }
   ],
   "source": [
    "my_torch2 = my_torch2.reshape(2, -1)\n",
    "my_torch2"
   ]
  },
  {
   "cell_type": "markdown",
   "id": "ec44e211-e261-4cae-974d-89031632f242",
   "metadata": {},
   "source": [
    "This is helpful when we have a huge tensor who's dimensions we doint know before hand."
   ]
  },
  {
   "cell_type": "code",
   "execution_count": 82,
   "id": "43d7c36e-2c89-4cfd-9fe5-54f2f4621b71",
   "metadata": {
    "tags": []
   },
   "outputs": [
    {
     "data": {
      "text/plain": [
       "tensor([[0, 1, 2, 3, 4],\n",
       "        [5, 6, 7, 8, 9]])"
      ]
     },
     "execution_count": 82,
     "metadata": {},
     "output_type": "execute_result"
    }
   ],
   "source": [
    "my_torch2 = my_torch2.reshape(-1, 5)\n",
    "my_torch2"
   ]
  },
  {
   "cell_type": "markdown",
   "id": "4337e59f-8687-452e-ae67-1f72010ef5bf",
   "metadata": {},
   "source": [
    "same things can be done with view"
   ]
  },
  {
   "cell_type": "code",
   "execution_count": 83,
   "id": "fe7ad906-ad48-4aed-94a8-da7554620f39",
   "metadata": {
    "tags": []
   },
   "outputs": [
    {
     "data": {
      "text/plain": [
       "tensor([0, 1, 2, 3, 4, 5, 6, 7, 8, 9])"
      ]
     },
     "execution_count": 83,
     "metadata": {},
     "output_type": "execute_result"
    }
   ],
   "source": [
    "my_torch3 = torch.arange(10)\n",
    "my_torch3"
   ]
  },
  {
   "cell_type": "code",
   "execution_count": 84,
   "id": "0cc354b6-069c-48b9-ba54-53617b3efca9",
   "metadata": {
    "tags": []
   },
   "outputs": [
    {
     "data": {
      "text/plain": [
       "tensor([[0, 1, 2, 3, 4],\n",
       "        [5, 6, 7, 8, 9]])"
      ]
     },
     "execution_count": 84,
     "metadata": {},
     "output_type": "execute_result"
    }
   ],
   "source": [
    "my_torch4 = my_torch3.view(2,5)\n",
    "my_torch4"
   ]
  },
  {
   "cell_type": "markdown",
   "id": "ec62d118-6a87-40df-822c-d033e3061666",
   "metadata": {},
   "source": [
    "`torch.reshape()` and `torch.view()` both copies the tensor, so change in original tensor results in a change in the reshaped or viewed tensor"
   ]
  },
  {
   "cell_type": "code",
   "execution_count": 4,
   "id": "20e65686-6b1f-4ae9-a996-66a62fa104b0",
   "metadata": {
    "tags": []
   },
   "outputs": [
    {
     "name": "stdout",
     "output_type": "stream",
     "text": [
      "my_torch6:\n",
      "tensor([ 0,  1,  2,  3,  4,  5,  6,  7,  8,  9, 10, 11])\n",
      "my_torch6.reshape(3,4):\n",
      "tensor([[ 0,  1,  2,  3],\n",
      "        [ 4,  5,  6,  7],\n",
      "        [ 8,  9, 10, 11]])\n",
      "\n",
      "my_torch6[11]=22\n",
      "\n",
      "did my_torch7_reshaped[11] changed aswell?\n"
     ]
    },
    {
     "data": {
      "text/plain": [
       "tensor([[ 0,  1,  2,  3],\n",
       "        [ 4,  5,  6,  7],\n",
       "        [ 8,  9, 10, 22]])"
      ]
     },
     "execution_count": 4,
     "metadata": {},
     "output_type": "execute_result"
    }
   ],
   "source": [
    "my_torch6 = torch.arange(12)\n",
    "print(\"my_torch6:\")\n",
    "print(my_torch6)\n",
    "my_torch7_reshaped = my_torch6.reshape(3,4)\n",
    "print(\"my_torch6.reshape(3,4):\")\n",
    "print(my_torch7_reshaped)\n",
    "print(\"\\nmy_torch6[11]=22\\n\")\n",
    "my_torch6[11]=22\n",
    "print(\"did my_torch7_reshaped[11] changed aswell?\")\n",
    "my_torch7_reshaped"
   ]
  },
  {
   "cell_type": "markdown",
   "id": "93521119-7262-41e2-bb5b-2cd9714ff303",
   "metadata": {},
   "source": [
    "<a id=\"slices\"></a>\n",
    "## Slices"
   ]
  },
  {
   "cell_type": "code",
   "execution_count": 9,
   "id": "fb703ad6-d8b1-4836-a61b-6f60724a1c28",
   "metadata": {
    "tags": []
   },
   "outputs": [
    {
     "data": {
      "text/plain": [
       "tensor([[0, 1],\n",
       "        [2, 3],\n",
       "        [4, 5],\n",
       "        [6, 7],\n",
       "        [8, 9]])"
      ]
     },
     "execution_count": 9,
     "metadata": {},
     "output_type": "execute_result"
    }
   ],
   "source": [
    "my_torch7 = torch.arange(10)\n",
    "my_torch8 = my_torch7.reshape(5,2)\n",
    "my_torch8"
   ]
  },
  {
   "cell_type": "code",
   "execution_count": 10,
   "id": "d675fef5-1764-4403-aab7-0ef7c48d002e",
   "metadata": {
    "tags": []
   },
   "outputs": [
    {
     "data": {
      "text/plain": [
       "tensor([1, 3, 5, 7, 9])"
      ]
     },
     "execution_count": 10,
     "metadata": {},
     "output_type": "execute_result"
    }
   ],
   "source": [
    "my_torch8[:,1]"
   ]
  },
  {
   "cell_type": "code",
   "execution_count": 11,
   "id": "e05317e3-390f-4788-a234-6030c087abf6",
   "metadata": {
    "tags": []
   },
   "outputs": [
    {
     "data": {
      "text/plain": [
       "tensor([[1],\n",
       "        [3],\n",
       "        [5],\n",
       "        [7],\n",
       "        [9]])"
      ]
     },
     "execution_count": 11,
     "metadata": {},
     "output_type": "execute_result"
    }
   ],
   "source": [
    "my_torch8[:,1:]"
   ]
  },
  {
   "cell_type": "markdown",
   "id": "08146afe-678d-423c-b2fc-191cc3cb7a2a",
   "metadata": {},
   "source": [
    "# Summary\n",
    "\n",
    "This was an introduction to Tensor along with the most common types of operations. In the next notebook we will go over some more tensor creation methods and after that dive into tensor math operations."
   ]
  },
  {
   "cell_type": "code",
   "execution_count": null,
   "id": "75c877ea-13b4-4b7e-b2e3-9b9d39880a94",
   "metadata": {},
   "outputs": [],
   "source": []
  }
 ],
 "metadata": {
  "kernelspec": {
   "display_name": "augment",
   "language": "python",
   "name": "augmentation-project"
  },
  "language_info": {
   "codemirror_mode": {
    "name": "ipython",
    "version": 3
   },
   "file_extension": ".py",
   "mimetype": "text/x-python",
   "name": "python",
   "nbconvert_exporter": "python",
   "pygments_lexer": "ipython3",
   "version": "3.9.18"
  }
 },
 "nbformat": 4,
 "nbformat_minor": 5
}
