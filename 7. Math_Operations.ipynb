{
 "cells": [
  {
   "cell_type": "code",
   "execution_count": 1,
   "id": "f7cd6c0c-ee84-4097-adf2-3c91f6fa2164",
   "metadata": {
    "tags": []
   },
   "outputs": [],
   "source": [
    "import torch"
   ]
  },
  {
   "cell_type": "markdown",
   "id": "33647962-6649-40ce-94cc-95455cb0e90e",
   "metadata": {},
   "source": [
    "# Pointwise Ops\n",
    "\n",
    "1. [torch.abs](#torch.abs)\n",
    "2. [torch.ascos](#torch.acos)\n",
    "3. [torch.acosh](#torch.acosh)\n",
    "4. [torch.add](#torch.add)\n",
    "5. [torch.addcdiv](#torch.addcdiv)\n",
    "6. [torch.addcmul](#torch.addcmul)\n",
    "7. [torch.angle](#torch.angle)\n",
    "8. [torch.asin](#torch.asin)\n",
    "9. [torch.asinh](#torch.asinh)\n",
    "10. [torch.atan](#torch.atan)\n",
    "11. [torch.atanh](#torch.atanh)\n",
    "12. [torch.atan2](#torch.atan2)\n",
    "13. [torch.bitwise_not](#torch.bitwise_not)\n",
    "14. [torch.bitwise_and](#torch.bitwise_and)\n",
    "15. [torch.bitwise_or](#torch.bitwise_or)\n",
    "16. [torch.bitwise_xor](#torch.bitwise_xor)\n",
    "17. [torch.bitwise_left_shift](#torch.bitwise_left_shift)\n",
    "18. [torch.bitwise_right_shift](#torch.bitwise_right_shift)\n",
    "19. [torch.ceil](#torch.ceil)\n",
    "20. [torch.clamp](#torch.clamp)\n",
    "21. [torch.clip](#torch.clip)\n",
    "22. [torch.conj_physical](#torch.conj_physical)\n",
    "23. [torch.copysign](#torch.copysign)\n",
    "24. [torch.cos](#torch.cos)\n",
    "25. [torch.cosh](#torch.cosh)\n",
    "26. [torch.deg2rad](#torch.deg2rad)\n",
    "27. [torch.div](#torch.div)\n",
    "28. [torch.exp](#torch.exp)\n",
    "29. [torch.fake_quantize_per_channel_affine](#torch.fake_quantize_per_channel_affine)\n",
    "30. [torch.fake_quantize_per_tenbsor_affine](#torch.fake_quantize_per_tensor_affine)"
   ]
  },
  {
   "cell_type": "markdown",
   "id": "88e9052e-fc31-46d2-a5c5-0d36f054151e",
   "metadata": {},
   "source": [
    "<a id=\"torch.abs\"></a>\n",
    "\n",
    "### 1. torch.abs\n",
    "\n",
    "`torch.abs(input, *, out=None) -> Tensor`\n",
    "\n",
    "Computes the absolute value of each element in `input`\n",
    "\n",
    "$$\n",
    "out_i = |input_i|\n",
    "$$\n"
   ]
  },
  {
   "cell_type": "code",
   "execution_count": 2,
   "id": "3d401fb3-f044-403b-b61e-2f894e9429ce",
   "metadata": {
    "tags": []
   },
   "outputs": [
    {
     "data": {
      "text/plain": [
       "tensor([1, 2, 3])"
      ]
     },
     "execution_count": 2,
     "metadata": {},
     "output_type": "execute_result"
    }
   ],
   "source": [
    "torch.abs(torch.tensor([-1, -2, 3]))"
   ]
  },
  {
   "cell_type": "markdown",
   "id": "a344a70d-8b21-4929-8edf-2e821ffcbf16",
   "metadata": {},
   "source": [
    "`torch.absolute(input, *, out=None)` is alias for `torch.abs()`"
   ]
  },
  {
   "cell_type": "markdown",
   "id": "359cd9b0-a498-4ec7-a425-7113cfd92d06",
   "metadata": {},
   "source": [
    "<a id=\"torch.acos\"></a>\n",
    "\n",
    "### 2. torch.acos\n",
    "\n",
    "`torch.acos(input, *, out=None) -> None`\n",
    "\n",
    "Computes the inverse cosine of each element in `input`\n",
    "\n",
    "$$\n",
    "out_i = cos^{-1}(input_i)\n",
    "$$"
   ]
  },
  {
   "cell_type": "code",
   "execution_count": 3,
   "id": "5a8511cb-d0d9-4043-b9e7-df4e2d473298",
   "metadata": {
    "tags": []
   },
   "outputs": [
    {
     "data": {
      "text/plain": [
       "tensor([ 1.0813, -0.7721,  0.9082,  0.9951])"
      ]
     },
     "execution_count": 3,
     "metadata": {},
     "output_type": "execute_result"
    }
   ],
   "source": [
    "a = torch.randn(4)\n",
    "a"
   ]
  },
  {
   "cell_type": "code",
   "execution_count": 4,
   "id": "16d09ef7-ac8e-4648-bdcd-689734b00926",
   "metadata": {
    "tags": []
   },
   "outputs": [
    {
     "data": {
      "text/plain": [
       "tensor([   nan, 2.4530, 0.4318, 0.0987])"
      ]
     },
     "execution_count": 4,
     "metadata": {},
     "output_type": "execute_result"
    }
   ],
   "source": [
    "torch.acos(a)"
   ]
  },
  {
   "cell_type": "markdown",
   "id": "818a7248-02e3-4a86-82e1-4d1699df0659",
   "metadata": {},
   "source": [
    "<a id=\"torch.acosh\"></a>\n",
    "\n",
    "`torch.acosh(input, *, out=None) -> Tensor`\n",
    "\n",
    "Returns a new tensor with inverse hyperbollic cosine of the element of `input`\n",
    "\n",
    "$$\n",
    "out_i = cosh^{-1}(input_i)\n",
    "$$\n"
   ]
  },
  {
   "cell_type": "code",
   "execution_count": 5,
   "id": "32b01702-bafa-40f6-b4b8-5d76b6663a9c",
   "metadata": {
    "tags": []
   },
   "outputs": [
    {
     "data": {
      "text/plain": [
       "tensor([1.7691, 1.9889, 1.6800, 1.2829])"
      ]
     },
     "execution_count": 5,
     "metadata": {},
     "output_type": "execute_result"
    }
   ],
   "source": [
    "a = torch.randn(4).uniform_(1, 2)\n",
    "a"
   ]
  },
  {
   "cell_type": "code",
   "execution_count": 6,
   "id": "a7322bb8-5cf3-4941-851b-80125563685e",
   "metadata": {
    "tags": []
   },
   "outputs": [
    {
     "data": {
      "text/plain": [
       "tensor([1.1720, 1.3105, 1.1086, 0.7355])"
      ]
     },
     "execution_count": 6,
     "metadata": {},
     "output_type": "execute_result"
    }
   ],
   "source": [
    "torch.acosh(a)"
   ]
  },
  {
   "cell_type": "markdown",
   "id": "2035931e-8734-46d6-a586-f22c25a4af8a",
   "metadata": {},
   "source": [
    "<a id=\"torch.add\"></a>\n",
    "\n",
    "### 3. torch.add\n",
    "\n",
    "`torch.add(input, other, *, alpha=1, out=None) -> Tensor`\n",
    "\n",
    "Adds `other`, scaled by `alpha`, to `input`.\n",
    "\n",
    "$$\n",
    "out_i = input_i + alpha \\times other_i\n",
    "$$\n",
    "\n",
    "Supports broadcasting to a common shape, type promotion, and integer, float, and complex inputs."
   ]
  },
  {
   "cell_type": "code",
   "execution_count": 7,
   "id": "f9a8703b-5b10-4c6d-8828-a06979f741a3",
   "metadata": {
    "tags": []
   },
   "outputs": [
    {
     "data": {
      "text/plain": [
       "tensor([-0.7448, -1.1259, -1.6386,  0.7319])"
      ]
     },
     "execution_count": 7,
     "metadata": {},
     "output_type": "execute_result"
    }
   ],
   "source": [
    "a = torch.randn(4)\n",
    "a"
   ]
  },
  {
   "cell_type": "code",
   "execution_count": 8,
   "id": "1014b5ab-e979-499f-8980-168601bbe72f",
   "metadata": {
    "tags": []
   },
   "outputs": [
    {
     "data": {
      "text/plain": [
       "tensor([19.2552, 18.8741, 18.3614, 20.7319])"
      ]
     },
     "execution_count": 8,
     "metadata": {},
     "output_type": "execute_result"
    }
   ],
   "source": [
    "torch.add(a, 20)"
   ]
  },
  {
   "cell_type": "code",
   "execution_count": 9,
   "id": "75fdcdc8-eea6-4d2a-b281-f03ec638c4d5",
   "metadata": {
    "tags": []
   },
   "outputs": [
    {
     "data": {
      "text/plain": [
       "tensor([ 0.1646, -1.4158,  0.0566, -0.7817])"
      ]
     },
     "execution_count": 9,
     "metadata": {},
     "output_type": "execute_result"
    }
   ],
   "source": [
    "b = torch.randn(4)\n",
    "b"
   ]
  },
  {
   "cell_type": "code",
   "execution_count": 10,
   "id": "26a70a61-a8cd-4d07-aa0c-d05670c79b8e",
   "metadata": {
    "tags": []
   },
   "outputs": [
    {
     "data": {
      "text/plain": [
       "tensor([[1.8293],\n",
       "        [1.0155],\n",
       "        [1.3555],\n",
       "        [0.8046]])"
      ]
     },
     "execution_count": 10,
     "metadata": {},
     "output_type": "execute_result"
    }
   ],
   "source": [
    "c = torch.randn(4, 1)\n",
    "c"
   ]
  },
  {
   "cell_type": "code",
   "execution_count": 11,
   "id": "5e79be1b-1824-4dd6-92f6-aa8cde2ac179",
   "metadata": {
    "tags": []
   },
   "outputs": [
    {
     "data": {
      "text/plain": [
       "tensor([[18.4579, 16.8774, 18.3498, 17.5115],\n",
       "        [10.3197,  8.7392, 10.2116,  9.3733],\n",
       "        [13.7196, 12.1391, 13.6115, 12.7732],\n",
       "        [ 8.2111,  6.6307,  8.1031,  7.2648]])"
      ]
     },
     "execution_count": 11,
     "metadata": {},
     "output_type": "execute_result"
    }
   ],
   "source": [
    "torch.add(b, c, alpha=10)"
   ]
  },
  {
   "cell_type": "markdown",
   "id": "d9c5d419-f600-4f4d-b17c-a62d3ef1bd22",
   "metadata": {},
   "source": [
    "<a id=\"torch.addcdiv\"></a>\n",
    "\n",
    "### 4. torch.addcdiv\n",
    "\n",
    "`torch.addcdiv(input, tensor1, tensor2, *, value=1, out=None) -> Tensor`\n",
    "\n",
    "Performs the elemnt-wise division of `tensor1` by `tensor2`, miltples the result by the scalar `value` and adds it to `input`.\n",
    "\n",
    "$$\n",
    "out_i = input_i + value \\times \\frac{tensor1_i}{tensor2_i}\n",
    "$$\n",
    "\n",
    "The shaoes of `input`, `tensor1`, and `tensor2` must be broadcastable."
   ]
  },
  {
   "cell_type": "code",
   "execution_count": 13,
   "id": "f56bd806-df2f-4027-9182-08181630b0c8",
   "metadata": {
    "tags": []
   },
   "outputs": [
    {
     "data": {
      "text/plain": [
       "tensor([[-0.5994, -0.1661, -0.4045],\n",
       "        [ 0.8157, -0.1185, -0.3633],\n",
       "        [-1.7717, -0.2056, -0.4385]])"
      ]
     },
     "execution_count": 13,
     "metadata": {},
     "output_type": "execute_result"
    }
   ],
   "source": [
    "t = torch.randn(1, 3)\n",
    "t1 = torch.randn(3, 1)\n",
    "t2 = torch.randn(1, 3)\n",
    "torch.addcdiv(t, t1, t2, value=0.1)"
   ]
  },
  {
   "cell_type": "markdown",
   "id": "0536413e-a07e-4f17-8014-9033328b4330",
   "metadata": {},
   "source": [
    "<a id=\"torch.angle\"></a>\n",
    "\n",
    "### 5. torch.angle\n",
    "\n",
    "`torch.angle(input, *, out=None) -> Tensor`\n",
    "\n",
    "Computes the element-wise angle (in radians) of the given `input` tensor.\n",
    "\n",
    "$$\n",
    "out_i = angle(input_i)\n",
    "$$"
   ]
  },
  {
   "cell_type": "code",
   "execution_count": 14,
   "id": "eb856bf1-2b48-4a36-ae38-5b10e1f8d968",
   "metadata": {
    "tags": []
   },
   "outputs": [
    {
     "data": {
      "text/plain": [
       "tensor([-135.0001, -135.0001,  -45.0000])"
      ]
     },
     "execution_count": 14,
     "metadata": {},
     "output_type": "execute_result"
    }
   ],
   "source": [
    "torch.angle(torch.tensor([-1 - 1j, -2 - 2j, 3 - 3j]))*180/3.14159"
   ]
  },
  {
   "cell_type": "markdown",
   "id": "289350ea-6451-477b-845f-2d7302701d55",
   "metadata": {},
   "source": [
    "<a id=\"torch.asin\"></a>\n",
    "\n",
    "### 5. torch.asin\n",
    "\n",
    "`torch.asin(input, *, out=None) -> Tensor`\n",
    "\n",
    "Returns a new tensor with arcsine of the elements of `input`.\n",
    "\n",
    "$$\n",
    "out_i = sin^{-1}(input_i)\n",
    "$$"
   ]
  },
  {
   "cell_type": "code",
   "execution_count": 15,
   "id": "6c03fbd2-f769-4550-8f0e-24342b582379",
   "metadata": {
    "tags": []
   },
   "outputs": [
    {
     "data": {
      "text/plain": [
       "tensor([ 0.8824,  0.2929, -0.2238, -1.5031])"
      ]
     },
     "execution_count": 15,
     "metadata": {},
     "output_type": "execute_result"
    }
   ],
   "source": [
    "a = torch.randn(4)\n",
    "a"
   ]
  },
  {
   "cell_type": "code",
   "execution_count": 16,
   "id": "8bf4b8aa-c02a-427a-bee3-d779b867eb68",
   "metadata": {
    "tags": []
   },
   "outputs": [
    {
     "data": {
      "text/plain": [
       "tensor([ 1.0808,  0.2972, -0.2257,     nan])"
      ]
     },
     "execution_count": 16,
     "metadata": {},
     "output_type": "execute_result"
    }
   ],
   "source": [
    "torch.asin(a)"
   ]
  },
  {
   "cell_type": "markdown",
   "id": "a83954a6-4af0-4913-9fb1-18dd39683050",
   "metadata": {},
   "source": [
    "`torch.arcsin(input, *, out=None)` is an alias for `torch.asin()`"
   ]
  },
  {
   "cell_type": "markdown",
   "id": "e580bd6d-e57b-46d5-855a-4301cadf9571",
   "metadata": {},
   "source": [
    "<a id=\"torch.asinh\"></a>\n",
    "\n",
    "### 6. torch.asinh\n",
    "\n",
    "`torch.asinh(input, *, out=None) -> Tensor`\n",
    "\n",
    "Returns a new tensor with the inverse hyperbollic sine of the elements of `input`\n",
    "\n",
    "$$\n",
    "out_i = sinh^{-1}(input_i)\n",
    "$$"
   ]
  },
  {
   "cell_type": "code",
   "execution_count": 17,
   "id": "cb26d7f1-f249-4c41-b109-29318da0448d",
   "metadata": {
    "tags": []
   },
   "outputs": [
    {
     "data": {
      "text/plain": [
       "tensor([1.0690, 1.1511, 0.7242, 0.1606])"
      ]
     },
     "execution_count": 17,
     "metadata": {},
     "output_type": "execute_result"
    }
   ],
   "source": [
    "a = torch.randn(4)\n",
    "a"
   ]
  },
  {
   "cell_type": "code",
   "execution_count": 18,
   "id": "b5d93fc5-906a-429c-a54d-6bc341cd34dc",
   "metadata": {
    "tags": []
   },
   "outputs": [
    {
     "data": {
      "text/plain": [
       "tensor([0.9293, 0.9843, 0.6723, 0.1599])"
      ]
     },
     "execution_count": 18,
     "metadata": {},
     "output_type": "execute_result"
    }
   ],
   "source": [
    "torch.asinh(a)"
   ]
  },
  {
   "cell_type": "markdown",
   "id": "115b8cb4-6cf9-4e87-8793-0d0977e05226",
   "metadata": {},
   "source": [
    "<a id=\"torch.atan\"></a>\n",
    "\n",
    "### 7. torch.atan\n",
    "\n",
    "`torch.atan(input, *, out=None) -> Tensor`\n",
    "\n",
    "Returns a new tensor with arctangent of the elements of `input`\n",
    "\n",
    "$$\n",
    "out_i = tan^{-1}(input_i)\n",
    "$$"
   ]
  },
  {
   "cell_type": "code",
   "execution_count": 19,
   "id": "7b674057-e059-40ff-91b4-45a4070b6839",
   "metadata": {
    "tags": []
   },
   "outputs": [
    {
     "data": {
      "text/plain": [
       "tensor([-0.6358,  2.0017,  0.0516, -0.8333])"
      ]
     },
     "execution_count": 19,
     "metadata": {},
     "output_type": "execute_result"
    }
   ],
   "source": [
    "a = torch.randn(4)\n",
    "a"
   ]
  },
  {
   "cell_type": "code",
   "execution_count": 20,
   "id": "3d9adcfd-7889-41dd-8264-fbf1bbe56533",
   "metadata": {
    "tags": []
   },
   "outputs": [
    {
     "data": {
      "text/plain": [
       "tensor([-0.5663,  1.1075,  0.0516, -0.6947])"
      ]
     },
     "execution_count": 20,
     "metadata": {},
     "output_type": "execute_result"
    }
   ],
   "source": [
    "torch.atan(a)"
   ]
  },
  {
   "cell_type": "markdown",
   "id": "381ff13f-ab23-428e-9179-0fcceb04869c",
   "metadata": {},
   "source": [
    "`torch.arctan()` is an alias for `torch.atan`"
   ]
  },
  {
   "cell_type": "markdown",
   "id": "7098cda6-30cb-49f1-89ae-0577cf4f7295",
   "metadata": {},
   "source": [
    "<a id=\"torch.atanh\"></a>\n",
    "\n",
    "### 8. torch.atanh\n",
    "\n",
    "`torch.atanh(input, *, out=None) -> Tensor`\n",
    "\n",
    "Returns a new tensor with the inverse **hyperbolic** tangent of the elements of `input`.\n",
    "\n",
    "$$\n",
    "out_i = tanh^{-1}(input_i)\n",
    "$$"
   ]
  },
  {
   "cell_type": "code",
   "execution_count": 21,
   "id": "49fad939-beae-4720-afa3-5aaaf9db7a63",
   "metadata": {
    "tags": []
   },
   "outputs": [
    {
     "data": {
      "text/plain": [
       "tensor([ 0.8947,  0.4414,  0.1946, -0.0275])"
      ]
     },
     "execution_count": 21,
     "metadata": {},
     "output_type": "execute_result"
    }
   ],
   "source": [
    "a = torch.randn(4).uniform_(-1, 1)\n",
    "a"
   ]
  },
  {
   "cell_type": "code",
   "execution_count": 22,
   "id": "2c28f0f5-5f63-4c3f-ac50-cdf518f39199",
   "metadata": {
    "tags": []
   },
   "outputs": [
    {
     "data": {
      "text/plain": [
       "tensor([ 1.4452,  0.4739,  0.1971, -0.0275])"
      ]
     },
     "execution_count": 22,
     "metadata": {},
     "output_type": "execute_result"
    }
   ],
   "source": [
    "torch.atanh(a)"
   ]
  },
  {
   "cell_type": "markdown",
   "id": "d218cbd3-452b-4e4b-98f6-57622bd11d3a",
   "metadata": {},
   "source": [
    "`torch.arctanh` is alias for torch.atanh()."
   ]
  },
  {
   "cell_type": "markdown",
   "id": "d7dab999-dd45-4d4a-b3e2-d746a78d79c2",
   "metadata": {},
   "source": [
    "<a id=\"torch.atan2\"></a>\n",
    "\n",
    "### 9. torch.atan2 \n",
    "\n",
    "`torch.atan2(input, other, *, out=None) -> Tensor`\n",
    "\n",
    "Element-wise arctangent of $input_i/other_i$ with consideration of the quadrant. Returns a new tensor with the signed angles in randians between vector ($other_i, input_i$) and vector (1, 0).\n",
    "\n",
    "Note: $other_i$, the second parameter, is the x-coordinate, while $input_i$, the first parameter is the y-coordinate.\n",
    "\n",
    "The shape of `input` and `other` must be broadcastable."
   ]
  },
  {
   "cell_type": "code",
   "execution_count": 23,
   "id": "c04bae94-dffd-4be3-84df-b145c040997e",
   "metadata": {
    "tags": []
   },
   "outputs": [
    {
     "data": {
      "text/plain": [
       "tensor([-0.7967,  0.1279, -0.6264, -0.1719])"
      ]
     },
     "execution_count": 23,
     "metadata": {},
     "output_type": "execute_result"
    }
   ],
   "source": [
    "a = torch.randn(4)\n",
    "a"
   ]
  },
  {
   "cell_type": "code",
   "execution_count": 24,
   "id": "02c1ab95-6841-4f97-89a7-51a2aad793b2",
   "metadata": {
    "tags": []
   },
   "outputs": [
    {
     "data": {
      "text/plain": [
       "tensor([-2.7700,  2.8599, -1.9817, -1.1369])"
      ]
     },
     "execution_count": 24,
     "metadata": {},
     "output_type": "execute_result"
    }
   ],
   "source": [
    "torch.atan2(a, torch.randn(4))"
   ]
  },
  {
   "cell_type": "markdown",
   "id": "60029a8c-d835-4469-b3a5-b9ac5c8050a9",
   "metadata": {},
   "source": [
    "`torch.arctan2(input, other, *, out=None)` is alias for `torch.atan2()`"
   ]
  },
  {
   "cell_type": "code",
   "execution_count": null,
   "id": "159d725c-ea35-4262-a82a-14eb8a144776",
   "metadata": {},
   "outputs": [],
   "source": []
  }
 ],
 "metadata": {
  "kernelspec": {
   "display_name": "augment",
   "language": "python",
   "name": "augmentation-project"
  },
  "language_info": {
   "codemirror_mode": {
    "name": "ipython",
    "version": 3
   },
   "file_extension": ".py",
   "mimetype": "text/x-python",
   "name": "python",
   "nbconvert_exporter": "python",
   "pygments_lexer": "ipython3",
   "version": "3.9.18"
  }
 },
 "nbformat": 4,
 "nbformat_minor": 5
}
