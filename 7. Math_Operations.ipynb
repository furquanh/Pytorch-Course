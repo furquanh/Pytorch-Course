{
 "cells": [
  {
   "cell_type": "code",
   "execution_count": 2,
   "id": "f7cd6c0c-ee84-4097-adf2-3c91f6fa2164",
   "metadata": {
    "tags": []
   },
   "outputs": [],
   "source": [
    "import torch"
   ]
  },
  {
   "cell_type": "markdown",
   "id": "33647962-6649-40ce-94cc-95455cb0e90e",
   "metadata": {},
   "source": [
    "# Pointwise Ops\n",
    "\n",
    "1. [torch.abs](#torch.abs)\n",
    "2. [torch.ascos](#torch.acos)\n",
    "3. [torch.acosh](#torch.acosh)\n",
    "4. [torch.add](#torch.add)\n",
    "5. [torch.addcdiv](#torch.addcdiv)\n",
    "6. [torch.addcmul](#torch.addcmul)\n",
    "7. [torch.angle](#torch.angle)\n",
    "8. [torch.asin](#torch.asin)\n",
    "9. [torch.asinh](#torch.asinh)\n",
    "10. [torch.atan](#torch.atan)\n",
    "11. [torch.atanh](#torch.atanh)\n",
    "12. [torch.atan2](#torch.atan2)\n",
    "13. [torch.bitwise_not](#torch.bitwise_not)\n",
    "14. [torch.bitwise_and](#torch.bitwise_and)\n",
    "15. [torch.bitwise_or](#torch.bitwise_or)\n",
    "16. [torch.bitwise_xor](#torch.bitwise_xor)\n",
    "17. [torch.bitwise_left_shift](#torch.bitwise_left_shift)\n",
    "18. [torch.bitwise_right_shift](#torch.bitwise_right_shift)\n",
    "19. [torch.ceil](#torch.ceil)\n",
    "20. [torch.clamp](#torch.clamp)\n",
    "21. [torch.clip](#torch.clip)\n",
    "22. [torch.conj_physical](#torch.conj_physical)\n",
    "23. [torch.copysign](#torch.copysign)\n",
    "24. [torch.cos](#torch.cos)\n",
    "25. [torch.cosh](#torch.cosh)\n",
    "26. [torch.deg2rad](#torch.deg2rad)\n",
    "27. [torch.div](#torch.div)\n",
    "28. [torch.exp](#torch.exp)\n",
    "29. [torch.fake_quantize_per_channel_affine](#torch.fake_quantize_per_channel_affine)\n",
    "30. [torch.fake_quantize_per_tenbsor_affine](#torch.fake_quantize_per_tensor_affine)"
   ]
  },
  {
   "cell_type": "markdown",
   "id": "88e9052e-fc31-46d2-a5c5-0d36f054151e",
   "metadata": {},
   "source": [
    "<a id=\"torch.abs\"></a>\n",
    "\n",
    "### 1. torch.abs\n",
    "\n",
    "`torch.abs(input, *, out=None) -> Tensor`\n",
    "\n",
    "Computes the absolute value of each element in `input`\n",
    "\n",
    "$$\n",
    "out_i = |input_i|\n",
    "$$\n"
   ]
  },
  {
   "cell_type": "code",
   "execution_count": 2,
   "id": "3d401fb3-f044-403b-b61e-2f894e9429ce",
   "metadata": {
    "tags": []
   },
   "outputs": [
    {
     "data": {
      "text/plain": [
       "tensor([1, 2, 3])"
      ]
     },
     "execution_count": 2,
     "metadata": {},
     "output_type": "execute_result"
    }
   ],
   "source": [
    "torch.abs(torch.tensor([-1, -2, 3]))"
   ]
  },
  {
   "cell_type": "markdown",
   "id": "a344a70d-8b21-4929-8edf-2e821ffcbf16",
   "metadata": {},
   "source": [
    "`torch.absolute(input, *, out=None)` is alias for `torch.abs()`"
   ]
  },
  {
   "cell_type": "markdown",
   "id": "359cd9b0-a498-4ec7-a425-7113cfd92d06",
   "metadata": {},
   "source": [
    "<a id=\"torch.acos\"></a>\n",
    "\n",
    "### 2. torch.acos\n",
    "\n",
    "`torch.acos(input, *, out=None) -> None`\n",
    "\n",
    "Computes the inverse cosine of each element in `input`\n",
    "\n",
    "$$\n",
    "out_i = cos^{-1}(input_i)\n",
    "$$"
   ]
  },
  {
   "cell_type": "code",
   "execution_count": 3,
   "id": "5a8511cb-d0d9-4043-b9e7-df4e2d473298",
   "metadata": {
    "tags": []
   },
   "outputs": [
    {
     "data": {
      "text/plain": [
       "tensor([ 1.0813, -0.7721,  0.9082,  0.9951])"
      ]
     },
     "execution_count": 3,
     "metadata": {},
     "output_type": "execute_result"
    }
   ],
   "source": [
    "a = torch.randn(4)\n",
    "a"
   ]
  },
  {
   "cell_type": "code",
   "execution_count": 4,
   "id": "16d09ef7-ac8e-4648-bdcd-689734b00926",
   "metadata": {
    "tags": []
   },
   "outputs": [
    {
     "data": {
      "text/plain": [
       "tensor([   nan, 2.4530, 0.4318, 0.0987])"
      ]
     },
     "execution_count": 4,
     "metadata": {},
     "output_type": "execute_result"
    }
   ],
   "source": [
    "torch.acos(a)"
   ]
  },
  {
   "cell_type": "markdown",
   "id": "818a7248-02e3-4a86-82e1-4d1699df0659",
   "metadata": {},
   "source": [
    "<a id=\"torch.acosh\"></a>\n",
    "\n",
    "`torch.acosh(input, *, out=None) -> Tensor`\n",
    "\n",
    "Returns a new tensor with inverse hyperbollic cosine of the element of `input`\n",
    "\n",
    "$$\n",
    "out_i = cosh^{-1}(input_i)\n",
    "$$\n"
   ]
  },
  {
   "cell_type": "code",
   "execution_count": 5,
   "id": "32b01702-bafa-40f6-b4b8-5d76b6663a9c",
   "metadata": {
    "tags": []
   },
   "outputs": [
    {
     "data": {
      "text/plain": [
       "tensor([1.7691, 1.9889, 1.6800, 1.2829])"
      ]
     },
     "execution_count": 5,
     "metadata": {},
     "output_type": "execute_result"
    }
   ],
   "source": [
    "a = torch.randn(4).uniform_(1, 2)\n",
    "a"
   ]
  },
  {
   "cell_type": "code",
   "execution_count": 6,
   "id": "a7322bb8-5cf3-4941-851b-80125563685e",
   "metadata": {
    "tags": []
   },
   "outputs": [
    {
     "data": {
      "text/plain": [
       "tensor([1.1720, 1.3105, 1.1086, 0.7355])"
      ]
     },
     "execution_count": 6,
     "metadata": {},
     "output_type": "execute_result"
    }
   ],
   "source": [
    "torch.acosh(a)"
   ]
  },
  {
   "cell_type": "markdown",
   "id": "2035931e-8734-46d6-a586-f22c25a4af8a",
   "metadata": {},
   "source": [
    "<a id=\"torch.add\"></a>\n",
    "\n",
    "### 3. torch.add\n",
    "\n",
    "`torch.add(input, other, *, alpha=1, out=None) -> Tensor`\n",
    "\n",
    "Adds `other`, scaled by `alpha`, to `input`.\n",
    "\n",
    "$$\n",
    "out_i = input_i + alpha \\times other_i\n",
    "$$\n",
    "\n",
    "Supports broadcasting to a common shape, type promotion, and integer, float, and complex inputs."
   ]
  },
  {
   "cell_type": "code",
   "execution_count": 7,
   "id": "f9a8703b-5b10-4c6d-8828-a06979f741a3",
   "metadata": {
    "tags": []
   },
   "outputs": [
    {
     "data": {
      "text/plain": [
       "tensor([-0.7448, -1.1259, -1.6386,  0.7319])"
      ]
     },
     "execution_count": 7,
     "metadata": {},
     "output_type": "execute_result"
    }
   ],
   "source": [
    "a = torch.randn(4)\n",
    "a"
   ]
  },
  {
   "cell_type": "code",
   "execution_count": 8,
   "id": "1014b5ab-e979-499f-8980-168601bbe72f",
   "metadata": {
    "tags": []
   },
   "outputs": [
    {
     "data": {
      "text/plain": [
       "tensor([19.2552, 18.8741, 18.3614, 20.7319])"
      ]
     },
     "execution_count": 8,
     "metadata": {},
     "output_type": "execute_result"
    }
   ],
   "source": [
    "torch.add(a, 20)"
   ]
  },
  {
   "cell_type": "code",
   "execution_count": 9,
   "id": "75fdcdc8-eea6-4d2a-b281-f03ec638c4d5",
   "metadata": {
    "tags": []
   },
   "outputs": [
    {
     "data": {
      "text/plain": [
       "tensor([ 0.1646, -1.4158,  0.0566, -0.7817])"
      ]
     },
     "execution_count": 9,
     "metadata": {},
     "output_type": "execute_result"
    }
   ],
   "source": [
    "b = torch.randn(4)\n",
    "b"
   ]
  },
  {
   "cell_type": "code",
   "execution_count": 10,
   "id": "26a70a61-a8cd-4d07-aa0c-d05670c79b8e",
   "metadata": {
    "tags": []
   },
   "outputs": [
    {
     "data": {
      "text/plain": [
       "tensor([[1.8293],\n",
       "        [1.0155],\n",
       "        [1.3555],\n",
       "        [0.8046]])"
      ]
     },
     "execution_count": 10,
     "metadata": {},
     "output_type": "execute_result"
    }
   ],
   "source": [
    "c = torch.randn(4, 1)\n",
    "c"
   ]
  },
  {
   "cell_type": "code",
   "execution_count": 11,
   "id": "5e79be1b-1824-4dd6-92f6-aa8cde2ac179",
   "metadata": {
    "tags": []
   },
   "outputs": [
    {
     "data": {
      "text/plain": [
       "tensor([[18.4579, 16.8774, 18.3498, 17.5115],\n",
       "        [10.3197,  8.7392, 10.2116,  9.3733],\n",
       "        [13.7196, 12.1391, 13.6115, 12.7732],\n",
       "        [ 8.2111,  6.6307,  8.1031,  7.2648]])"
      ]
     },
     "execution_count": 11,
     "metadata": {},
     "output_type": "execute_result"
    }
   ],
   "source": [
    "torch.add(b, c, alpha=10)"
   ]
  },
  {
   "cell_type": "markdown",
   "id": "d9c5d419-f600-4f4d-b17c-a62d3ef1bd22",
   "metadata": {},
   "source": [
    "<a id=\"torch.addcdiv\"></a>\n",
    "\n",
    "### 4. torch.addcdiv\n",
    "\n",
    "`torch.addcdiv(input, tensor1, tensor2, *, value=1, out=None) -> Tensor`\n",
    "\n",
    "Performs the elemnt-wise division of `tensor1` by `tensor2`, miltples the result by the scalar `value` and adds it to `input`.\n",
    "\n",
    "$$\n",
    "out_i = input_i + value \\times \\frac{tensor1_i}{tensor2_i}\n",
    "$$\n",
    "\n",
    "The shaoes of `input`, `tensor1`, and `tensor2` must be broadcastable."
   ]
  },
  {
   "cell_type": "code",
   "execution_count": 13,
   "id": "f56bd806-df2f-4027-9182-08181630b0c8",
   "metadata": {
    "tags": []
   },
   "outputs": [
    {
     "data": {
      "text/plain": [
       "tensor([[-0.5994, -0.1661, -0.4045],\n",
       "        [ 0.8157, -0.1185, -0.3633],\n",
       "        [-1.7717, -0.2056, -0.4385]])"
      ]
     },
     "execution_count": 13,
     "metadata": {},
     "output_type": "execute_result"
    }
   ],
   "source": [
    "t = torch.randn(1, 3)\n",
    "t1 = torch.randn(3, 1)\n",
    "t2 = torch.randn(1, 3)\n",
    "torch.addcdiv(t, t1, t2, value=0.1)"
   ]
  },
  {
   "cell_type": "markdown",
   "id": "0536413e-a07e-4f17-8014-9033328b4330",
   "metadata": {},
   "source": [
    "<a id=\"torch.angle\"></a>\n",
    "\n",
    "### 5. torch.angle\n",
    "\n",
    "`torch.angle(input, *, out=None) -> Tensor`\n",
    "\n",
    "Computes the element-wise angle (in radians) of the given `input` tensor.\n",
    "\n",
    "$$\n",
    "out_i = angle(input_i)\n",
    "$$"
   ]
  },
  {
   "cell_type": "code",
   "execution_count": 14,
   "id": "eb856bf1-2b48-4a36-ae38-5b10e1f8d968",
   "metadata": {
    "tags": []
   },
   "outputs": [
    {
     "data": {
      "text/plain": [
       "tensor([-135.0001, -135.0001,  -45.0000])"
      ]
     },
     "execution_count": 14,
     "metadata": {},
     "output_type": "execute_result"
    }
   ],
   "source": [
    "torch.angle(torch.tensor([-1 - 1j, -2 - 2j, 3 - 3j]))*180/3.14159"
   ]
  },
  {
   "cell_type": "markdown",
   "id": "289350ea-6451-477b-845f-2d7302701d55",
   "metadata": {},
   "source": [
    "<a id=\"torch.asin\"></a>\n",
    "\n",
    "### 5. torch.asin\n",
    "\n",
    "`torch.asin(input, *, out=None) -> Tensor`\n",
    "\n",
    "Returns a new tensor with arcsine of the elements of `input`.\n",
    "\n",
    "$$\n",
    "out_i = sin^{-1}(input_i)\n",
    "$$"
   ]
  },
  {
   "cell_type": "code",
   "execution_count": 15,
   "id": "6c03fbd2-f769-4550-8f0e-24342b582379",
   "metadata": {
    "tags": []
   },
   "outputs": [
    {
     "data": {
      "text/plain": [
       "tensor([ 0.8824,  0.2929, -0.2238, -1.5031])"
      ]
     },
     "execution_count": 15,
     "metadata": {},
     "output_type": "execute_result"
    }
   ],
   "source": [
    "a = torch.randn(4)\n",
    "a"
   ]
  },
  {
   "cell_type": "code",
   "execution_count": 16,
   "id": "8bf4b8aa-c02a-427a-bee3-d779b867eb68",
   "metadata": {
    "tags": []
   },
   "outputs": [
    {
     "data": {
      "text/plain": [
       "tensor([ 1.0808,  0.2972, -0.2257,     nan])"
      ]
     },
     "execution_count": 16,
     "metadata": {},
     "output_type": "execute_result"
    }
   ],
   "source": [
    "torch.asin(a)"
   ]
  },
  {
   "cell_type": "markdown",
   "id": "a83954a6-4af0-4913-9fb1-18dd39683050",
   "metadata": {},
   "source": [
    "`torch.arcsin(input, *, out=None)` is an alias for `torch.asin()`"
   ]
  },
  {
   "cell_type": "markdown",
   "id": "e580bd6d-e57b-46d5-855a-4301cadf9571",
   "metadata": {},
   "source": [
    "<a id=\"torch.asinh\"></a>\n",
    "\n",
    "### 6. torch.asinh\n",
    "\n",
    "`torch.asinh(input, *, out=None) -> Tensor`\n",
    "\n",
    "Returns a new tensor with the inverse hyperbollic sine of the elements of `input`\n",
    "\n",
    "$$\n",
    "out_i = sinh^{-1}(input_i)\n",
    "$$"
   ]
  },
  {
   "cell_type": "code",
   "execution_count": 17,
   "id": "cb26d7f1-f249-4c41-b109-29318da0448d",
   "metadata": {
    "tags": []
   },
   "outputs": [
    {
     "data": {
      "text/plain": [
       "tensor([1.0690, 1.1511, 0.7242, 0.1606])"
      ]
     },
     "execution_count": 17,
     "metadata": {},
     "output_type": "execute_result"
    }
   ],
   "source": [
    "a = torch.randn(4)\n",
    "a"
   ]
  },
  {
   "cell_type": "code",
   "execution_count": 18,
   "id": "b5d93fc5-906a-429c-a54d-6bc341cd34dc",
   "metadata": {
    "tags": []
   },
   "outputs": [
    {
     "data": {
      "text/plain": [
       "tensor([0.9293, 0.9843, 0.6723, 0.1599])"
      ]
     },
     "execution_count": 18,
     "metadata": {},
     "output_type": "execute_result"
    }
   ],
   "source": [
    "torch.asinh(a)"
   ]
  },
  {
   "cell_type": "markdown",
   "id": "115b8cb4-6cf9-4e87-8793-0d0977e05226",
   "metadata": {},
   "source": [
    "<a id=\"torch.atan\"></a>\n",
    "\n",
    "### 7. torch.atan\n",
    "\n",
    "`torch.atan(input, *, out=None) -> Tensor`\n",
    "\n",
    "Returns a new tensor with arctangent of the elements of `input`\n",
    "\n",
    "$$\n",
    "out_i = tan^{-1}(input_i)\n",
    "$$"
   ]
  },
  {
   "cell_type": "code",
   "execution_count": 19,
   "id": "7b674057-e059-40ff-91b4-45a4070b6839",
   "metadata": {
    "tags": []
   },
   "outputs": [
    {
     "data": {
      "text/plain": [
       "tensor([-0.6358,  2.0017,  0.0516, -0.8333])"
      ]
     },
     "execution_count": 19,
     "metadata": {},
     "output_type": "execute_result"
    }
   ],
   "source": [
    "a = torch.randn(4)\n",
    "a"
   ]
  },
  {
   "cell_type": "code",
   "execution_count": 20,
   "id": "3d9adcfd-7889-41dd-8264-fbf1bbe56533",
   "metadata": {
    "tags": []
   },
   "outputs": [
    {
     "data": {
      "text/plain": [
       "tensor([-0.5663,  1.1075,  0.0516, -0.6947])"
      ]
     },
     "execution_count": 20,
     "metadata": {},
     "output_type": "execute_result"
    }
   ],
   "source": [
    "torch.atan(a)"
   ]
  },
  {
   "cell_type": "markdown",
   "id": "381ff13f-ab23-428e-9179-0fcceb04869c",
   "metadata": {},
   "source": [
    "`torch.arctan()` is an alias for `torch.atan`"
   ]
  },
  {
   "cell_type": "markdown",
   "id": "7098cda6-30cb-49f1-89ae-0577cf4f7295",
   "metadata": {},
   "source": [
    "<a id=\"torch.atanh\"></a>\n",
    "\n",
    "### 8. torch.atanh\n",
    "\n",
    "`torch.atanh(input, *, out=None) -> Tensor`\n",
    "\n",
    "Returns a new tensor with the inverse **hyperbolic** tangent of the elements of `input`.\n",
    "\n",
    "$$\n",
    "out_i = tanh^{-1}(input_i)\n",
    "$$"
   ]
  },
  {
   "cell_type": "code",
   "execution_count": 21,
   "id": "49fad939-beae-4720-afa3-5aaaf9db7a63",
   "metadata": {
    "tags": []
   },
   "outputs": [
    {
     "data": {
      "text/plain": [
       "tensor([ 0.8947,  0.4414,  0.1946, -0.0275])"
      ]
     },
     "execution_count": 21,
     "metadata": {},
     "output_type": "execute_result"
    }
   ],
   "source": [
    "a = torch.randn(4).uniform_(-1, 1)\n",
    "a"
   ]
  },
  {
   "cell_type": "code",
   "execution_count": 22,
   "id": "2c28f0f5-5f63-4c3f-ac50-cdf518f39199",
   "metadata": {
    "tags": []
   },
   "outputs": [
    {
     "data": {
      "text/plain": [
       "tensor([ 1.4452,  0.4739,  0.1971, -0.0275])"
      ]
     },
     "execution_count": 22,
     "metadata": {},
     "output_type": "execute_result"
    }
   ],
   "source": [
    "torch.atanh(a)"
   ]
  },
  {
   "cell_type": "markdown",
   "id": "d218cbd3-452b-4e4b-98f6-57622bd11d3a",
   "metadata": {},
   "source": [
    "`torch.arctanh` is alias for torch.atanh()."
   ]
  },
  {
   "cell_type": "markdown",
   "id": "d7dab999-dd45-4d4a-b3e2-d746a78d79c2",
   "metadata": {},
   "source": [
    "<a id=\"torch.atan2\"></a>\n",
    "\n",
    "### 9. torch.atan2 \n",
    "\n",
    "`torch.atan2(input, other, *, out=None) -> Tensor`\n",
    "\n",
    "Element-wise arctangent of $input_i/other_i$ with consideration of the quadrant. Returns a new tensor with the signed angles in randians between vector ($other_i, input_i$) and vector (1, 0).\n",
    "\n",
    "Note: $other_i$, the second parameter, is the x-coordinate, while $input_i$, the first parameter is the y-coordinate.\n",
    "\n",
    "The shape of `input` and `other` must be broadcastable."
   ]
  },
  {
   "cell_type": "code",
   "execution_count": 23,
   "id": "c04bae94-dffd-4be3-84df-b145c040997e",
   "metadata": {
    "tags": []
   },
   "outputs": [
    {
     "data": {
      "text/plain": [
       "tensor([-0.7967,  0.1279, -0.6264, -0.1719])"
      ]
     },
     "execution_count": 23,
     "metadata": {},
     "output_type": "execute_result"
    }
   ],
   "source": [
    "a = torch.randn(4)\n",
    "a"
   ]
  },
  {
   "cell_type": "code",
   "execution_count": 24,
   "id": "02c1ab95-6841-4f97-89a7-51a2aad793b2",
   "metadata": {
    "tags": []
   },
   "outputs": [
    {
     "data": {
      "text/plain": [
       "tensor([-2.7700,  2.8599, -1.9817, -1.1369])"
      ]
     },
     "execution_count": 24,
     "metadata": {},
     "output_type": "execute_result"
    }
   ],
   "source": [
    "torch.atan2(a, torch.randn(4))"
   ]
  },
  {
   "cell_type": "markdown",
   "id": "60029a8c-d835-4469-b3a5-b9ac5c8050a9",
   "metadata": {},
   "source": [
    "`torch.arctan2(input, other, *, out=None)` is alias for `torch.atan2()`"
   ]
  },
  {
   "cell_type": "markdown",
   "id": "db5fbe0e-e6f2-4cf9-a87c-331972816ddc",
   "metadata": {},
   "source": [
    "<a id=\"torch.bitwise_not\"></a>\n",
    "\n",
    "### 10. torch.bitwise_not\n",
    "\n",
    "`torch.bitwise_not(input, *, out=None) -> Tensor`\n",
    "\n",
    "Computes the bitwise NOT of the given input tensor. The input tensor must be of integral or Boolean types. For bool tensors, it computes the logical NOT."
   ]
  },
  {
   "cell_type": "code",
   "execution_count": 25,
   "id": "210919e3-9a34-490e-8e95-2dc60d4f86ea",
   "metadata": {
    "tags": []
   },
   "outputs": [
    {
     "data": {
      "text/plain": [
       "tensor([ 0,  1, -4], dtype=torch.int8)"
      ]
     },
     "execution_count": 25,
     "metadata": {},
     "output_type": "execute_result"
    }
   ],
   "source": [
    "torch.bitwise_not(torch.tensor([-1, -2, 3], dtype=torch.int8))"
   ]
  },
  {
   "cell_type": "markdown",
   "id": "7bab6208-ef69-42ba-ab5a-5e07e2cdfea2",
   "metadata": {},
   "source": [
    "<a id=\"torch.bitwise_and\"></a>\n",
    "\n",
    "### 11. torch.bitwise_and\n",
    "\n",
    "`torch.bitwise_and(input, other, *, out=None) -> Tensor`\n",
    "\n",
    "Computes the bitwise AND of `input` and `other`. The input tensor must be of integral or Boolean types. For bool tensors, it computes logical AND."
   ]
  },
  {
   "cell_type": "code",
   "execution_count": 26,
   "id": "16a334f7-eb72-4214-8db7-5c2a1320a6fa",
   "metadata": {
    "tags": []
   },
   "outputs": [
    {
     "data": {
      "text/plain": [
       "tensor([1, 0, 3], dtype=torch.int8)"
      ]
     },
     "execution_count": 26,
     "metadata": {},
     "output_type": "execute_result"
    }
   ],
   "source": [
    "torch.bitwise_and(torch.tensor([-1, -2, 3], dtype=torch.int8), torch.tensor([1, 0 , 3], dtype=torch.int8))"
   ]
  },
  {
   "cell_type": "markdown",
   "id": "3a708a5f-8e2a-4cd1-9fc2-c6862970bde3",
   "metadata": {},
   "source": [
    "<a id=\"torch.bitwise_or\"></a>\n",
    "\n",
    "### 12. torch.bitwise_or\n",
    "\n",
    "`torch.bitwise_or(input, other, *, out=None) -> Tensor`\n",
    "\n",
    "Computes the bitwise OR of `input` and `other`. The input tensor must be of integral or Boolean types. For bool tensors, it computes logical OR."
   ]
  },
  {
   "cell_type": "code",
   "execution_count": 28,
   "id": "1c3416d6-50d6-4b3c-801c-e69c3699d5f5",
   "metadata": {
    "tags": []
   },
   "outputs": [
    {
     "data": {
      "text/plain": [
       "tensor([-1, -2,  3], dtype=torch.int8)"
      ]
     },
     "execution_count": 28,
     "metadata": {},
     "output_type": "execute_result"
    }
   ],
   "source": [
    "torch.bitwise_or(torch.tensor([-1, -2, 3], dtype=torch.int8), torch.tensor([1, 0 , 3], dtype=torch.int8))"
   ]
  },
  {
   "cell_type": "markdown",
   "id": "58e5640c-7e96-4adf-98e3-73e14717ca02",
   "metadata": {},
   "source": [
    "<a id=\"torch.bitwise_xor\"></a>\n",
    "\n",
    "### 13. torch.bitwise_xor\n",
    "\n",
    "`torch.bitwise_xor(input, other, *, out=None) -> Tensor`\n",
    "\n",
    "Computes the bitwise XOR of `input` and `other`. The input tensor must be of integral or Boolean types. For bool tensors, it computes logical XOR."
   ]
  },
  {
   "cell_type": "code",
   "execution_count": 29,
   "id": "3a8a3427-eb35-4f6f-8fcd-f0cdf0508a17",
   "metadata": {
    "tags": []
   },
   "outputs": [
    {
     "data": {
      "text/plain": [
       "tensor([-2, -2,  0], dtype=torch.int8)"
      ]
     },
     "execution_count": 29,
     "metadata": {},
     "output_type": "execute_result"
    }
   ],
   "source": [
    "torch.bitwise_xor(torch.tensor([-1, -2, 3], dtype=torch.int8), torch.tensor([1, 0 , 3], dtype=torch.int8))"
   ]
  },
  {
   "cell_type": "markdown",
   "id": "6b79f93e-d22d-4296-bdc8-056ba3c35573",
   "metadata": {},
   "source": [
    "<a id=\"torch.bitwise_left_shift\"></a>\n",
    "\n",
    "### 14. torch.bitwise_left_shift\n",
    "\n",
    "`torch.bitwise_left_shift(input, other, *, out=None) -> Tensor`\n",
    "\n",
    "Computes the left arithmetic shift of `input` by `other` bits. The input tensor must be of integral type. The operator suppors broadcasting to a common shape and type promotion.\n",
    "\n",
    "The operation applied is:\n",
    "$$\n",
    "out_i = input_i << other_i\n",
    "$$"
   ]
  },
  {
   "cell_type": "code",
   "execution_count": 31,
   "id": "ca02e0d8-d947-4969-acce-0f250e5774a8",
   "metadata": {
    "tags": []
   },
   "outputs": [
    {
     "data": {
      "text/plain": [
       "tensor([-2, -2, 24], dtype=torch.int8)"
      ]
     },
     "execution_count": 31,
     "metadata": {},
     "output_type": "execute_result"
    }
   ],
   "source": [
    "torch.bitwise_left_shift(torch.tensor([-1, -2, 3],\n",
    "                                    dtype=torch.int8), \n",
    "                        torch.tensor([1, 0, 3], dtype=torch.int8)\n",
    "                       )"
   ]
  },
  {
   "cell_type": "markdown",
   "id": "bc4861d9-5cca-4bf6-964f-aabd4809b2d1",
   "metadata": {},
   "source": [
    "<a id=\"torch.bitwise_right_shift\"></a>\n",
    "\n",
    "### 15. torch.bitwise_right_shift\n",
    "\n",
    "`torch.bitwise_right_shift(input, other, *, out=None) -> Tensor`\n",
    "\n",
    "Computes the lright arithmetic shift of `input` by `other` bits. The input tensor must be of integral type. The operator suppors broadcasting to a common shape and type promotion.\n",
    "\n",
    "In any case, if the value of the right operand is negative or is greater or equal to the number of bits in the promoted left operand, the behavior is undefined.\n",
    "\n",
    "The operation applied is:\n",
    "$$\n",
    "out_i = input_i << other_i\n",
    "$$"
   ]
  },
  {
   "cell_type": "code",
   "execution_count": 32,
   "id": "6cec8e81-3e1d-4231-b41e-ffda72e5d7e0",
   "metadata": {
    "tags": []
   },
   "outputs": [
    {
     "data": {
      "text/plain": [
       "tensor([-1, -7,  3], dtype=torch.int8)"
      ]
     },
     "execution_count": 32,
     "metadata": {},
     "output_type": "execute_result"
    }
   ],
   "source": [
    "torch.bitwise_right_shift(torch.tensor([-2, -7, 31],\n",
    "                                    dtype=torch.int8), \n",
    "                        torch.tensor([1, 0, 3], dtype=torch.int8)\n",
    "                       )"
   ]
  },
  {
   "cell_type": "markdown",
   "id": "3d5c8d5a-b234-4bcc-afb1-f6e080197043",
   "metadata": {},
   "source": [
    "<a id=\"torch.ceil\"></a>\n",
    "\n",
    "### 16. torch.ceil\n",
    "\n",
    "`torch.ceil(input, *, out=None) -> Tensor`\n",
    "\n",
    "Returns a new tensor with the ceil of the elements of `input`, the smallest integer greater than or equal to each element.\n",
    "\n",
    "For integer inputs, follows the array-api convention of returning a copy of the input tensor.\n",
    "\n",
    "$$\n",
    "out_i = \\lceil input_i \\rceil\n",
    "$$"
   ]
  },
  {
   "cell_type": "code",
   "execution_count": 33,
   "id": "63e7c474-bb4c-409d-998a-2485f9c8a9b0",
   "metadata": {
    "tags": []
   },
   "outputs": [
    {
     "data": {
      "text/plain": [
       "tensor([ 0.6794, -0.5823, -1.2621,  1.6624])"
      ]
     },
     "execution_count": 33,
     "metadata": {},
     "output_type": "execute_result"
    }
   ],
   "source": [
    "a = torch.randn(4)\n",
    "a"
   ]
  },
  {
   "cell_type": "code",
   "execution_count": 34,
   "id": "caafa0b2-efde-47c5-ad95-f804c3bf253b",
   "metadata": {
    "tags": []
   },
   "outputs": [
    {
     "data": {
      "text/plain": [
       "tensor([ 1., -0., -1.,  2.])"
      ]
     },
     "execution_count": 34,
     "metadata": {},
     "output_type": "execute_result"
    }
   ],
   "source": [
    "torch.ceil(a)"
   ]
  },
  {
   "cell_type": "markdown",
   "id": "b0456525-dd94-4bc5-a53e-be3761b74df9",
   "metadata": {},
   "source": [
    "<a id=\"torch.clamp\"></a>\n",
    "\n",
    "### 17. torch.clamp\n",
    "\n",
    "`torch.clamp(input, min=None, max=None, *, out=None) -> Tensor`\n",
    "\n",
    "Clamps all elements in `input` into range [`min`, `max`]. Letting min_value and max_value be `min` and `max`, respectively, this returns:\n",
    "\n",
    "$$\n",
    "y_i = \\min{(\\max{(x_i, min\\_value_i)},max\\_value_i)}\n",
    "$$\n",
    "\n",
    "If `min` is `None`, there is no lower bound. Or, if `max` is `None` there is no upper bound."
   ]
  },
  {
   "cell_type": "code",
   "execution_count": 35,
   "id": "80a7e90d-056c-442a-88b9-4db56af94a19",
   "metadata": {
    "tags": []
   },
   "outputs": [
    {
     "data": {
      "text/plain": [
       "tensor([-0.3615, -0.7020, -0.6083, -0.5552])"
      ]
     },
     "execution_count": 35,
     "metadata": {},
     "output_type": "execute_result"
    }
   ],
   "source": [
    "a = torch.randn(4)\n",
    "a"
   ]
  },
  {
   "cell_type": "code",
   "execution_count": 36,
   "id": "9c9c8203-fd22-412e-a0e2-733013bc81aa",
   "metadata": {
    "tags": []
   },
   "outputs": [
    {
     "data": {
      "text/plain": [
       "tensor([-0.3615, -0.5000, -0.5000, -0.5000])"
      ]
     },
     "execution_count": 36,
     "metadata": {},
     "output_type": "execute_result"
    }
   ],
   "source": [
    "torch.clamp(a, min=-0.5, max=0.5)"
   ]
  },
  {
   "cell_type": "code",
   "execution_count": 37,
   "id": "519f53b6-45db-42b4-b69d-c704349cbfb0",
   "metadata": {
    "tags": []
   },
   "outputs": [
    {
     "data": {
      "text/plain": [
       "tensor([-0.3615, -0.3333,  0.3333,  1.0000])"
      ]
     },
     "execution_count": 37,
     "metadata": {},
     "output_type": "execute_result"
    }
   ],
   "source": [
    "min = torch.linspace(-1, 1, steps=4)\n",
    "torch.clamp(a, min=min)"
   ]
  },
  {
   "cell_type": "markdown",
   "id": "ff899a3f-3401-4a27-b040-544404cb7828",
   "metadata": {},
   "source": [
    "`torch.clip(input, min=None, max=None, *, out=None)` is alias for `torch.clamp()` "
   ]
  },
  {
   "cell_type": "markdown",
   "id": "65c1c9b4-957b-4b03-a3a1-dc6a9f0b4e7f",
   "metadata": {},
   "source": [
    "<a id=\"torch.conj_physical\"></a>\n",
    "\n",
    "### 18. torch.conj_physical\n",
    "\n",
    "`torch.conj_physical(input, *, out=None) -> Tensor`\n",
    "\n",
    "Computes the element-wise conjugate of the given `input` tensor. If `input` has a non-complex dtype, this function just returns `input`.\n",
    "\n",
    "$$\n",
    "out_i = conj(input_i)\n",
    "$$"
   ]
  },
  {
   "cell_type": "code",
   "execution_count": 3,
   "id": "b61d1f55-8547-4305-a5fd-8a17ccad3c98",
   "metadata": {
    "tags": []
   },
   "outputs": [
    {
     "data": {
      "text/plain": [
       "tensor([-1.-1.j, -2.-2.j,  3.+3.j])"
      ]
     },
     "execution_count": 3,
     "metadata": {},
     "output_type": "execute_result"
    }
   ],
   "source": [
    "torch.conj_physical(torch.tensor([-1 + 1j, -2 + 2j, 3 - 3j]))"
   ]
  },
  {
   "cell_type": "markdown",
   "id": "7e29b726-13f4-4bd5-9720-e2757fc062d2",
   "metadata": {},
   "source": [
    "<a id=\"torch.copysign>\"></a>\n",
    "\n",
    "### 19. torch.copysign\n",
    "\n",
    "`torch.copysign(input, other, *, out=None) -> Tensor`\n",
    "\n",
    "Create a new floating-point tensor with the magnitude of `input` and the sign of `other`, elementwise.\n",
    "\n",
    "$$\n",
    "\\begin{equation}\n",
    "out_i = \n",
    "\\left\\{\n",
    "    \\begin{array}{lr}\n",
    "        -|input_i|, & \\text{if } other_i \\leq -0.0\\\\\n",
    "        |input_i|, & \\text{if } other_i \\geq 0.0\n",
    "    \\end{array}\n",
    "\\right\\}\n",
    "\\end{equation}\n",
    "$$"
   ]
  },
  {
   "cell_type": "code",
   "execution_count": 4,
   "id": "054a5ed6-5cc4-49f7-a7af-43ff81ea6e90",
   "metadata": {
    "tags": []
   },
   "outputs": [
    {
     "data": {
      "text/plain": [
       "tensor([-1.7307, -1.8513,  2.0427,  1.3684, -0.1806])"
      ]
     },
     "execution_count": 4,
     "metadata": {},
     "output_type": "execute_result"
    }
   ],
   "source": [
    "a = torch.randn(5)\n",
    "a"
   ]
  },
  {
   "cell_type": "code",
   "execution_count": 5,
   "id": "2ff604e3-e0c7-4533-85fb-abcffb9f0568",
   "metadata": {
    "tags": []
   },
   "outputs": [
    {
     "data": {
      "text/plain": [
       "tensor([1.7307, 1.8513, 2.0427, 1.3684, 0.1806])"
      ]
     },
     "execution_count": 5,
     "metadata": {},
     "output_type": "execute_result"
    }
   ],
   "source": [
    "torch.copysign(a, 1)"
   ]
  },
  {
   "cell_type": "code",
   "execution_count": 6,
   "id": "de9298f6-adda-46ec-8d77-c3318c074237",
   "metadata": {
    "tags": []
   },
   "outputs": [
    {
     "data": {
      "text/plain": [
       "tensor([[ 0.5232, -0.1010, -0.9771, -0.5479],\n",
       "        [ 1.1883, -0.2119, -0.2562, -1.4792],\n",
       "        [ 0.9588,  0.6384, -0.1261, -0.6105],\n",
       "        [-0.0665, -1.5347, -2.1417,  1.6902]])"
      ]
     },
     "execution_count": 6,
     "metadata": {},
     "output_type": "execute_result"
    }
   ],
   "source": [
    "a = torch.randn(4, 4)\n",
    "a"
   ]
  },
  {
   "cell_type": "code",
   "execution_count": 7,
   "id": "7b031f44-67f8-4e31-a95b-859299b74130",
   "metadata": {
    "tags": []
   },
   "outputs": [
    {
     "data": {
      "text/plain": [
       "tensor([ 0.1460, -1.5241, -1.2184, -0.6090])"
      ]
     },
     "execution_count": 7,
     "metadata": {},
     "output_type": "execute_result"
    }
   ],
   "source": [
    "b = torch.randn(4)\n",
    "b"
   ]
  },
  {
   "cell_type": "code",
   "execution_count": 8,
   "id": "8be234be-48e9-4d99-b839-f787af6fe739",
   "metadata": {
    "tags": []
   },
   "outputs": [
    {
     "data": {
      "text/plain": [
       "tensor([[ 0.5232, -0.1010, -0.9771, -0.5479],\n",
       "        [ 1.1883, -0.2119, -0.2562, -1.4792],\n",
       "        [ 0.9588, -0.6384, -0.1261, -0.6105],\n",
       "        [ 0.0665, -1.5347, -2.1417, -1.6902]])"
      ]
     },
     "execution_count": 8,
     "metadata": {},
     "output_type": "execute_result"
    }
   ],
   "source": [
    "torch.copysign(a, b)"
   ]
  },
  {
   "cell_type": "markdown",
   "id": "0c2d7c65-a3cd-4221-840f-290f641b8544",
   "metadata": {},
   "source": [
    "supports broadcasting to a common shape, and integer and float inputs."
   ]
  },
  {
   "cell_type": "markdown",
   "id": "b67fba5b-f676-4d07-8bf5-33c2cc24f05d",
   "metadata": {},
   "source": [
    "<a id=\"torch.cos\"></a>\n",
    "\n",
    "### 20. **torch.cos** IMPORTANT\n",
    "\n",
    "`torch.cos(input, *, out=None) -> Tensor`\n",
    "\n",
    "Returns a new tensor with the cosine of the elements of `input`.\n",
    "\n",
    "$$\n",
    "out_i = cos(input_i)\n",
    "$$"
   ]
  },
  {
   "cell_type": "code",
   "execution_count": 9,
   "id": "feba3765-e2b6-4b44-ba25-a1bb0adcd9b5",
   "metadata": {
    "tags": []
   },
   "outputs": [
    {
     "data": {
      "text/plain": [
       "tensor([-0.5930,  0.9175,  0.1706,  0.5374])"
      ]
     },
     "execution_count": 9,
     "metadata": {},
     "output_type": "execute_result"
    }
   ],
   "source": [
    "a = torch.randn(4)\n",
    "a"
   ]
  },
  {
   "cell_type": "code",
   "execution_count": 10,
   "id": "0fa2126f-14ce-4f0f-98e1-e199124a86b9",
   "metadata": {
    "tags": []
   },
   "outputs": [
    {
     "data": {
      "text/plain": [
       "tensor([0.8293, 0.6078, 0.9855, 0.8590])"
      ]
     },
     "execution_count": 10,
     "metadata": {},
     "output_type": "execute_result"
    }
   ],
   "source": [
    "torch.cos(a)"
   ]
  },
  {
   "cell_type": "markdown",
   "id": "9916921d-c58e-4ff9-9eda-24f128f0d0d8",
   "metadata": {},
   "source": [
    "<a id=\"torch.cosh\"></a>\n",
    "\n",
    "### 20. **torch.cosh** IMPORTANT\n",
    "\n",
    "`torch.cosh(input, *, out=None) -> Tensor`\n",
    "\n",
    "Returns a new tensor with the hyperbollic cosine of the elements of `input`.\n",
    "\n",
    "$$\n",
    "out_i = cosh(input_i)\n",
    "$$"
   ]
  },
  {
   "cell_type": "code",
   "execution_count": 11,
   "id": "8540b742-70a9-4dba-93ca-98bb61aad7b7",
   "metadata": {
    "tags": []
   },
   "outputs": [
    {
     "data": {
      "text/plain": [
       "tensor([ 0.1035,  0.0035, -1.5624,  0.4888])"
      ]
     },
     "execution_count": 11,
     "metadata": {},
     "output_type": "execute_result"
    }
   ],
   "source": [
    "a = torch.randn(4)\n",
    "a"
   ]
  },
  {
   "cell_type": "code",
   "execution_count": 12,
   "id": "2a13e345-1c46-4255-8c85-c989edb968ab",
   "metadata": {
    "tags": []
   },
   "outputs": [
    {
     "data": {
      "text/plain": [
       "tensor([1.0054, 1.0000, 2.4900, 1.1219])"
      ]
     },
     "execution_count": 12,
     "metadata": {},
     "output_type": "execute_result"
    }
   ],
   "source": [
    "torch.cosh(a)"
   ]
  },
  {
   "cell_type": "markdown",
   "id": "da1e8c53-ae5f-44f8-b58a-c36a0872feba",
   "metadata": {},
   "source": [
    "<a id=\"torch.deg2rad\"></a>\n",
    "\n",
    "### 20. **torch.deg2rad** IMPORTANT\n",
    "\n",
    "`torch.deg2rad(input, *, out=None) -> Tensor`\n",
    "\n",
    "Returns a new tensor with each of the elements of `input` converted from angles in degrees to radians."
   ]
  },
  {
   "cell_type": "code",
   "execution_count": 13,
   "id": "9c4cb224-9c23-422b-bb78-24333268e1c0",
   "metadata": {
    "tags": []
   },
   "outputs": [
    {
     "data": {
      "text/plain": [
       "tensor([[ 3.1416, -3.1416],\n",
       "        [ 6.2832, -6.2832],\n",
       "        [ 1.5708, -1.5708]])"
      ]
     },
     "execution_count": 13,
     "metadata": {},
     "output_type": "execute_result"
    }
   ],
   "source": [
    "a = torch.tensor([[180.0, -180.0], [360.0, -360.0], [90.0, -90.0]])\n",
    "torch.deg2rad(a)"
   ]
  },
  {
   "cell_type": "markdown",
   "id": "f9fd77c5-3941-4639-ae7b-39760d9cffac",
   "metadata": {},
   "source": [
    "<a id=\"torch.cdiv\"></a>\n",
    "\n",
    "### 20. **torch.div** IMPORTANT\n",
    "\n",
    "`torch.div(input, other, *, rounding_mode=None, out=None) -> Tensor`\n",
    "\n",
    "Divides each elements of the input `input` by the corresponding element of `other`.\n",
    "\n",
    "$$\n",
    "out_i = \\frac{input_i}{other_i}\n",
    "$$"
   ]
  },
  {
   "cell_type": "code",
   "execution_count": 14,
   "id": "27375969-f557-4e31-8bc2-fbca923e2743",
   "metadata": {
    "tags": []
   },
   "outputs": [
    {
     "data": {
      "text/plain": [
       "tensor([ 0.7620,  2.5548, -0.5944, -0.7438,  0.9274])"
      ]
     },
     "execution_count": 14,
     "metadata": {},
     "output_type": "execute_result"
    }
   ],
   "source": [
    "x = torch.tensor([ 0.3810,  1.2774, -0.2972, -0.3719,  0.4637])\n",
    "torch.div(x, 0.5)"
   ]
  },
  {
   "cell_type": "code",
   "execution_count": 15,
   "id": "3b21bd77-e928-4d5c-bf5d-6ac24240c788",
   "metadata": {
    "tags": []
   },
   "outputs": [
    {
     "data": {
      "text/plain": [
       "tensor([[-0.4620, -6.6051,  0.5676,  1.2639],\n",
       "        [ 0.2260, -3.4509, -1.2086,  6.8990],\n",
       "        [ 0.1322,  4.9764, -0.9564,  5.3484],\n",
       "        [-0.2278, -0.1068, -1.4678,  6.3938]])"
      ]
     },
     "execution_count": 15,
     "metadata": {},
     "output_type": "execute_result"
    }
   ],
   "source": [
    "a = torch.tensor([[-0.3711, -1.9353, -0.4605, -0.2917],\n",
    "                   [ 0.1815, -1.0111,  0.9805, -1.5923],\n",
    "                   [ 0.1062,  1.4581,  0.7759, -1.2344],\n",
    "                   [-0.1830, -0.0313,  1.1908, -1.4757]])\n",
    "b = torch.tensor([ 0.8032,  0.2930, -0.8113, -0.2308])\n",
    "torch.div(a, b)"
   ]
  },
  {
   "cell_type": "code",
   "execution_count": 16,
   "id": "44791ede-4505-49ad-b3cc-5cda14fafdbd",
   "metadata": {
    "tags": []
   },
   "outputs": [
    {
     "data": {
      "text/plain": [
       "tensor([[-0., -6.,  0.,  1.],\n",
       "        [ 0., -3., -1.,  6.],\n",
       "        [ 0.,  4., -0.,  5.],\n",
       "        [-0., -0., -1.,  6.]])"
      ]
     },
     "execution_count": 16,
     "metadata": {},
     "output_type": "execute_result"
    }
   ],
   "source": [
    "torch.div(a, b, rounding_mode='trunc')"
   ]
  },
  {
   "cell_type": "code",
   "execution_count": 17,
   "id": "bc085111-5707-4cf8-832b-ecf6d1a97401",
   "metadata": {
    "tags": []
   },
   "outputs": [
    {
     "data": {
      "text/plain": [
       "tensor([[-1., -7.,  0.,  1.],\n",
       "        [ 0., -4., -2.,  6.],\n",
       "        [ 0.,  4., -1.,  5.],\n",
       "        [-1., -1., -2.,  6.]])"
      ]
     },
     "execution_count": 17,
     "metadata": {},
     "output_type": "execute_result"
    }
   ],
   "source": [
    "torch.div(a, b, rounding_mode='floor')"
   ]
  },
  {
   "cell_type": "markdown",
   "id": "95dbc79a-9223-4db4-8e89-92b1faec23df",
   "metadata": {},
   "source": [
    "`torch.divide()` is alias for torch.div()"
   ]
  },
  {
   "cell_type": "markdown",
   "id": "b2691b73-1c23-4219-80d6-9a54891a9115",
   "metadata": {},
   "source": [
    "<a id=\"torch.exp\"></a>\n",
    "\n",
    "### 21. **torch.exp** IMPORTANT\n",
    "\n",
    "`torch.exp(input, *, out=None) -> Tensor`\n",
    "\n",
    "Returns a new tensor with the exponential of the elements of the input tensor `input`.\n",
    "\n",
    "$$\n",
    "y_i = e^{x_i}\n",
    "$$"
   ]
  },
  {
   "cell_type": "code",
   "execution_count": 19,
   "id": "793547c3-6645-4997-9cd6-92887ce689fb",
   "metadata": {
    "tags": []
   },
   "outputs": [
    {
     "data": {
      "text/plain": [
       "tensor([1., 2.])"
      ]
     },
     "execution_count": 19,
     "metadata": {},
     "output_type": "execute_result"
    }
   ],
   "source": [
    "import math\n",
    "torch.exp(torch.tensor([0, math.log(2.)]))"
   ]
  },
  {
   "cell_type": "code",
   "execution_count": 20,
   "id": "5a207fc3-bdad-4ccc-bfd4-f90fed8ba9dd",
   "metadata": {
    "tags": []
   },
   "outputs": [
    {
     "data": {
      "text/plain": [
       "tensor([0.0000, 0.6931])"
      ]
     },
     "execution_count": 20,
     "metadata": {},
     "output_type": "execute_result"
    }
   ],
   "source": [
    "torch.tensor([0, math.log(2.)])"
   ]
  },
  {
   "cell_type": "markdown",
   "id": "4356d43d-5a37-463b-8060-833889b8b41b",
   "metadata": {},
   "source": [
    "<a id=\"torch.fake_quantize_per_channel_affine\"></a>\n",
    "\n",
    "### 22. torch.fake_quantize_per_channel_affile\n",
    "\n",
    "`torch.fake_quantize_per_channel_affine(input, scale, zero_point, axis, quant_min, quant_max) -> Tensor`\n",
    "\n",
    "Returns a new tensor with the data in `input` fake quantized per channel using `scale`, `zero_point`, `quant_min` and `quant_max`, across the channel specified by `axis`.\n",
    "\n",
    "$\n",
    "output = (\\min{(quant\\_max, \\max(quant\\_min, std::nearby\\_int(input/scale) + zero\\_point)) - zero\\_point) \\times scale })\n",
    "$"
   ]
  },
  {
   "cell_type": "code",
   "execution_count": 24,
   "id": "9b3c192f-ec2d-4589-9d9b-951225c497d4",
   "metadata": {
    "tags": []
   },
   "outputs": [
    {
     "data": {
      "text/plain": [
       "tensor([[[-0.3316,  0.5738],\n",
       "         [ 0.3622, -0.7196]],\n",
       "\n",
       "        [[-1.0439,  0.9556],\n",
       "         [-2.0976, -0.4902]]])"
      ]
     },
     "execution_count": 24,
     "metadata": {},
     "output_type": "execute_result"
    }
   ],
   "source": [
    "x = torch.randn(2, 2, 2)\n",
    "x"
   ]
  },
  {
   "cell_type": "code",
   "execution_count": 25,
   "id": "e7c1044a-fada-4b02-8a9c-a1b8125bfee2",
   "metadata": {
    "tags": []
   },
   "outputs": [
    {
     "data": {
      "text/plain": [
       "tensor([-0.0372,  0.0386])"
      ]
     },
     "execution_count": 25,
     "metadata": {},
     "output_type": "execute_result"
    }
   ],
   "source": [
    "scales = (torch.randn(2) + 1) * 0.05\n",
    "scales"
   ]
  },
  {
   "cell_type": "code",
   "execution_count": 26,
   "id": "07cb601f-f7cb-4caf-a22a-04ec988f37eb",
   "metadata": {
    "tags": []
   },
   "outputs": [
    {
     "data": {
      "text/plain": [
       "tensor([0, 0], dtype=torch.int32)"
      ]
     },
     "execution_count": 26,
     "metadata": {},
     "output_type": "execute_result"
    }
   ],
   "source": [
    "zero_points = torch.zeros(2).to(torch.int32)\n",
    "zero_points"
   ]
  },
  {
   "cell_type": "code",
   "execution_count": 27,
   "id": "6efb6b2b-48b3-41f7-94ba-749f8ef44b78",
   "metadata": {
    "tags": []
   },
   "outputs": [
    {
     "data": {
      "text/plain": [
       "tensor([[[-0.3344, -0.0000],\n",
       "         [ 0.3475,  0.0000]],\n",
       "\n",
       "        [[-1.0405, -0.0000],\n",
       "         [ 0.0000,  0.0000]]])"
      ]
     },
     "execution_count": 27,
     "metadata": {},
     "output_type": "execute_result"
    }
   ],
   "source": [
    "torch.fake_quantize_per_channel_affine(x, scales, zero_points, 1, 0, 255)"
   ]
  },
  {
   "cell_type": "markdown",
   "id": "730d2495-02ba-4027-8f66-bc544b52407b",
   "metadata": {},
   "source": [
    "<a id=\"torch.fake_quantize_per_tensor_affine\"></a>\n",
    "\n",
    "### 22. torch.fake_quantize_per_tensor_affine\n",
    "\n",
    "`torch.fake_quantize_per_tensor_affine(input, scale, zero_point, quant_min, quant_max) -> Tensor`\n",
    "\n",
    "Returns a new tensor with the data in `input` fake quantized using `scale`, `zero_point`, `quant_min` and `quant_max`.\n",
    "\n",
    "$\n",
    "output = (\\min{(quant\\_max, \\max(quant\\_min, std::nearby\\_int(input/scale) + zero\\_point)) - zero\\_point) \\times scale })\n",
    "$"
   ]
  },
  {
   "cell_type": "code",
   "execution_count": 28,
   "id": "947b9848-7e60-4efc-8251-b2fe476d67c2",
   "metadata": {
    "tags": []
   },
   "outputs": [
    {
     "data": {
      "text/plain": [
       "tensor([ 1.2966,  0.1317, -1.5165,  0.4877])"
      ]
     },
     "execution_count": 28,
     "metadata": {},
     "output_type": "execute_result"
    }
   ],
   "source": [
    "x = torch.randn(4)\n",
    "x"
   ]
  },
  {
   "cell_type": "code",
   "execution_count": 29,
   "id": "41f249bf-d840-4dc3-80eb-309b913499a4",
   "metadata": {
    "tags": []
   },
   "outputs": [
    {
     "data": {
      "text/plain": [
       "tensor([1.3000, 0.1000, 0.0000, 0.5000])"
      ]
     },
     "execution_count": 29,
     "metadata": {},
     "output_type": "execute_result"
    }
   ],
   "source": [
    "torch.fake_quantize_per_tensor_affine(x, 0.1, 0, 0, 255)"
   ]
  },
  {
   "cell_type": "markdown",
   "id": "04bb98db-a513-40e7-9a90-59c17dec8229",
   "metadata": {},
   "source": [
    "<a id=\"torch.trunc\"></a>\n",
    "\n",
    "### 23. torch.trunc\n",
    "\n",
    "`torch.trunc(input, *, out=None) -> Tensor`\n",
    "\n",
    "Returns a new tensor with the truncated integer values of the elements of `input`.\n",
    "\n",
    "For integer inputs, follows the array-api convention of returning a copy of the input tensor."
   ]
  },
  {
   "cell_type": "code",
   "execution_count": 30,
   "id": "757e8488-941e-473e-bdd2-1ec11e7f4ae2",
   "metadata": {
    "tags": []
   },
   "outputs": [
    {
     "data": {
      "text/plain": [
       "tensor([ 1.1190,  0.5334, -0.0170, -0.5226])"
      ]
     },
     "execution_count": 30,
     "metadata": {},
     "output_type": "execute_result"
    }
   ],
   "source": [
    "a = torch.randn(4)\n",
    "a"
   ]
  },
  {
   "cell_type": "code",
   "execution_count": 31,
   "id": "00ed0a9f-0b4e-4308-904b-e75970f79d83",
   "metadata": {
    "tags": []
   },
   "outputs": [
    {
     "data": {
      "text/plain": [
       "tensor([1., 0., -0., -0.])"
      ]
     },
     "execution_count": 31,
     "metadata": {},
     "output_type": "execute_result"
    }
   ],
   "source": [
    "torch.trunc(a)"
   ]
  },
  {
   "cell_type": "markdown",
   "id": "b1cb9171-7fd5-47cc-a75d-e34529776e34",
   "metadata": {},
   "source": [
    "`torch.fix(input, *, out=None) -> Tesnor` is Alias for `torch.trunc()`"
   ]
  },
  {
   "cell_type": "markdown",
   "id": "15961a7d-e32e-4aab-8ce8-163994d86833",
   "metadata": {},
   "source": [
    "<a id=\"torch.float_power\"></a>\n",
    "\n",
    "### 24. torch.float_power\n",
    "\n",
    "`torch.float_power(input, exponent, *, out=None) -> Tensor`\n",
    "\n",
    "Raises `input` to the power of `exponent`, elementwise, in double precision. If neither input is complex returns a `torch.float64` tensor, and if one or more inputs is complex returns a `torch.complex128` tensor."
   ]
  },
  {
   "cell_type": "code",
   "execution_count": 32,
   "id": "29346d4f-de70-43e7-913b-139713f6187c",
   "metadata": {
    "tags": []
   },
   "outputs": [
    {
     "data": {
      "text/plain": [
       "tensor([6, 0, 8, 8])"
      ]
     },
     "execution_count": 32,
     "metadata": {},
     "output_type": "execute_result"
    }
   ],
   "source": [
    "a = torch.randint(10, (4,))\n",
    "a"
   ]
  },
  {
   "cell_type": "code",
   "execution_count": 33,
   "id": "5f6a6f94-1655-413a-a58f-e1b4d7c4ec04",
   "metadata": {
    "tags": []
   },
   "outputs": [
    {
     "data": {
      "text/plain": [
       "tensor([36.,  0., 64., 64.], dtype=torch.float64)"
      ]
     },
     "execution_count": 33,
     "metadata": {},
     "output_type": "execute_result"
    }
   ],
   "source": [
    "torch.float_power(a, 2)"
   ]
  },
  {
   "cell_type": "code",
   "execution_count": 34,
   "id": "a9471d4f-6ec0-4ff3-9406-dc064a416f5d",
   "metadata": {
    "tags": []
   },
   "outputs": [
    {
     "data": {
      "text/plain": [
       "tensor([1, 2, 3, 4])"
      ]
     },
     "execution_count": 34,
     "metadata": {},
     "output_type": "execute_result"
    }
   ],
   "source": [
    "a = torch.arange(1, 5)\n",
    "a"
   ]
  },
  {
   "cell_type": "code",
   "execution_count": 35,
   "id": "1b492ab6-db16-4b32-a306-f44bea45b067",
   "metadata": {
    "tags": []
   },
   "outputs": [
    {
     "data": {
      "text/plain": [
       "tensor([ 2, -3,  4, -5])"
      ]
     },
     "execution_count": 35,
     "metadata": {},
     "output_type": "execute_result"
    }
   ],
   "source": [
    "exp = torch.tensor([2, -3, 4, -5])\n",
    "exp"
   ]
  },
  {
   "cell_type": "code",
   "execution_count": 36,
   "id": "3362aef1-19fe-4932-b8e6-731ed68c7202",
   "metadata": {
    "tags": []
   },
   "outputs": [
    {
     "data": {
      "text/plain": [
       "tensor([1.0000e+00, 1.2500e-01, 8.1000e+01, 9.7656e-04], dtype=torch.float64)"
      ]
     },
     "execution_count": 36,
     "metadata": {},
     "output_type": "execute_result"
    }
   ],
   "source": [
    "torch.float_power(a, exp)"
   ]
  },
  {
   "cell_type": "markdown",
   "id": "65d41fa2-1dbe-4ed3-a6f0-676cd547e19f",
   "metadata": {},
   "source": [
    "<a id = \"torch.floor\"></a>\n",
    "\n",
    "### 25. torch.floor\n",
    "\n",
    "`torch.floor(input, *, out=None) -> Tensor`\n",
    "\n",
    "Returns a new tensor with the floor of the elements of `input`, the largest integer less that or equal to each element.\n",
    "\n",
    "$$out_i = \\lfloor input_i \\rfloor$$"
   ]
  },
  {
   "cell_type": "code",
   "execution_count": 37,
   "id": "84c28673-3b9a-4fc6-bf31-208215b5a5cd",
   "metadata": {
    "tags": []
   },
   "outputs": [
    {
     "data": {
      "text/plain": [
       "tensor([ 0.9851, -1.0945, -1.0048, -0.2360])"
      ]
     },
     "execution_count": 37,
     "metadata": {},
     "output_type": "execute_result"
    }
   ],
   "source": [
    "a = torch.randn(4)\n",
    "a"
   ]
  },
  {
   "cell_type": "code",
   "execution_count": 38,
   "id": "1a190aea-413f-4e62-bc1e-9fe457f4eed8",
   "metadata": {
    "tags": []
   },
   "outputs": [
    {
     "data": {
      "text/plain": [
       "tensor([ 0., -2., -2., -1.])"
      ]
     },
     "execution_count": 38,
     "metadata": {},
     "output_type": "execute_result"
    }
   ],
   "source": [
    "torch.floor(a)"
   ]
  },
  {
   "cell_type": "markdown",
   "id": "50151a74-cc70-4b86-ae98-3a12670bcaa1",
   "metadata": {},
   "source": [
    "<a id=\"torch.floor_divide\"></a>\n",
    "\n",
    "### 26. torch.floor_divide\n",
    "\n",
    "`torch.floor_divide(input, other, *, out=None) -> Tensor`\n",
    "\n",
    "Computes `input` divide by `other`, elementwise, and floors the result.\n",
    "\n",
    "$$\n",
    "out_i = floor(\\frac{input_i}{other_i})\n",
    "$$\n",
    "\n",
    "Supports broadcasting to a common shape, type promotion, and integer and float inputs."
   ]
  },
  {
   "cell_type": "code",
   "execution_count": 39,
   "id": "9e4a9633-57fe-4cbd-930d-a9650dee45c7",
   "metadata": {
    "tags": []
   },
   "outputs": [
    {
     "data": {
      "text/plain": [
       "tensor([2., 1.])"
      ]
     },
     "execution_count": 39,
     "metadata": {},
     "output_type": "execute_result"
    }
   ],
   "source": [
    "a = torch.tensor([4.0, 3.0])\n",
    "b = torch.tensor([2.0, 2.0])\n",
    "torch.floor_divide(a, b)"
   ]
  },
  {
   "cell_type": "code",
   "execution_count": 40,
   "id": "f3f1dee3-9890-4a32-950d-5d60947a1efe",
   "metadata": {
    "tags": []
   },
   "outputs": [
    {
     "data": {
      "text/plain": [
       "tensor([2., 2.])"
      ]
     },
     "execution_count": 40,
     "metadata": {},
     "output_type": "execute_result"
    }
   ],
   "source": [
    "torch.floor_divide(a, 1.4)"
   ]
  },
  {
   "cell_type": "markdown",
   "id": "775dba79-3952-46bf-9464-80f1671e4092",
   "metadata": {},
   "source": [
    "<a id=\"torch.gradient\"></a>\n",
    "\n",
    "### 27. torch.gradient\n",
    "\n",
    "`torch.gradient(input, *, spacing=1, dim=1, edge_order=1) -> List of Tensors`\n",
    "\n",
    "Estimates the gradient of a function $g: \\mathbb{R}^n \\rightarrow \\mathbb{R}$ in one or more dimensions using second-order accurate central differences method and either first or second order estimates at the boundaries. "
   ]
  },
  {
   "cell_type": "code",
   "execution_count": 41,
   "id": "44216f7b-3151-4679-a721-edb803adf6b0",
   "metadata": {
    "tags": []
   },
   "outputs": [
    {
     "data": {
      "text/plain": [
       "(tensor([-3., -2.,  2.,  5.]),)"
      ]
     },
     "execution_count": 41,
     "metadata": {},
     "output_type": "execute_result"
    }
   ],
   "source": [
    "coordinates = (torch.tensor([-2., -1., 1., 4.]),)\n",
    "values = torch.tensor([4., 1., 1., 16.], )\n",
    "torch.gradient(values, spacing = coordinates)"
   ]
  },
  {
   "cell_type": "markdown",
   "id": "5efead54-e7ec-41ef-9699-2e49b5792432",
   "metadata": {},
   "source": [
    "<a id=\"torch.imag\"></a>\n",
    "\n",
    "### 28. torch.imag\n",
    "\n",
    "`torch.imag(input) -> Tensor`\n",
    "\n",
    "Returns a new tensor containing imaginary values of the `self` tensor. The returned tensor and `self` share the same underlying storage."
   ]
  },
  {
   "cell_type": "code",
   "execution_count": 42,
   "id": "00795b05-5152-492b-8557-9284270f3296",
   "metadata": {
    "tags": []
   },
   "outputs": [
    {
     "data": {
      "text/plain": [
       "tensor([-0.7774+0.2377j,  0.4198-0.2726j, -0.8727+0.5318j, -0.3239+0.1671j])"
      ]
     },
     "execution_count": 42,
     "metadata": {},
     "output_type": "execute_result"
    }
   ],
   "source": [
    "x = torch.randn(4, dtype=torch.cfloat)\n",
    "x"
   ]
  },
  {
   "cell_type": "code",
   "execution_count": 43,
   "id": "ee12f63c-5d42-4202-bfb3-1fac2d71c4e5",
   "metadata": {
    "tags": []
   },
   "outputs": [
    {
     "data": {
      "text/plain": [
       "tensor([ 0.2377, -0.2726,  0.5318,  0.1671])"
      ]
     },
     "execution_count": 43,
     "metadata": {},
     "output_type": "execute_result"
    }
   ],
   "source": [
    "x.imag"
   ]
  },
  {
   "cell_type": "markdown",
   "id": "8b1f88b7-6ca1-4a2e-8dc1-9595536385cb",
   "metadata": {},
   "source": [
    "<a id=\"torch.log\"></a>\n",
    "\n",
    "### 29. **torch.log** IMPORTANT\n",
    "\n",
    "`torch.log(input, *, out=None) -> Tensor`\n",
    "\n",
    "Returns a new tensor with the natural logarithm of the elements of `input`.\n",
    "\n",
    "$$\n",
    "y_i = \\log_e(x_i)\n",
    "$$"
   ]
  },
  {
   "cell_type": "code",
   "execution_count": 44,
   "id": "140aeff4-b6ce-423c-9add-12d34b56b3eb",
   "metadata": {
    "tags": []
   },
   "outputs": [
    {
     "data": {
      "text/plain": [
       "tensor([3.1211, 4.0108, 4.9844, 4.3715, 0.9681])"
      ]
     },
     "execution_count": 44,
     "metadata": {},
     "output_type": "execute_result"
    }
   ],
   "source": [
    "a = torch.rand(5) * 5\n",
    "a"
   ]
  },
  {
   "cell_type": "code",
   "execution_count": 45,
   "id": "4f23ca65-991a-4bb5-894c-a8c2b1dc4ddb",
   "metadata": {
    "tags": []
   },
   "outputs": [
    {
     "data": {
      "text/plain": [
       "tensor([ 1.1382,  1.3890,  1.6063,  1.4751, -0.0324])"
      ]
     },
     "execution_count": 45,
     "metadata": {},
     "output_type": "execute_result"
    }
   ],
   "source": [
    "torch.log(a)"
   ]
  },
  {
   "cell_type": "markdown",
   "id": "5f8da516-66cd-472e-8861-ead8a80b00f2",
   "metadata": {},
   "source": [
    "<a id=\"torch.log10\"></a>\n",
    "\n",
    "### 29. **torch.log10** IMPORTANT\n",
    "\n",
    "`torch.log10(input, *, out=None) -> Tensor`\n",
    "\n",
    "Returns a new tensor with the logarithm to the base 10 of the elements of `input`.\n",
    "\n",
    "$$\n",
    "y_i = \\log_{10}(x_i)\n",
    "$$"
   ]
  },
  {
   "cell_type": "code",
   "execution_count": 46,
   "id": "100e6fba-f3a9-4be3-aa03-a0aa83f21450",
   "metadata": {
    "tags": []
   },
   "outputs": [
    {
     "data": {
      "text/plain": [
       "tensor([0.9458, 0.9226, 0.1008, 0.9267, 0.9710])"
      ]
     },
     "execution_count": 46,
     "metadata": {},
     "output_type": "execute_result"
    }
   ],
   "source": [
    "a = torch.rand(5)\n",
    "a"
   ]
  },
  {
   "cell_type": "code",
   "execution_count": 47,
   "id": "3143f5b8-dbb5-42fc-9ff2-b3b1e90de595",
   "metadata": {
    "tags": []
   },
   "outputs": [
    {
     "data": {
      "text/plain": [
       "tensor([-0.0242, -0.0350, -0.9965, -0.0331, -0.0128])"
      ]
     },
     "execution_count": 47,
     "metadata": {},
     "output_type": "execute_result"
    }
   ],
   "source": [
    "torch.log10(a)"
   ]
  },
  {
   "cell_type": "markdown",
   "id": "0aa3881b-57fc-49ad-8513-34525235f433",
   "metadata": {},
   "source": [
    "<a id=\"torch.log1p\"></a>\n",
    "\n",
    "### 29. **torch.log1P** IMPORTANT\n",
    "\n",
    "`torch.log1p(input, *, out=None) -> Tensor`\n",
    "\n",
    "Returns a new tensor with the natural logarithm of (1 + `input`).\n",
    "\n",
    "$$\n",
    "y_i = \\log_e(x_i + 1)\n",
    "$$\n",
    "\n",
    "Note: This function is more accurate than `torch.log()` for small values of `input`."
   ]
  },
  {
   "cell_type": "code",
   "execution_count": 48,
   "id": "7e4c5779-6e21-43c3-8054-16539c87e8c6",
   "metadata": {
    "tags": []
   },
   "outputs": [
    {
     "data": {
      "text/plain": [
       "tensor([0.0094, 1.0527, 0.0791, 0.2622, 0.3720])"
      ]
     },
     "execution_count": 48,
     "metadata": {},
     "output_type": "execute_result"
    }
   ],
   "source": [
    "a = torch.randn(5)\n",
    "a"
   ]
  },
  {
   "cell_type": "code",
   "execution_count": 49,
   "id": "a87ac0d0-9bef-4a4e-9f83-ea8bed36c3f4",
   "metadata": {
    "tags": []
   },
   "outputs": [
    {
     "data": {
      "text/plain": [
       "tensor([0.0094, 0.7192, 0.0761, 0.2329, 0.3163])"
      ]
     },
     "execution_count": 49,
     "metadata": {},
     "output_type": "execute_result"
    }
   ],
   "source": [
    "torch.log1p(a)"
   ]
  },
  {
   "cell_type": "markdown",
   "id": "2920109e-b849-497e-b8be-6f0ba87bb924",
   "metadata": {},
   "source": [
    "<a id=\"torch.log2\"></a>\n",
    "\n",
    "### 29. **torch.log2** IMPORTANT\n",
    "\n",
    "`torch.log2(input, *, out=None) -> Tensor`\n",
    "\n",
    "Returns a new tensor with the logarithm to the base 2 of the elements of `input`.\n",
    "\n",
    "$$\n",
    "y_i = \\log_{2}(x_i)\n",
    "$$"
   ]
  },
  {
   "cell_type": "code",
   "execution_count": 50,
   "id": "a65ce1c5-bc7d-4ddb-b426-76ae5d2019e6",
   "metadata": {
    "tags": []
   },
   "outputs": [
    {
     "data": {
      "text/plain": [
       "tensor([0.5082, 0.9826, 0.0754, 0.9001, 0.8403])"
      ]
     },
     "execution_count": 50,
     "metadata": {},
     "output_type": "execute_result"
    }
   ],
   "source": [
    "a = torch.rand(5)\n",
    "a"
   ]
  },
  {
   "cell_type": "code",
   "execution_count": 51,
   "id": "620cd9d1-1155-4a24-ba2d-8a4ddb3f9ad4",
   "metadata": {
    "tags": []
   },
   "outputs": [
    {
     "data": {
      "text/plain": [
       "tensor([-0.9765, -0.0253, -3.7298, -0.1518, -0.2510])"
      ]
     },
     "execution_count": 51,
     "metadata": {},
     "output_type": "execute_result"
    }
   ],
   "source": [
    "torch.log2(a)"
   ]
  },
  {
   "cell_type": "markdown",
   "id": "ab5d10a4-1563-4fe1-be82-669c245670c4",
   "metadata": {},
   "source": [
    "<a id=\"torch.logaddexp\"></a>\n",
    "\n",
    "### 30. **torch.logaddexp** \n",
    "\n",
    "`torch.logaddexp(input, other, *, out=None) -> Tensor`\n",
    "\n",
    "Logarithm of the sum of exponentiations of the inputs.\n",
    "\n",
    "Calculates pointwise $log(e^{x} + e^{y})$. This function is useful in statistics where the calcualted probabilities of events may be so small as to exceed the range of normal floating point numbers. In such cases the logarithm of the calculated probability is store. This function allows adding probabilities stored in such fashion."
   ]
  },
  {
   "cell_type": "code",
   "execution_count": 52,
   "id": "04b30f22-4b13-4f5b-8a35-56189ba0e68f",
   "metadata": {
    "tags": []
   },
   "outputs": [
    {
     "data": {
      "text/plain": [
       "tensor([-0.3069, -0.6867, -0.8731])"
      ]
     },
     "execution_count": 52,
     "metadata": {},
     "output_type": "execute_result"
    }
   ],
   "source": [
    "torch.logaddexp(torch.tensor([-1.0]), torch.tensor([-1.0, -2, -3]))"
   ]
  },
  {
   "cell_type": "code",
   "execution_count": 53,
   "id": "bc12b531-5967-4b67-a803-a68d2c4e7be1",
   "metadata": {
    "tags": []
   },
   "outputs": [
    {
     "data": {
      "text/plain": [
       "tensor([-1., -2., -3.])"
      ]
     },
     "execution_count": 53,
     "metadata": {},
     "output_type": "execute_result"
    }
   ],
   "source": [
    "torch.logaddexp(torch.tensor([-100.0, -200, -300]), torch.tensor([-1.0, -2, -3]))"
   ]
  },
  {
   "cell_type": "markdown",
   "id": "eb01f984-e6e5-4c67-90ab-0b55bd15ae47",
   "metadata": {},
   "source": [
    "`torch.logaddexp2(input, other, *, out=None) → Tensor` Logarithm of the sum of exponentiations of the inputs in base-2. Calculates pointwise $log(2^{x} + 2^{y})$ "
   ]
  },
  {
   "cell_type": "markdown",
   "id": "8a973ecd-c2d6-4d15-b834-e5e16b8c91bb",
   "metadata": {},
   "source": [
    "<a id=\"torch.logical_and\"></a>\n",
    "\n",
    "### 31. **torch.logical_and** IMPORTANT\n",
    "\n",
    "`torch.logical_and(input, other, *, out=None) -> Tensor`\n",
    "\n",
    "Computes the element-wise logical AND of the given input tensors. Zeros are treated as `False` and nonzeros are treated as `True`."
   ]
  },
  {
   "cell_type": "code",
   "execution_count": 54,
   "id": "44f407bb-38fb-452f-9a46-853f7ef647da",
   "metadata": {
    "tags": []
   },
   "outputs": [
    {
     "data": {
      "text/plain": [
       "tensor([ True, False, False])"
      ]
     },
     "execution_count": 54,
     "metadata": {},
     "output_type": "execute_result"
    }
   ],
   "source": [
    "torch.logical_and(torch.tensor([True, False, True]), torch.tensor([True, False, False]))"
   ]
  },
  {
   "cell_type": "code",
   "execution_count": 55,
   "id": "0dfc104a-da81-4783-b12c-7b83329e69eb",
   "metadata": {
    "tags": []
   },
   "outputs": [
    {
     "data": {
      "text/plain": [
       "tensor([False, False,  True, False])"
      ]
     },
     "execution_count": 55,
     "metadata": {},
     "output_type": "execute_result"
    }
   ],
   "source": [
    "a = torch.tensor([0, 1, 10, 0], dtype=torch.int8)\n",
    "b = torch.tensor([4, 0, 1, 0], dtype=torch.int8)\n",
    "torch.logical_and(a, b)"
   ]
  },
  {
   "cell_type": "markdown",
   "id": "62a738b5-785e-4eef-ad28-25c4bee62eb7",
   "metadata": {},
   "source": [
    "<a id=\"torch.logical_not\"></a>\n",
    "\n",
    "### 32. **torch.logical_not** IMPORTANT\n",
    "\n",
    "`torch.logical_not(input, *, out=None) -> Tensor`\n",
    "\n",
    "Computes the element-wise logical NOT of the given input tensors. If not specified, the output tensor will have the bool dtype. If the input tensor is not a bool tensor, zeros are treated as `False` and non-zeros are treated as `True`."
   ]
  },
  {
   "cell_type": "code",
   "execution_count": 56,
   "id": "cf9827b9-c9c1-4de5-80c6-5d4c751eff48",
   "metadata": {
    "tags": []
   },
   "outputs": [
    {
     "data": {
      "text/plain": [
       "tensor([False,  True])"
      ]
     },
     "execution_count": 56,
     "metadata": {},
     "output_type": "execute_result"
    }
   ],
   "source": [
    "torch.logical_not(torch.tensor([True, False]))"
   ]
  },
  {
   "cell_type": "code",
   "execution_count": 57,
   "id": "7dbb81fa-254c-456d-b8ff-ff03572c0f7a",
   "metadata": {
    "tags": []
   },
   "outputs": [
    {
     "data": {
      "text/plain": [
       "tensor([ True, False, False])"
      ]
     },
     "execution_count": 57,
     "metadata": {},
     "output_type": "execute_result"
    }
   ],
   "source": [
    "torch.logical_not(torch.tensor([0, 1, -10], dtype=torch.int8))"
   ]
  },
  {
   "cell_type": "code",
   "execution_count": 58,
   "id": "e8667fc8-bac4-4f3f-ab49-e21554504d57",
   "metadata": {
    "tags": []
   },
   "outputs": [
    {
     "data": {
      "text/plain": [
       "tensor([ True, False, False])"
      ]
     },
     "execution_count": 58,
     "metadata": {},
     "output_type": "execute_result"
    }
   ],
   "source": [
    "torch.logical_not(torch.tensor([0., 1.5, -10.], dtype=torch.double))"
   ]
  },
  {
   "cell_type": "code",
   "execution_count": 59,
   "id": "e8f95b3c-0a7d-4b24-946d-7ded4e4ff534",
   "metadata": {
    "tags": []
   },
   "outputs": [
    {
     "data": {
      "text/plain": [
       "tensor([1, 0, 0], dtype=torch.int16)"
      ]
     },
     "execution_count": 59,
     "metadata": {},
     "output_type": "execute_result"
    }
   ],
   "source": [
    "torch.logical_not(torch.tensor([0., 1., -10.], dtype=torch.double), out=torch.empty(3, dtype=torch.int16))"
   ]
  },
  {
   "cell_type": "markdown",
   "id": "e57874d4-1af4-4e73-8c88-2ab0b8f04883",
   "metadata": {},
   "source": [
    "<a id=\"torch.logical_or\"></a>\n",
    "\n",
    "### 33. **torch.logical_or** IMPORTANT\n",
    "\n",
    "`torch.logical_or(input, other, *, out=None) -> Tensor`\n",
    "\n",
    "Computes the element-wise logical OR of the given input tensors. If not specified, the output tensor will have the bool dtype. If the input tensor is not a bool tensor, zeros are treated as `False` and non-zeros are treated as `True`."
   ]
  },
  {
   "cell_type": "code",
   "execution_count": 60,
   "id": "08e002e6-91d4-46cb-b445-4ffb398ea8e1",
   "metadata": {
    "tags": []
   },
   "outputs": [
    {
     "data": {
      "text/plain": [
       "tensor([ True, False,  True])"
      ]
     },
     "execution_count": 60,
     "metadata": {},
     "output_type": "execute_result"
    }
   ],
   "source": [
    "torch.logical_or(torch.tensor([True, False, True]), torch.tensor([True, False, False]))"
   ]
  },
  {
   "cell_type": "code",
   "execution_count": 61,
   "id": "2636d06e-b50a-45f1-92a1-740c672f0e1f",
   "metadata": {
    "tags": []
   },
   "outputs": [
    {
     "data": {
      "text/plain": [
       "tensor([ True,  True,  True, False])"
      ]
     },
     "execution_count": 61,
     "metadata": {},
     "output_type": "execute_result"
    }
   ],
   "source": [
    "a = torch.tensor([0, 1, 10, 0], dtype=torch.int8)\n",
    "b = torch.tensor([4, 0, 1, 0], dtype=torch.int8)\n",
    "torch.logical_or(a, b)"
   ]
  },
  {
   "cell_type": "code",
   "execution_count": 62,
   "id": "43f58f49-ddc5-4de2-8f16-352aafdabac6",
   "metadata": {
    "tags": []
   },
   "outputs": [
    {
     "data": {
      "text/plain": [
       "tensor([ True,  True,  True, False])"
      ]
     },
     "execution_count": 62,
     "metadata": {},
     "output_type": "execute_result"
    }
   ],
   "source": [
    "torch.logical_or(a.double(), b.double())"
   ]
  },
  {
   "cell_type": "code",
   "execution_count": 68,
   "id": "f5a6c43d-a11a-41af-b9c3-7439b5eb7ce4",
   "metadata": {
    "tags": []
   },
   "outputs": [
    {
     "data": {
      "text/plain": [
       "tensor([1, 1, 1, 0], dtype=torch.int8)"
      ]
     },
     "execution_count": 68,
     "metadata": {},
     "output_type": "execute_result"
    }
   ],
   "source": [
    "torch.logical_or(a, b, out=torch.empty(4, dtype=torch.int8))"
   ]
  },
  {
   "cell_type": "markdown",
   "id": "cd707d3d-f38b-4aec-8105-dd18c9bc40af",
   "metadata": {},
   "source": [
    "<a id=\"torch.logical_xor\"></a>\n",
    "\n",
    "### 33. **torch.logical_xor** IMPORTANT\n",
    "\n",
    "`torch.logical_xor(input, other, *, out=None) -> Tensor`\n",
    "\n",
    "Computes the element-wise logical XOR of the given input tensors. If not specified, the output tensor will have the bool dtype. If the input tensor is not a bool tensor, zeros are treated as `False` and non-zeros are treated as `True`."
   ]
  },
  {
   "cell_type": "code",
   "execution_count": 65,
   "id": "67505e9b-8c69-4be0-944f-5648f482c5c6",
   "metadata": {
    "tags": []
   },
   "outputs": [
    {
     "data": {
      "text/plain": [
       "tensor([False, False,  True])"
      ]
     },
     "execution_count": 65,
     "metadata": {},
     "output_type": "execute_result"
    }
   ],
   "source": [
    "torch.logical_xor(torch.tensor([True, False, True]), torch.tensor([True, False, False]))"
   ]
  },
  {
   "cell_type": "code",
   "execution_count": 66,
   "id": "df33d6a9-e499-4155-86c3-4bac4bdf2be2",
   "metadata": {
    "tags": []
   },
   "outputs": [
    {
     "data": {
      "text/plain": [
       "tensor([ True,  True,  True, False])"
      ]
     },
     "execution_count": 66,
     "metadata": {},
     "output_type": "execute_result"
    }
   ],
   "source": [
    "a = torch.tensor([0, 1, 10, 0], dtype=torch.int8)\n",
    "b = torch.tensor([4, 0, 1, 0], dtype=torch.int8)\n",
    "torch.logical_or(a, b)"
   ]
  },
  {
   "cell_type": "code",
   "execution_count": 67,
   "id": "f9f170ed-33ed-473a-b7e9-5ee350942ef8",
   "metadata": {
    "tags": []
   },
   "outputs": [
    {
     "data": {
      "text/plain": [
       "tensor([1, 1, 1, 0], dtype=torch.int8)"
      ]
     },
     "execution_count": 67,
     "metadata": {},
     "output_type": "execute_result"
    }
   ],
   "source": [
    "torch.logical_or(a, b, out=torch.empty(4, dtype=torch.int8))"
   ]
  },
  {
   "cell_type": "markdown",
   "id": "da731651-6c7f-4c5a-8f8f-52cb6394c44b",
   "metadata": {},
   "source": [
    "<a id=\"torch.hypot\"></a>\n",
    "\n",
    "### 34. torch.hypot\n",
    "\n",
    "`torch.hypot(input, other, *, out=None) -> Tensor`\n",
    "\n",
    "Given the legs of a right triangle, return its hypotenuse.\n",
    "\n",
    "$$\n",
    "out_i = \\sqrt{input^2_i + other^2_i}\n",
    "$$"
   ]
  },
  {
   "cell_type": "code",
   "execution_count": 69,
   "id": "f42e50fe-8d40-4ee9-a092-eccfad58de25",
   "metadata": {
    "tags": []
   },
   "outputs": [
    {
     "data": {
      "text/plain": [
       "tensor([5.0000, 5.6569, 6.4031])"
      ]
     },
     "execution_count": 69,
     "metadata": {},
     "output_type": "execute_result"
    }
   ],
   "source": [
    "torch.hypot(torch.tensor([4.0]), torch.tensor([3.0, 4.0, 5.0]))"
   ]
  },
  {
   "cell_type": "markdown",
   "id": "544652f8-cbde-4caf-9b38-fcfae65b37c5",
   "metadata": {},
   "source": [
    "<a id=\"torch.mul\"></a>\n",
    "\n",
    "### 35. **torch.mul** VERY VERY IMPORTANT\n",
    "\n",
    "Multiplies `input` by `other`.\n",
    "\n",
    "$$\n",
    "out_i = input_i \\times other_i\n",
    "$$"
   ]
  },
  {
   "cell_type": "code",
   "execution_count": 70,
   "id": "21d2ac8a-a9ca-4120-a831-1c1b605cfd8d",
   "metadata": {
    "tags": []
   },
   "outputs": [
    {
     "data": {
      "text/plain": [
       "tensor([-0.6713, -0.7337, -1.1513])"
      ]
     },
     "execution_count": 70,
     "metadata": {},
     "output_type": "execute_result"
    }
   ],
   "source": [
    "a = torch.randn(3)\n",
    "a"
   ]
  },
  {
   "cell_type": "code",
   "execution_count": 71,
   "id": "c10c70b0-543d-44fe-9bf3-ec60039f23d8",
   "metadata": {
    "tags": []
   },
   "outputs": [
    {
     "data": {
      "text/plain": [
       "tensor([ -67.1314,  -73.3736, -115.1315])"
      ]
     },
     "execution_count": 71,
     "metadata": {},
     "output_type": "execute_result"
    }
   ],
   "source": [
    "torch.mul(a, 100)"
   ]
  },
  {
   "cell_type": "code",
   "execution_count": 72,
   "id": "1dfdedec-ee41-4923-b288-2706defc6168",
   "metadata": {
    "tags": []
   },
   "outputs": [
    {
     "data": {
      "text/plain": [
       "tensor([[-1.1068],\n",
       "        [-0.3539],\n",
       "        [ 1.1094],\n",
       "        [-1.0367]])"
      ]
     },
     "execution_count": 72,
     "metadata": {},
     "output_type": "execute_result"
    }
   ],
   "source": [
    "b = torch.randn(4, 1)\n",
    "b"
   ]
  },
  {
   "cell_type": "code",
   "execution_count": 73,
   "id": "f5a2262f-2700-421f-b159-47997ef22230",
   "metadata": {
    "tags": []
   },
   "outputs": [
    {
     "data": {
      "text/plain": [
       "tensor([[-2.9981,  0.1003,  0.3116,  1.8731]])"
      ]
     },
     "execution_count": 73,
     "metadata": {},
     "output_type": "execute_result"
    }
   ],
   "source": [
    "c = torch.randn(1, 4)\n",
    "c"
   ]
  },
  {
   "cell_type": "code",
   "execution_count": 74,
   "id": "1d006af2-7e30-4f90-896d-bf086e681ecb",
   "metadata": {
    "tags": []
   },
   "outputs": [
    {
     "data": {
      "text/plain": [
       "tensor([[ 3.3183, -0.1111, -0.3448, -2.0732],\n",
       "        [ 1.0610, -0.0355, -0.1103, -0.6629],\n",
       "        [-3.3262,  0.1113,  0.3457,  2.0781],\n",
       "        [ 3.1080, -0.1040, -0.3230, -1.9418]])"
      ]
     },
     "execution_count": 74,
     "metadata": {},
     "output_type": "execute_result"
    }
   ],
   "source": [
    "torch.mul(b, c)"
   ]
  },
  {
   "cell_type": "markdown",
   "id": "33de4212-9268-4681-8646-18db1f1ac91c",
   "metadata": {},
   "source": [
    "`torch.multiply()` is aliad for `torch.mul()`"
   ]
  },
  {
   "cell_type": "markdown",
   "id": "6ff2f781-145d-4cab-9050-516af8985eb5",
   "metadata": {},
   "source": [
    "<a id=\"torch.nan_to_num\"></a>\n",
    "\n",
    "### 36. torch.nan_to_num\n",
    "\n",
    "`torch.nan_to_num(input, nan=0.0, posinf=None, neginf=None, *, out=None) → Tensor`\n",
    "\n",
    "Replaces `NaN`, positive infinity, and negative infinity values in `input` with the values specified by `nan`, `posinf`, and `neginf`, respectively. By default, `NaN`s are replaced with zero, positive infinity is replaced with the greatest finite value representable by `input`’s dtype, and negative infinity is replaced with the least finite value representable by `input`’s dtype."
   ]
  },
  {
   "cell_type": "code",
   "execution_count": 76,
   "id": "251e0f2d-6eef-42d1-a5f0-e3a623fcea83",
   "metadata": {
    "tags": []
   },
   "outputs": [
    {
     "data": {
      "text/plain": [
       "tensor([ 0.0000e+00,  3.4028e+38, -3.4028e+38,  3.1400e+00])"
      ]
     },
     "execution_count": 76,
     "metadata": {},
     "output_type": "execute_result"
    }
   ],
   "source": [
    "x = torch.tensor([float('nan'), float('inf'), -float('inf'), 3.14])\n",
    "torch.nan_to_num(x)"
   ]
  },
  {
   "cell_type": "code",
   "execution_count": 77,
   "id": "16acb2ff-68fc-4fcd-863e-2a00d967d1c2",
   "metadata": {
    "tags": []
   },
   "outputs": [
    {
     "data": {
      "text/plain": [
       "tensor([ 2.0000e+00,  3.4028e+38, -3.4028e+38,  3.1400e+00])"
      ]
     },
     "execution_count": 77,
     "metadata": {},
     "output_type": "execute_result"
    }
   ],
   "source": [
    "torch.nan_to_num(x, nan=2.0)"
   ]
  },
  {
   "cell_type": "code",
   "execution_count": 78,
   "id": "cb280600-c5e9-458b-918e-e9000f249959",
   "metadata": {
    "tags": []
   },
   "outputs": [
    {
     "data": {
      "text/plain": [
       "tensor([ 2.0000e+00,  1.0000e+00, -3.4028e+38,  3.1400e+00])"
      ]
     },
     "execution_count": 78,
     "metadata": {},
     "output_type": "execute_result"
    }
   ],
   "source": [
    "torch.nan_to_num(x, nan=2.0, posinf=1.0)"
   ]
  },
  {
   "cell_type": "markdown",
   "id": "0f390067-d694-479e-8f97-9fa1f2c4f260",
   "metadata": {},
   "source": [
    "<a id=\"torch.neg\"></a>\n",
    "\n",
    "### 37. torch.neg\n",
    "\n",
    "`torch.neg(input, *, out=None) -> Tensor`\n",
    "\n",
    "Returns a new tensor with the negative of the elements of `input`.\n",
    "\n",
    "$$\n",
    "out_i = -1 \\times input\n",
    "$$"
   ]
  },
  {
   "cell_type": "code",
   "execution_count": 79,
   "id": "138eabe8-d518-42fb-a666-addc579ab236",
   "metadata": {
    "tags": []
   },
   "outputs": [
    {
     "data": {
      "text/plain": [
       "tensor([ 1.3062, -0.3472, -1.1605,  1.8855, -0.5809])"
      ]
     },
     "execution_count": 79,
     "metadata": {},
     "output_type": "execute_result"
    }
   ],
   "source": [
    "a = torch.randn(5)\n",
    "a"
   ]
  },
  {
   "cell_type": "code",
   "execution_count": 80,
   "id": "a65c2256-ed8d-4f5a-a4d3-8fb09c0c7baf",
   "metadata": {
    "tags": []
   },
   "outputs": [
    {
     "data": {
      "text/plain": [
       "tensor([-1.3062,  0.3472,  1.1605, -1.8855,  0.5809])"
      ]
     },
     "execution_count": 80,
     "metadata": {},
     "output_type": "execute_result"
    }
   ],
   "source": [
    "torch.neg(a)"
   ]
  },
  {
   "cell_type": "markdown",
   "id": "3a327d88-26f6-4eff-a71b-567432a66e66",
   "metadata": {},
   "source": [
    "`torch.negative(input,*,out=None)` is alias for `torch.neg()`"
   ]
  },
  {
   "cell_type": "markdown",
   "id": "68148cd8-9c27-4801-85bc-e6f5ae65c040",
   "metadata": {},
   "source": [
    "<a id=\"torch.positive\"></a>\n",
    "\n",
    "### 38. torch.positive\n",
    "\n",
    "`torch.positive(input) -> Tensor`\n",
    "\n",
    "Returns input. Throws a runtime error if input is a bool tensor."
   ]
  },
  {
   "cell_type": "code",
   "execution_count": 81,
   "id": "c708b360-c748-4e21-b1b1-360b40d7c6cb",
   "metadata": {
    "tags": []
   },
   "outputs": [
    {
     "data": {
      "text/plain": [
       "tensor([-0.8155,  0.2740, -1.6550,  2.0652,  0.9833])"
      ]
     },
     "execution_count": 81,
     "metadata": {},
     "output_type": "execute_result"
    }
   ],
   "source": [
    "t = torch.randn(5)\n",
    "t"
   ]
  },
  {
   "cell_type": "code",
   "execution_count": 82,
   "id": "522fba4b-2c4e-4444-9d59-f71b0864512d",
   "metadata": {
    "tags": []
   },
   "outputs": [
    {
     "data": {
      "text/plain": [
       "tensor([-0.8155,  0.2740, -1.6550,  2.0652,  0.9833])"
      ]
     },
     "execution_count": 82,
     "metadata": {},
     "output_type": "execute_result"
    }
   ],
   "source": [
    "torch.positive(t)"
   ]
  },
  {
   "cell_type": "code",
   "execution_count": 91,
   "id": "932eb706-b4cc-4320-9d5b-2dca070939bd",
   "metadata": {
    "tags": []
   },
   "outputs": [
    {
     "data": {
      "text/plain": [
       "tensor([ True, False,  True,  True, False, False])"
      ]
     },
     "execution_count": 91,
     "metadata": {},
     "output_type": "execute_result"
    }
   ],
   "source": [
    "t = torch.tensor([1, 0, 1, 1, 0, 0], dtype=torch.bool)\n",
    "t"
   ]
  },
  {
   "cell_type": "code",
   "execution_count": 92,
   "id": "bb26e03d-7a92-4fd8-bcd8-3a07cd9e5e02",
   "metadata": {
    "tags": []
   },
   "outputs": [
    {
     "ename": "RuntimeError",
     "evalue": "The `+` operator, on a bool tensor is not supported.",
     "output_type": "error",
     "traceback": [
      "\u001b[0;31m---------------------------------------------------------------------------\u001b[0m",
      "\u001b[0;31mRuntimeError\u001b[0m                              Traceback (most recent call last)",
      "Cell \u001b[0;32mIn[92], line 1\u001b[0m\n\u001b[0;32m----> 1\u001b[0m \u001b[43mtorch\u001b[49m\u001b[38;5;241;43m.\u001b[39;49m\u001b[43mpositive\u001b[49m\u001b[43m(\u001b[49m\u001b[43mt\u001b[49m\u001b[43m)\u001b[49m\n",
      "\u001b[0;31mRuntimeError\u001b[0m: The `+` operator, on a bool tensor is not supported."
     ]
    }
   ],
   "source": [
    "torch.positive(t)"
   ]
  },
  {
   "cell_type": "markdown",
   "id": "57cde643-2fba-4ec9-9b64-92f1523b259e",
   "metadata": {},
   "source": [
    "<a id=\"torch.pow\"></a>\n",
    "\n",
    "### 39. **torch.pow** VERY VERY IMPORTANT\n",
    "\n",
    "`torch.pow(input, exponent, *, out=None) -> Tensor`\n",
    "\n",
    "Take the power of each element in `input` with `exponent` and returns a tensor with the result. \n",
    "\n",
    "`exponent` can either be a signle `float` number of a Tensor with the same number of elements as `input`.\n",
    "\n",
    "When exponent is a scalar value, the operation applied is:\n",
    "$$\n",
    "out_i = x_i^{exponent}\n",
    "$$\n",
    "\n",
    "When exponent is a tensor, the operation applied is:\n",
    "$$\n",
    "out_i = x_i^{exponent_i}\n",
    "$$"
   ]
  },
  {
   "cell_type": "code",
   "execution_count": 93,
   "id": "ee1674e5-2108-48f6-b9a8-e56f482a6408",
   "metadata": {
    "tags": []
   },
   "outputs": [
    {
     "data": {
      "text/plain": [
       "tensor([ 0.2132, -0.2367, -0.3120, -1.8377])"
      ]
     },
     "execution_count": 93,
     "metadata": {},
     "output_type": "execute_result"
    }
   ],
   "source": [
    "a = torch.randn(4)\n",
    "a"
   ]
  },
  {
   "cell_type": "code",
   "execution_count": 94,
   "id": "f6cbd6c9-ae08-4120-a872-5cddac8247bb",
   "metadata": {
    "tags": []
   },
   "outputs": [
    {
     "data": {
      "text/plain": [
       "tensor([0.0454, 0.0560, 0.0973, 3.3771])"
      ]
     },
     "execution_count": 94,
     "metadata": {},
     "output_type": "execute_result"
    }
   ],
   "source": [
    "torch.pow(a, 2)"
   ]
  },
  {
   "cell_type": "code",
   "execution_count": 95,
   "id": "b36924c7-855f-47f2-8b40-eb62b587634f",
   "metadata": {
    "tags": []
   },
   "outputs": [
    {
     "data": {
      "text/plain": [
       "tensor([1., 2., 3., 4.])"
      ]
     },
     "execution_count": 95,
     "metadata": {},
     "output_type": "execute_result"
    }
   ],
   "source": [
    "exp = torch.arange(1., 5.)\n",
    "exp"
   ]
  },
  {
   "cell_type": "code",
   "execution_count": 96,
   "id": "c883e108-a5ef-437f-83a0-2f90579fd891",
   "metadata": {
    "tags": []
   },
   "outputs": [
    {
     "data": {
      "text/plain": [
       "tensor([1., 2., 3., 4.])"
      ]
     },
     "execution_count": 96,
     "metadata": {},
     "output_type": "execute_result"
    }
   ],
   "source": [
    "a = torch.arange(1., 5.)\n",
    "a"
   ]
  },
  {
   "cell_type": "code",
   "execution_count": 97,
   "id": "449fab73-0fce-4484-8de1-05839c59a8c9",
   "metadata": {
    "tags": []
   },
   "outputs": [
    {
     "data": {
      "text/plain": [
       "tensor([  1.,   4.,  27., 256.])"
      ]
     },
     "execution_count": 97,
     "metadata": {},
     "output_type": "execute_result"
    }
   ],
   "source": [
    "torch.pow(a, exp)"
   ]
  },
  {
   "cell_type": "markdown",
   "id": "765f141a-9abe-4e36-a0f8-d1e457b18a96",
   "metadata": {},
   "source": [
    "`torch.pow(self, exponent, *, out=None) → Tensor` \n",
    "\n",
    "`self` is a scalar `float` value, and `exponent` is a tensor. The returned tensor `out` is of the same shape as `exponent`.\n",
    "\n",
    "The operation applied is:\n",
    "$$\n",
    "out_i = self^{exponent_i}\n",
    "$$"
   ]
  },
  {
   "cell_type": "code",
   "execution_count": 98,
   "id": "09be1a8a-0012-4119-9f42-1fd96f51b9c6",
   "metadata": {
    "tags": []
   },
   "outputs": [],
   "source": [
    "exp = torch.arange(1., 5.)\n",
    "base = 2"
   ]
  },
  {
   "cell_type": "code",
   "execution_count": 99,
   "id": "d31c6699-345c-4b2f-93df-2844b3b277ba",
   "metadata": {
    "tags": []
   },
   "outputs": [
    {
     "data": {
      "text/plain": [
       "tensor([ 2.,  4.,  8., 16.])"
      ]
     },
     "execution_count": 99,
     "metadata": {},
     "output_type": "execute_result"
    }
   ],
   "source": [
    "torch.pow(base, exp)"
   ]
  },
  {
   "cell_type": "markdown",
   "id": "b7d71409-376d-4472-a067-01e68ac68598",
   "metadata": {},
   "source": [
    "<a id=\"torch.quantized_batch_norm\"></a>\n",
    "\n",
    "### 40. torch.quantized_batch_norm\n",
    "\n",
    "`torch.quantized_batch_norm(input, weight=None, bias=None, mean, var, eps, output_scale, output_zero_point) -> tensor`\n",
    "\n",
    "Applies batch normalization on a 4D (NCHW) quantized tensor.\n",
    "\n",
    "$$\n",
    "y = \\frac{a-\\mathbb{E}[x]}{\\sqrt{\\mathbb{Var}[x] + \\epsilon}} * \\gamma + \\beta\n",
    "$$"
   ]
  },
  {
   "cell_type": "code",
   "execution_count": 101,
   "id": "f9491fe2-e8a6-45a2-b34a-ef5d140932dd",
   "metadata": {
    "tags": []
   },
   "outputs": [
    {
     "data": {
      "text/plain": [
       "tensor([[[[-1.5000,  0.0000],\n",
       "          [-1.5000,  1.5000]],\n",
       "\n",
       "         [[ 1.5000,  1.5000],\n",
       "          [ 1.5000, -1.5000]]],\n",
       "\n",
       "\n",
       "        [[[ 0.0000,  0.0000],\n",
       "          [ 0.0000,  0.0000]],\n",
       "\n",
       "         [[ 1.5000, -1.5000],\n",
       "          [-1.5000,  1.5000]]]], size=(2, 2, 2, 2), dtype=torch.quint8,\n",
       "       quantization_scheme=torch.per_tensor_affine, scale=1.5, zero_point=3)"
      ]
     },
     "execution_count": 101,
     "metadata": {},
     "output_type": "execute_result"
    }
   ],
   "source": [
    "qx = torch.quantize_per_tensor(torch.randn(2, 2, 2, 2), 1.5, 3, torch.quint8)\n",
    "qx"
   ]
  },
  {
   "cell_type": "code",
   "execution_count": 103,
   "id": "7ba7646b-bc7b-4dc4-972c-7c62cd2255c5",
   "metadata": {
    "tags": []
   },
   "outputs": [
    {
     "data": {
      "text/plain": [
       "tensor([[[[-0.4000, -0.4000],\n",
       "          [-0.4000,  0.6000]],\n",
       "\n",
       "         [[ 1.6000,  1.6000],\n",
       "          [ 1.6000, -0.4000]]],\n",
       "\n",
       "\n",
       "        [[[-0.4000, -0.4000],\n",
       "          [-0.4000, -0.4000]],\n",
       "\n",
       "         [[ 1.6000, -0.4000],\n",
       "          [-0.4000,  1.6000]]]], size=(2, 2, 2, 2), dtype=torch.quint8,\n",
       "       quantization_scheme=torch.per_tensor_affine, scale=0.2, zero_point=2)"
      ]
     },
     "execution_count": 103,
     "metadata": {},
     "output_type": "execute_result"
    }
   ],
   "source": [
    "torch.quantized_batch_norm(qx, \n",
    "                           torch.ones(2), \n",
    "                           torch.zeros(2), \n",
    "                           torch.rand(2), \n",
    "                           torch.rand(2), \n",
    "                           0.00001, \n",
    "                           0.2, \n",
    "                           2)"
   ]
  },
  {
   "cell_type": "code",
   "execution_count": null,
   "id": "f0c9b018-21dc-453a-8ba9-99596723ca56",
   "metadata": {},
   "outputs": [],
   "source": []
  }
 ],
 "metadata": {
  "kernelspec": {
   "display_name": "augment",
   "language": "python",
   "name": "augmentation-project"
  },
  "language_info": {
   "codemirror_mode": {
    "name": "ipython",
    "version": 3
   },
   "file_extension": ".py",
   "mimetype": "text/x-python",
   "name": "python",
   "nbconvert_exporter": "python",
   "pygments_lexer": "ipython3",
   "version": "3.9.18"
  }
 },
 "nbformat": 4,
 "nbformat_minor": 5
}
