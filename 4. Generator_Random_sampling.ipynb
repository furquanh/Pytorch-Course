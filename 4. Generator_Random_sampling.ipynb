{
 "cells": [
  {
   "cell_type": "code",
   "execution_count": 2,
   "id": "d45a67a3-1a0a-4d06-9cd1-9ee7441d6010",
   "metadata": {
    "tags": []
   },
   "outputs": [],
   "source": [
    "import torch"
   ]
  },
  {
   "cell_type": "markdown",
   "id": "96813c97-e6c1-4afc-8f30-316be6d8eebc",
   "metadata": {},
   "source": [
    "# Generator and Random Sampling\n",
    "\n",
    "### Table of Contents\n",
    "\n",
    "## Generators\n",
    "1. [Class: torch.generator](#torch.generator)\n",
    "## Random Sampling\n",
    "1. [torch.seed](#torch.seed)\n",
    "2. [torch.manual_seed](#torch.manual_seed)\n",
    "3. [torch.initial_seed](#torch.initial_seed)\n",
    "4. [torch.get_rng_state](#torch.get_rng_state)\n",
    "5. [torch.set_rng_state](#torch.set_rng_state)\n",
    "6. [torch.bernoulli](#torch.bernoulli)\n",
    "7. [torch.multinomial](#torch.multinomial)\n",
    "8. [torch.normal](#torch.normal)\n",
    "9. [torch.poisson](#torch.poisson)\n",
    "10. [torch.rand](#torch.rand)\n",
    "11. [torch.randint](#torch.randint)\n",
    "12. [torch.randn](#torch.randn)\n",
    "13. [torch.randperm](#torch.randperm)"
   ]
  },
  {
   "cell_type": "markdown",
   "id": "4a406d3b-016d-4293-878f-c44e726bc719",
   "metadata": {},
   "source": [
    "<a id=\"torch.generator\"></a>\n",
    "\n",
    "### 1. Class: torch.generator\n",
    "\n",
    "`Class: torch.generator(device='cpu')`\n",
    "\n",
    "Creates and returns a generator object that manages the state of the algorithm which produces pseudo random numbers. **Used as keyword argument in many in-place random sampling functions**."
   ]
  },
  {
   "cell_type": "code",
   "execution_count": 3,
   "id": "1100b2ef-9c05-43af-a168-607ef402b555",
   "metadata": {
    "tags": []
   },
   "outputs": [
    {
     "data": {
      "text/plain": [
       "device(type='cpu')"
      ]
     },
     "execution_count": 3,
     "metadata": {},
     "output_type": "execute_result"
    }
   ],
   "source": [
    "g_cpu = torch.Generator()\n",
    "g_cpu.device"
   ]
  },
  {
   "cell_type": "code",
   "execution_count": 4,
   "id": "9fb378c4-d033-4a68-b5f2-1703552fbc33",
   "metadata": {
    "tags": []
   },
   "outputs": [
    {
     "data": {
      "text/plain": [
       "device(type='cuda')"
      ]
     },
     "execution_count": 4,
     "metadata": {},
     "output_type": "execute_result"
    }
   ],
   "source": [
    "g_cuda = torch.Generator(device='cuda')\n",
    "g_cuda.device"
   ]
  },
  {
   "cell_type": "code",
   "execution_count": 7,
   "id": "30b931a0-f0b2-4f80-9230-03e79a97fd68",
   "metadata": {
    "tags": []
   },
   "outputs": [
    {
     "data": {
      "text/plain": [
       "tensor([  1, 209, 156, 241,  48,  61,   0,   0,   0,   0,   0,   0,   0,   0,\n",
       "          0,   0], dtype=torch.uint8)"
      ]
     },
     "execution_count": 7,
     "metadata": {},
     "output_type": "execute_result"
    }
   ],
   "source": [
    "# Returns the Generator state as torch.ByteTensor\n",
    "g_cuda.get_state()"
   ]
  },
  {
   "cell_type": "code",
   "execution_count": 8,
   "id": "e2b5b680-985b-414c-b524-2202c025cd24",
   "metadata": {
    "tags": []
   },
   "outputs": [
    {
     "data": {
      "text/plain": [
       "67280421310721"
      ]
     },
     "execution_count": 8,
     "metadata": {},
     "output_type": "execute_result"
    }
   ],
   "source": [
    "# Returns the initial seed for generating random numbers\n",
    "g_cuda.initial_seed()"
   ]
  },
  {
   "cell_type": "code",
   "execution_count": 9,
   "id": "03445bd0-2041-4dd5-8856-ae45b153fe41",
   "metadata": {
    "tags": []
   },
   "outputs": [
    {
     "data": {
      "text/plain": [
       "<torch._C.Generator at 0x7f7d0ed80f10>"
      ]
     },
     "execution_count": 9,
     "metadata": {},
     "output_type": "execute_result"
    }
   ],
   "source": [
    "# Sets the seed for generating random number. Returns a torch.Generator object. \n",
    "# Any 32-bit integer is a valid seed.\n",
    "g_cuda.manual_seed(2147483647)"
   ]
  },
  {
   "cell_type": "code",
   "execution_count": 10,
   "id": "784b13c5-3487-455c-a1cb-fdd00cc9bd91",
   "metadata": {
    "tags": []
   },
   "outputs": [
    {
     "data": {
      "text/plain": [
       "1016705855477323"
      ]
     },
     "execution_count": 10,
     "metadata": {},
     "output_type": "execute_result"
    }
   ],
   "source": [
    "# Gets a non-deterministic random number from std::random_device or the \n",
    "# current time and uses it to seed a Generator.\n",
    "g_cuda.seed()"
   ]
  },
  {
   "cell_type": "code",
   "execution_count": 11,
   "id": "dd4b480e-5b3b-4052-af71-28a5910d45b9",
   "metadata": {
    "tags": []
   },
   "outputs": [
    {
     "data": {
      "text/plain": [
       "<torch._C.Generator at 0x7f7d0ed0d1f0>"
      ]
     },
     "execution_count": 11,
     "metadata": {},
     "output_type": "execute_result"
    }
   ],
   "source": [
    "# Sets the Generator state\n",
    "g_cpu = torch.Generator()\n",
    "g_cpu_other = torch.Generator()\n",
    "g_cpu.set_state(g_cpu_other.get_state())"
   ]
  },
  {
   "cell_type": "markdown",
   "id": "ba9b2537-09c8-49cd-9452-c9020dc940a6",
   "metadata": {},
   "source": [
    "<a id=\"torch.seed\"></a>\n",
    "### 1. torch.seed\n",
    "\n",
    "`torch.seed()`\n",
    "\n",
    "Sets the seed for generating random numbers to a non-deterministic random number. Returns a 64 bit number used to seed the RNG (random number generator)."
   ]
  },
  {
   "cell_type": "code",
   "execution_count": 14,
   "id": "049394eb-8a02-4d03-adaa-2ce6f963d5d9",
   "metadata": {
    "tags": []
   },
   "outputs": [
    {
     "data": {
      "text/plain": [
       "14995703360055430402"
      ]
     },
     "execution_count": 14,
     "metadata": {},
     "output_type": "execute_result"
    }
   ],
   "source": [
    "torch.seed()"
   ]
  },
  {
   "cell_type": "markdown",
   "id": "5866448f-0258-45a0-9823-45bf71c4f261",
   "metadata": {},
   "source": [
    "<a id=\"torch.manual_seed\"></a>\n",
    "\n",
    "### 2. torch.manual_seed\n",
    "\n",
    "`torch.manual_seed(seed)`\n",
    "\n",
    "Sets the seed for generating random numbers. Returns a torch.Generator object."
   ]
  },
  {
   "cell_type": "code",
   "execution_count": 15,
   "id": "393a5193-81c4-4f79-ada2-ddd483374c86",
   "metadata": {
    "tags": []
   },
   "outputs": [
    {
     "data": {
      "text/plain": [
       "<torch._C.Generator at 0x7f7e866b29b0>"
      ]
     },
     "execution_count": 15,
     "metadata": {},
     "output_type": "execute_result"
    }
   ],
   "source": [
    "torch.manual_seed(42)"
   ]
  },
  {
   "cell_type": "markdown",
   "id": "2d8bdaf2-7acd-4ef3-bd91-2fa0b8bf5926",
   "metadata": {},
   "source": [
    "<a id=\"torch.initial_seed\"></a>\n",
    "\n",
    "### 3. torch.initial_seed\n",
    "\n",
    "`torch.initial_seed()`\n",
    "\n",
    "Returns the initial seed for generating random numbers as a Python long."
   ]
  },
  {
   "cell_type": "code",
   "execution_count": 16,
   "id": "a10dc192-d0d0-4250-8c39-949ba55d1a5c",
   "metadata": {
    "tags": []
   },
   "outputs": [
    {
     "data": {
      "text/plain": [
       "42"
      ]
     },
     "execution_count": 16,
     "metadata": {},
     "output_type": "execute_result"
    }
   ],
   "source": [
    "torch.initial_seed()"
   ]
  },
  {
   "cell_type": "markdown",
   "id": "8f3b609a-f31d-4bfc-bacb-02a908bd26a3",
   "metadata": {},
   "source": [
    "<a id=\"torch.get_rng_state\"></a>\n",
    "\n",
    "### 4. torch.get_rng_state\n",
    "\n",
    "`torch.get_rng_state()`\n",
    "\n",
    "Returns the random number generator state as torch.ByteTensor"
   ]
  },
  {
   "cell_type": "code",
   "execution_count": 19,
   "id": "5143bcc4-353d-4fbb-901b-c0958e659d38",
   "metadata": {
    "tags": []
   },
   "outputs": [
    {
     "data": {
      "text/plain": [
       "torch.Size([5056])"
      ]
     },
     "execution_count": 19,
     "metadata": {},
     "output_type": "execute_result"
    }
   ],
   "source": [
    "torch.get_rng_state().shape"
   ]
  },
  {
   "cell_type": "markdown",
   "id": "c492f39f-070c-4527-8f1e-be2d8ebdfe2c",
   "metadata": {},
   "source": [
    "<a id=\"torch.set_rng_state\"></a>\n",
    "\n",
    "### 5. torch.set_rng_state\n",
    "\n",
    "`torch.set_rng_state(new_state)`\n",
    "\n",
    "Sets the random number generator state"
   ]
  },
  {
   "cell_type": "code",
   "execution_count": 39,
   "id": "a033b4ab-56cd-493f-8f6d-4a07a5a1d00a",
   "metadata": {
    "tags": []
   },
   "outputs": [],
   "source": [
    "torch.set_rng_state(g_cpu.get_state())"
   ]
  },
  {
   "cell_type": "markdown",
   "id": "fae09c52-5f77-4865-8df0-1cb97dac77b4",
   "metadata": {},
   "source": [
    "<a id=\"torch.bernoulli\"></a>\n",
    "\n",
    "### 6. torch.bernoulli\n",
    "\n",
    "`torch.bernoulli(input, *, generator=None, out=None) -> Tensor`\n",
    "\n",
    "Draws binary random numbers (0 or 1) from a Bernoulli distribution.\n",
    "\n",
    "The `input` tensor should be a tensor containing probabilities to be used for drawing the binary random number. Hence, all values in `input` have to be in the range: $0 \\le input_i \\le 1$.\n",
    "\n",
    "The $i^{th}$ element of the output tensor will draw a value 1 according to the $i^{th}$ probability value given in `input`.\n",
    "\n",
    "$$\n",
    "out_i \\sim Bernoulli(p=input_i)\n",
    "$$\n",
    "\n",
    "The returned `out` tensor only has values 0 or 1 and is of the same shape as `input`. "
   ]
  },
  {
   "cell_type": "code",
   "execution_count": 52,
   "id": "833b4db1-25ca-46ae-9584-35580b87efd9",
   "metadata": {
    "tags": []
   },
   "outputs": [
    {
     "data": {
      "text/plain": [
       "tensor([[0.2047, 0.9528, 0.3145],\n",
       "        [0.9922, 0.6106, 0.8596],\n",
       "        [0.1772, 0.9590, 0.0039]])"
      ]
     },
     "execution_count": 52,
     "metadata": {},
     "output_type": "execute_result"
    }
   ],
   "source": [
    "a = torch.empty(3, 3).uniform_(0, 1) #generat a uniform random matrix with range [0, 1]\n",
    "a"
   ]
  },
  {
   "cell_type": "code",
   "execution_count": 53,
   "id": "9342a765-2975-4791-ac6b-1059a175d4a6",
   "metadata": {
    "tags": []
   },
   "outputs": [
    {
     "data": {
      "text/plain": [
       "tensor([[1., 1., 0.],\n",
       "        [1., 1., 1.],\n",
       "        [0., 1., 0.]])"
      ]
     },
     "execution_count": 53,
     "metadata": {},
     "output_type": "execute_result"
    }
   ],
   "source": [
    "torch.bernoulli(a)"
   ]
  },
  {
   "cell_type": "code",
   "execution_count": 54,
   "id": "7bebcf5b-5022-4c8b-adaa-d10faabc1afc",
   "metadata": {
    "tags": []
   },
   "outputs": [
    {
     "data": {
      "text/plain": [
       "tensor([[1., 1., 1.],\n",
       "        [1., 1., 1.],\n",
       "        [1., 1., 1.]])"
      ]
     },
     "execution_count": 54,
     "metadata": {},
     "output_type": "execute_result"
    }
   ],
   "source": [
    "a = torch.ones(3, 3) # probability of drawing \"1\" is 1\n",
    "torch.bernoulli(a)"
   ]
  },
  {
   "cell_type": "code",
   "execution_count": 55,
   "id": "1745aa90-f7d4-4eae-9cb5-118bcdd20a7b",
   "metadata": {
    "tags": []
   },
   "outputs": [
    {
     "data": {
      "text/plain": [
       "tensor([[0., 0., 0.],\n",
       "        [0., 0., 0.],\n",
       "        [0., 0., 0.]])"
      ]
     },
     "execution_count": 55,
     "metadata": {},
     "output_type": "execute_result"
    }
   ],
   "source": [
    "a = torch.zeros(3, 3) # probability of drawing \"1\" is 0\n",
    "torch.bernoulli(a)"
   ]
  },
  {
   "cell_type": "markdown",
   "id": "25ffcb40-783c-443f-9665-fedf77fcba4f",
   "metadata": {},
   "source": [
    "<a id=\"torch.multinomial\"></a>\n",
    "\n",
    "### 7. torch.multinomial\n",
    "\n",
    "`torch.multinomial(input, num_sample, replacement=False, *, generator=None, out=None) -> LongTensor`\n",
    "\n",
    "Returns a tensor where each row contains `num_samples` indices sampled from the multinomial probability distribution located in the corresponding row of tensor `input`.\n",
    "\n",
    "Indices are ordered from left to right according to when each was sampled (first samples are placed in first column).\n",
    "\n",
    "If `input` is a vector, `out` is a vector of size `num_samples`.\n",
    "\n",
    "If `input` is a matrix with $m$ rows, `out` is an matrix of shape ($m \\times num\\_samples$).\n",
    "\n",
    "If replacement is `True`, samples are drawn with replacement. If not, they are drawn without replacement, which means that when a sample index is drawn for a row, it cannot be drawn again for that row."
   ]
  },
  {
   "cell_type": "code",
   "execution_count": 73,
   "id": "6f59f514-054b-479a-804e-da90112c7d8e",
   "metadata": {
    "tags": []
   },
   "outputs": [
    {
     "data": {
      "text/plain": [
       "tensor([1, 2])"
      ]
     },
     "execution_count": 73,
     "metadata": {},
     "output_type": "execute_result"
    }
   ],
   "source": [
    "weights = torch.tensor([0, 10, 3, 0], dtype=torch.float) #dtype must be float\n",
    "torch.multinomial(weights, 2)"
   ]
  },
  {
   "cell_type": "code",
   "execution_count": 74,
   "id": "4e971088-535d-4fb4-a86a-8ee3bd5b7837",
   "metadata": {
    "tags": []
   },
   "outputs": [
    {
     "data": {
      "text/plain": [
       "tensor([2, 1, 0, 3])"
      ]
     },
     "execution_count": 74,
     "metadata": {},
     "output_type": "execute_result"
    }
   ],
   "source": [
    "torch.multinomial(weights, 4) "
   ]
  },
  {
   "cell_type": "markdown",
   "id": "ca39e672-0b38-4163-9c12-e7dd99fe9add",
   "metadata": {},
   "source": [
    "<a id=\"torch.normal\"></a>\n",
    "\n",
    "### 8. torch.normal\n",
    "\n",
    "`torch.normal(mean, std, *, generator=None, out=None) -> Tensor`\n",
    "\n",
    "Returns a tensor of random numbers drawn from seperate normal distributions whose mean and standard deviation are given.\n",
    "\n",
    "The `mean` is tensor with the mean of each output element's normal distribution.\n",
    "The `std` is a tensor with standard deviation of each output element's normal distribution. \n",
    "\n",
    "The shapes of `mean` and `std` don't need to match, but the total number of elements in each tensor need to be the same."
   ]
  },
  {
   "cell_type": "code",
   "execution_count": 75,
   "id": "4e2f03c3-dc8e-4f91-ba7e-7835f331db6d",
   "metadata": {
    "tags": []
   },
   "outputs": [
    {
     "data": {
      "text/plain": [
       "tensor([1.0000, 0.9000, 0.8000, 0.7000, 0.6000, 0.5000, 0.4000, 0.3000, 0.2000,\n",
       "        0.1000])"
      ]
     },
     "execution_count": 75,
     "metadata": {},
     "output_type": "execute_result"
    }
   ],
   "source": [
    "torch.arange(1, 0, -0.1)"
   ]
  },
  {
   "cell_type": "code",
   "execution_count": 76,
   "id": "4dfbaeff-b884-4833-a425-32fbd3b53e6f",
   "metadata": {
    "tags": []
   },
   "outputs": [
    {
     "data": {
      "text/plain": [
       "tensor([ 1.,  2.,  3.,  4.,  5.,  6.,  7.,  8.,  9., 10.])"
      ]
     },
     "execution_count": 76,
     "metadata": {},
     "output_type": "execute_result"
    }
   ],
   "source": [
    "torch.arange(1., 11.)"
   ]
  },
  {
   "cell_type": "code",
   "execution_count": 77,
   "id": "d4912e06-220e-43e8-8335-13e72829259f",
   "metadata": {
    "tags": []
   },
   "outputs": [
    {
     "data": {
      "text/plain": [
       "tensor([0.3453, 3.1888, 3.5154, 2.9225, 4.8806, 6.4998, 6.8195, 8.0887, 9.1703,\n",
       "        9.9702])"
      ]
     },
     "execution_count": 77,
     "metadata": {},
     "output_type": "execute_result"
    }
   ],
   "source": [
    "torch.normal(mean=torch.arange(1., 11.), std=torch.arange(1, 0, -0.1))"
   ]
  },
  {
   "cell_type": "markdown",
   "id": "f72085a6-3aa8-4302-8c29-6a1eae06f8d3",
   "metadata": {},
   "source": [
    "`torch.normal(mean=0.0, std, *. out=None) -> Tensor`\n",
    "\n",
    "Similar to the function above, but the means are shared among all drawn elements."
   ]
  },
  {
   "cell_type": "code",
   "execution_count": 78,
   "id": "497f0d63-7d64-4997-b0b5-237a0beb96e1",
   "metadata": {
    "tags": []
   },
   "outputs": [
    {
     "data": {
      "text/plain": [
       "tensor([-1.1380, -0.3907,  0.0495,  0.3620, -0.3351,  0.0270, -0.3812, -0.2307,\n",
       "        -0.2955, -0.0478])"
      ]
     },
     "execution_count": 78,
     "metadata": {},
     "output_type": "execute_result"
    }
   ],
   "source": [
    "torch.normal(mean=0.0, std=torch.arange(1, 0, -0.1))"
   ]
  },
  {
   "cell_type": "markdown",
   "id": "ec917a27-439b-40e4-8d94-611124f32efc",
   "metadata": {},
   "source": [
    "`torch.normal(mean, std=1.0, *, out=None) -> Tensor`\n",
    "\n",
    "Similar to the function above, but the standard deviations are shared among all drawn elements."
   ]
  },
  {
   "cell_type": "code",
   "execution_count": 80,
   "id": "54b60138-11d0-4968-980f-ddb30007031b",
   "metadata": {
    "tags": []
   },
   "outputs": [
    {
     "data": {
      "text/plain": [
       "tensor([1.4169, 3.2619, 2.6796, 4.2100, 4.7874])"
      ]
     },
     "execution_count": 80,
     "metadata": {},
     "output_type": "execute_result"
    }
   ],
   "source": [
    "torch.normal(mean=torch.arange(1., 6.), std=1.0)"
   ]
  },
  {
   "cell_type": "markdown",
   "id": "c3f79fe0-5fd8-4b39-a39f-8fded4c2aa18",
   "metadata": {},
   "source": [
    "`torch.normal(mean, std, size, *, out=None) -> Tensor`\n",
    "\n",
    "Similar to the function above, but the means and standard deviations are shared among all drawn elements. The resulting tensor has size given by `size`"
   ]
  },
  {
   "cell_type": "code",
   "execution_count": 81,
   "id": "11656570-d9e7-45d7-9334-9bef8c121de3",
   "metadata": {
    "tags": []
   },
   "outputs": [
    {
     "data": {
      "text/plain": [
       "tensor([[-2.5498,  4.8837,  4.9624,  2.6168]])"
      ]
     },
     "execution_count": 81,
     "metadata": {},
     "output_type": "execute_result"
    }
   ],
   "source": [
    "torch.normal(2, 3, size=(1,4))"
   ]
  },
  {
   "cell_type": "markdown",
   "id": "e6c44bc6-2aa9-4c89-8343-55e27f96c36d",
   "metadata": {},
   "source": [
    "<a id=\"torch.poisson\"></a>\n",
    "\n",
    "### 9. torch.poisson\n",
    "\n",
    "`torch.poisson(input, generator=None) -> Tensor`\n",
    "\n",
    "Returns a tensor of the same size as `input` with each element sampled from a Poisson distribution with rate parameter given by the corresponding element in `input` i.e:\n",
    "\n",
    "$$\n",
    "out_i \\sim Poisson(input_i)\n",
    "$$\n",
    "\n",
    "`input` must be non-negative.\n"
   ]
  },
  {
   "cell_type": "code",
   "execution_count": 89,
   "id": "aa8ccbff-a45e-483d-9ace-fe88859ba6e3",
   "metadata": {
    "tags": []
   },
   "outputs": [
    {
     "data": {
      "text/plain": [
       "tensor([[3., 4., 4., 3.],\n",
       "        [6., 0., 3., 0.],\n",
       "        [1., 2., 1., 0.],\n",
       "        [0., 4., 2., 1.]])"
      ]
     },
     "execution_count": 89,
     "metadata": {},
     "output_type": "execute_result"
    }
   ],
   "source": [
    "rates = torch.rand(4, 4) * 5 # rate parameters between 0 and 5\n",
    "torch.poisson(rates)"
   ]
  },
  {
   "cell_type": "markdown",
   "id": "537c38e1-a3b8-4f56-a833-adcb7d3a8a48",
   "metadata": {},
   "source": [
    "<a id=\"torch.rand\"></a>\n",
    "\n",
    "### 10. torch.rand\n",
    "\n",
    "`torch.rand(*size, *, generator=None, out=None, dtype=None, layout=torch.strided, device=None, requires_grad=False, pin_memory=False) -> Tensor`\n",
    "            \n",
    "Returns a tensor filled with random numbers from a uniform distribution on the interval $[0, 1)$.\n",
    "\n",
    "The shape of tensor is defined by the variable argument `size`"
   ]
  },
  {
   "cell_type": "code",
   "execution_count": 90,
   "id": "d92e3884-7be2-485e-ad0c-9cb94eeba4ac",
   "metadata": {
    "tags": []
   },
   "outputs": [
    {
     "data": {
      "text/plain": [
       "tensor([0.3450, 0.7429, 0.8334, 0.2884])"
      ]
     },
     "execution_count": 90,
     "metadata": {},
     "output_type": "execute_result"
    }
   ],
   "source": [
    "torch.rand(4)"
   ]
  },
  {
   "cell_type": "code",
   "execution_count": 91,
   "id": "7364e619-6599-44ee-b969-170ec24e8790",
   "metadata": {
    "tags": []
   },
   "outputs": [
    {
     "data": {
      "text/plain": [
       "tensor([[0.1206, 0.7434, 0.4270],\n",
       "        [0.3401, 0.9584, 0.6717]])"
      ]
     },
     "execution_count": 91,
     "metadata": {},
     "output_type": "execute_result"
    }
   ],
   "source": [
    "torch.rand(2, 3)"
   ]
  },
  {
   "cell_type": "markdown",
   "id": "edfc039d-4301-49c5-a08c-8c3af566b5f2",
   "metadata": {},
   "source": [
    "`torch.rand_like(input, *, dtype=None, layout=None, device=None,requires_grad=False, memory_format=torch.preserve_format) → Tensor`\n",
    "\n",
    "Returns a tensor with the same size as `input` that is filled with random numbers from a uniform distribution on the interval $[0, 1)$. `torch.rand_like(input)` is equivalent to `torch.rand(input.size(), dtype=input.dtype, layout=input.layout, device=input.device)`."
   ]
  },
  {
   "cell_type": "markdown",
   "id": "934fbeb1-d863-4378-977e-32196fffbeeb",
   "metadata": {},
   "source": [
    "<a id=\"torch.randint\"></a>\n",
    "\n",
    "### 11. torch.randint\n",
    "\n",
    "`torch.randint(low=0, high, size, \\*, generator=None, out=None, dtype=None, layout=torch.strided, device=None, requires_grad=False) → Tensor`\n",
    "\n",
    "Returns a tensor filled with random integers generated uniformly between `low` (inclusive) and `high` (exclusive).\n",
    "\n",
    "The shape of the tensor is defined by the variable argument `size`. "
   ]
  },
  {
   "cell_type": "code",
   "execution_count": 92,
   "id": "f5d4805c-de29-42cb-bb61-456dc7979b00",
   "metadata": {
    "tags": []
   },
   "outputs": [
    {
     "data": {
      "text/plain": [
       "tensor([4, 3, 3])"
      ]
     },
     "execution_count": 92,
     "metadata": {},
     "output_type": "execute_result"
    }
   ],
   "source": [
    "torch.randint(3, 5, (3,))"
   ]
  },
  {
   "cell_type": "code",
   "execution_count": 94,
   "id": "630cf5de-2edd-459a-a776-11d670ca83e9",
   "metadata": {
    "tags": []
   },
   "outputs": [
    {
     "data": {
      "text/plain": [
       "tensor([[5, 8],\n",
       "        [9, 0]])"
      ]
     },
     "execution_count": 94,
     "metadata": {},
     "output_type": "execute_result"
    }
   ],
   "source": [
    "torch.randint(10, (2,2))"
   ]
  },
  {
   "cell_type": "code",
   "execution_count": 95,
   "id": "38d64286-53d5-4479-b29c-5eb79afd3191",
   "metadata": {
    "tags": []
   },
   "outputs": [
    {
     "data": {
      "text/plain": [
       "tensor([[4, 9],\n",
       "        [3, 4]])"
      ]
     },
     "execution_count": 95,
     "metadata": {},
     "output_type": "execute_result"
    }
   ],
   "source": [
    "torch.randint(3, 10, (2,2))"
   ]
  },
  {
   "cell_type": "markdown",
   "id": "918cf916-86bc-4ac9-b9d5-b075db65771c",
   "metadata": {},
   "source": [
    "also `torch.randint_like(input, low=0, high, size, \\*, generator=None, out=None, dtype=None, layout=torch.strided, device=None, requires_grad=False) → Tensor`\n",
    "\n",
    "Returns a tensor with the same shape as Tensor input filled with random integers generated uniformly between low (inclusive) and high (exclusive)."
   ]
  },
  {
   "cell_type": "markdown",
   "id": "596c4b53-207e-4915-8656-83f8377ffb4f",
   "metadata": {},
   "source": [
    "<a id=\"torch.randn\"></a>\n",
    "\n",
    "### 12. torch.randn\n",
    "\n",
    "`torch.randn(*size, *, generator=None, out=None, dtype=None, layout=torch.strided, device=None, requires_grad=False, pin_memory=False) → Tensor`\n",
    "\n",
    "Returns a tensor filled with random numbers from a normal distribution with mean 0 and variance 1 (also called the standard normal dist).\n",
    "\n",
    "$$\n",
    "out_i \\sim \\mathcal{N}(0,\\,1)\n",
    "$$\n",
    "\n",
    "The shape of the tensor is defined by the variable argument `size`."
   ]
  },
  {
   "cell_type": "code",
   "execution_count": 96,
   "id": "a5022f40-de6d-47bd-bacb-8d36920f744d",
   "metadata": {
    "tags": []
   },
   "outputs": [
    {
     "data": {
      "text/plain": [
       "tensor([ 0.3194,  0.8025,  1.8042, -1.4461])"
      ]
     },
     "execution_count": 96,
     "metadata": {},
     "output_type": "execute_result"
    }
   ],
   "source": [
    "torch.randn(4)"
   ]
  },
  {
   "cell_type": "code",
   "execution_count": 97,
   "id": "72f1f44c-e9a6-449f-9e81-abae85c1779a",
   "metadata": {
    "tags": []
   },
   "outputs": [
    {
     "data": {
      "text/plain": [
       "tensor([[ 0.4332,  0.6514, -0.1746],\n",
       "        [ 0.6550,  0.6287, -3.2408]])"
      ]
     },
     "execution_count": 97,
     "metadata": {},
     "output_type": "execute_result"
    }
   ],
   "source": [
    "torch.randn(2,3)"
   ]
  },
  {
   "cell_type": "markdown",
   "id": "efd0c068-b24f-4722-980c-8ec98f8aab48",
   "metadata": {},
   "source": [
    "also `torch.randn_like(input, *, dtype=None, layout=None, device=None, requires_grad=False, memory_format=torch.preserve_format) → Tensor`\n",
    "\n",
    "Returns a tensor with the same size as input that is filled with random numbers from a normal distribution with mean 0 and variance 1. `torch.randn_like(input)` is equivalent to `torch.randn(input.size(), dtype=input.dtype, layout=input.layout, device=input.device)`."
   ]
  },
  {
   "cell_type": "markdown",
   "id": "d4a52a37-6d1a-4297-8cb2-3d118d885228",
   "metadata": {},
   "source": [
    "<a id=\"torch.randperm\"></a>\n",
    "\n",
    "### 13. torch.randperm\n",
    "\n",
    "`torch.randperm(n, *, generator=None, out=None, dtype=torch.int64, layout=torch.strided, device=None, requires_grad=False, pin_memory=False) -> Tensor`\n",
    "\n",
    "Returns a random permutation of integers from `0` to `n - 1`"
   ]
  },
  {
   "cell_type": "code",
   "execution_count": 98,
   "id": "c1bd586b-6e98-4ecc-b5ec-56c10590a5b2",
   "metadata": {
    "tags": []
   },
   "outputs": [
    {
     "data": {
      "text/plain": [
       "tensor([2, 3, 1, 0])"
      ]
     },
     "execution_count": 98,
     "metadata": {},
     "output_type": "execute_result"
    }
   ],
   "source": [
    "torch.randperm(4)"
   ]
  },
  {
   "cell_type": "code",
   "execution_count": 99,
   "id": "4f41a61d-be6d-4994-9ca5-224a23201cf4",
   "metadata": {
    "tags": []
   },
   "outputs": [
    {
     "data": {
      "text/plain": [
       "tensor([5, 7, 3, 6, 0, 2, 8, 4, 1, 9])"
      ]
     },
     "execution_count": 99,
     "metadata": {},
     "output_type": "execute_result"
    }
   ],
   "source": [
    "torch.randperm(10)"
   ]
  },
  {
   "cell_type": "code",
   "execution_count": null,
   "id": "2c014966-da63-4caf-9467-8e4b059fe279",
   "metadata": {},
   "outputs": [],
   "source": []
  }
 ],
 "metadata": {
  "kernelspec": {
   "display_name": "augment",
   "language": "python",
   "name": "augmentation-project"
  },
  "language_info": {
   "codemirror_mode": {
    "name": "ipython",
    "version": 3
   },
   "file_extension": ".py",
   "mimetype": "text/x-python",
   "name": "python",
   "nbconvert_exporter": "python",
   "pygments_lexer": "ipython3",
   "version": "3.9.18"
  }
 },
 "nbformat": 4,
 "nbformat_minor": 5
}
