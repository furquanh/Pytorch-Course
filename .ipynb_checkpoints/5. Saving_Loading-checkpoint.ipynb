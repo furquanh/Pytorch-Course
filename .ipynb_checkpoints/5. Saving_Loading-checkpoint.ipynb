{
 "cells": [
  {
   "cell_type": "code",
   "execution_count": 1,
   "id": "257893d1-6c4e-4008-bba4-7bb887913fd6",
   "metadata": {
    "tags": []
   },
   "outputs": [],
   "source": [
    "import torch"
   ]
  },
  {
   "cell_type": "markdown",
   "id": "44be202c-b971-4be6-a392-597f152649b8",
   "metadata": {},
   "source": [
    "### torch.save\n",
    "\n",
    "`torch.save(obj, f, pickle_module=pickle, pickle_protocol=DEFAULT_PROTOCOL, \n",
    "_use_new_zipfile_serialization=True)`"
   ]
  },
  {
   "cell_type": "markdown",
   "id": "3a382b49-942f-411b-ae5a-92812f0b4f8d",
   "metadata": {},
   "source": [
    "Saves an object to a disk file.\n",
    "\n",
    "**Note**: A common Pytorch convention is to save tensors using .pt file extension."
   ]
  },
  {
   "cell_type": "code",
   "execution_count": 3,
   "id": "2c569b83-fbd1-40c6-bf18-25f8aaeb9cfe",
   "metadata": {
    "tags": []
   },
   "outputs": [],
   "source": [
    "# Save to file\n",
    "x = torch.tensor([0, 1, 2, 3, 4])\n",
    "torch.save(x, 'tensor.pt')"
   ]
  },
  {
   "cell_type": "code",
   "execution_count": 5,
   "id": "ae176dbd-05ff-4328-a1ed-63ecac7d598b",
   "metadata": {
    "tags": []
   },
   "outputs": [],
   "source": [
    "# Save to io.BytesIO buffer\n",
    "import io\n",
    "buffer = io.BytesIO()\n",
    "torch.save(x, buffer)"
   ]
  },
  {
   "cell_type": "markdown",
   "id": "a35f4204-0243-4789-b87f-b8efd781b4e8",
   "metadata": {},
   "source": [
    "### torch.load\n",
    "\n",
    "`torch.load(f, map_location=None, pickle_module=pickle, *, weights_only=False, mmap=None, **pickl_load_args)`\n",
    "\n",
    "Loads an object saved with `torch.save()` from a file."
   ]
  },
  {
   "cell_type": "code",
   "execution_count": 7,
   "id": "a9520fbe-5b93-4ca4-80ae-8933100fe1b1",
   "metadata": {
    "tags": []
   },
   "outputs": [
    {
     "data": {
      "text/plain": [
       "tensor([0, 1, 2, 3, 4])"
      ]
     },
     "execution_count": 7,
     "metadata": {},
     "output_type": "execute_result"
    }
   ],
   "source": [
    "tensor_loaded_back = torch.load('tensor.pt')\n",
    "tensor_loaded_back"
   ]
  },
  {
   "cell_type": "markdown",
   "id": "6384f36a-f5e6-4ea9-817c-f09f41428b3b",
   "metadata": {},
   "source": [
    "`torch.load()` uses Python's unpickling facilities but treats storages, which underlie tensors, specially.\n",
    "\n",
    "They are first desearialized on the CPU and are then moved to the device they were saved from. If this fails (e.g. because the run time systems does'nt have certain devices), an exception is raised. However, storages can be dynamically remapped to an alternative set of devices using `map_location` argument.\n",
    "\n",
    "If `map_location` is a callable, it will be called once for each serialized storage with two arguments: storage and location. The storage argument will be the initial deserialization of the storage, residing on the CPU. Each serialized storage has a location tag associated with it which identifies the device it was saved from, and this tag is the second argument passed to `map_location`. The builtin location tags are `'cpu'` for CPU tensors and `'cuda:device_id'` (e.g. `'cuda:2'`) for CUDA tensors. `map_location` should return either `None` or a storage, it will be used as the final deserialized object, already moved to the right device. *Otherwise, `torch.load()` will fall back to the default behaviour, as if `map_location` wasn't specified.*\n",
    "\n",
    "If `map_location` is `torch.device` object or a string containing a device tag, it indicates the location where all tensors should be loaded.\n",
    "\n",
    "Otherwise, if `map_location` is dict, it will be used to remap location tags appearing in the file (keys), to ones that specify where to put the storages (values).\n",
    "\n",
    "*Note*: User extensions can register their own location tags and tagging and deserialization methods using `torch.serialization.register_package()`."
   ]
  },
  {
   "cell_type": "code",
   "execution_count": 10,
   "id": "6ac299b4-9103-402c-93d6-56cef069ba47",
   "metadata": {
    "tags": []
   },
   "outputs": [
    {
     "data": {
      "text/plain": [
       "tensor([0, 1, 2, 3, 4])"
      ]
     },
     "execution_count": 10,
     "metadata": {},
     "output_type": "execute_result"
    }
   ],
   "source": [
    "# loded all tensors onto the CPU\n",
    "tensor_loaded_back = torch.load('tensor.pt', map_location=torch.device('cpu'))\n",
    "tensor_loaded_back"
   ]
  },
  {
   "cell_type": "code",
   "execution_count": 11,
   "id": "4db3db29-3883-4947-bb84-163f13cd282c",
   "metadata": {
    "tags": []
   },
   "outputs": [
    {
     "data": {
      "text/plain": [
       "tensor([0, 1, 2, 3, 4])"
      ]
     },
     "execution_count": 11,
     "metadata": {},
     "output_type": "execute_result"
    }
   ],
   "source": [
    "# loded all tensors onto the CPU, using a function\n",
    "tensor_loaded_back = torch.load('tensor.pt', map_location=lambda storage, loc: storage)\n",
    "tensor_loaded_back"
   ]
  },
  {
   "cell_type": "code",
   "execution_count": 12,
   "id": "d58723a0-4651-4d79-b438-8689cee74802",
   "metadata": {
    "tags": []
   },
   "outputs": [
    {
     "data": {
      "text/plain": [
       "tensor([0, 1, 2, 3, 4], device='cuda:1')"
      ]
     },
     "execution_count": 12,
     "metadata": {},
     "output_type": "execute_result"
    }
   ],
   "source": [
    "# loded all tensors onto the GPU 1, using a function\n",
    "tensor_loaded_back = torch.load('tensor.pt', map_location=lambda storage, \n",
    "                                loc: storage.cuda(1))\n",
    "tensor_loaded_back"
   ]
  },
  {
   "cell_type": "code",
   "execution_count": 19,
   "id": "f5943ad4-17e8-48aa-91e8-d3c167489906",
   "metadata": {
    "tags": []
   },
   "outputs": [
    {
     "data": {
      "text/plain": [
       "tensor([0, 1, 2, 3, 4])"
      ]
     },
     "execution_count": 19,
     "metadata": {},
     "output_type": "execute_result"
    }
   ],
   "source": [
    "# Load tensor from io.BytesIO object\n",
    "with open('tensor.pt', 'rb') as f:\n",
    "    buffer = io.BytesIO(f.read())\n",
    "\n",
    "loaded_from_buffer = torch.load(buffer)\n",
    "loaded_from_buffer"
   ]
  },
  {
   "cell_type": "code",
   "execution_count": 21,
   "id": "8fe53b1e-84d6-423b-865f-92aecaeec4e6",
   "metadata": {
    "tags": []
   },
   "outputs": [
    {
     "data": {
      "text/plain": [
       "tensor([0, 1, 2, 3, 4])"
      ]
     },
     "execution_count": 21,
     "metadata": {},
     "output_type": "execute_result"
    }
   ],
   "source": [
    "# Load a module with 'ascii' encoding for unpickling\n",
    "torch.load('tensor.pt', encoding='ascii')"
   ]
  },
  {
   "cell_type": "code",
   "execution_count": null,
   "id": "232c59c5-dc6d-425c-a110-4258637d4460",
   "metadata": {},
   "outputs": [],
   "source": []
  }
 ],
 "metadata": {
  "kernelspec": {
   "display_name": "augment",
   "language": "python",
   "name": "augmentation-project"
  },
  "language_info": {
   "codemirror_mode": {
    "name": "ipython",
    "version": 3
   },
   "file_extension": ".py",
   "mimetype": "text/x-python",
   "name": "python",
   "nbconvert_exporter": "python",
   "pygments_lexer": "ipython3",
   "version": "3.9.18"
  }
 },
 "nbformat": 4,
 "nbformat_minor": 5
}
